{
  "cells": [
    {
      "cell_type": "code",
      "execution_count": null,
      "metadata": {
        "colab": {
          "base_uri": "https://localhost:8080/"
        },
        "id": "zc_f_ADcR7eN",
        "outputId": "02026385-e448-4353-89df-24bc20b6d946"
      },
      "outputs": [
        {
          "name": "stdout",
          "output_type": "stream",
          "text": [
            "Drive already mounted at /content/drive; to attempt to forcibly remount, call drive.mount(\"/content/drive\", force_remount=True).\n"
          ]
        }
      ],
      "source": [
        "from google.colab import drive\n",
        "drive.mount('/content/drive')"
      ]
    },
    {
      "cell_type": "code",
      "execution_count": null,
      "metadata": {
        "id": "Nvm5TJtdScyu"
      },
      "outputs": [],
      "source": [
        "import numpy as np\n",
        "import matplotlib.pyplot as plt\n",
        "import matplotlib as mpl\n",
        "import seaborn as sns\n",
        "import pandas as pd"
      ]
    },
    {
      "cell_type": "code",
      "execution_count": null,
      "metadata": {
        "colab": {
          "base_uri": "https://localhost:8080/"
        },
        "id": "N3TFFICwX0p0",
        "outputId": "06d1bb19-af25-483b-e7a5-7391322fb2ea"
      },
      "outputs": [
        {
          "name": "stdout",
          "output_type": "stream",
          "text": [
            "'DP-1-stage 1_1.pptx'   face_phy.csv\t new_dataset.csv\n",
            " face_behave.csv        gsr.csv\t\t'physiological signals and facial expression.docx'\n",
            " face.csv\t        hr.csv\t\t Stress_detection.ipynb\n",
            " face_gsr.csv\t        hr_gsr.csv\n",
            " face_hr.csv\t        IMPLEMENTATION\n"
          ]
        }
      ],
      "source": [
        "\n",
        "!ls \"/content/drive/My Drive/BDA_Project/BDA_Project\""
      ]
    },
    {
      "cell_type": "code",
      "execution_count": null,
      "metadata": {
        "colab": {
          "base_uri": "https://localhost:8080/",
          "height": 273
        },
        "id": "xxKmKJXAW8ap",
        "outputId": "90b1ee8b-4e29-4d4a-8fa0-546c0766c46b"
      },
      "outputs": [
        {
          "data": {
            "text/html": [
              "\n",
              "  <div id=\"df-fc3d0fa8-ed54-4b24-8b3e-a65dac3da788\" class=\"colab-df-container\">\n",
              "    <div>\n",
              "<style scoped>\n",
              "    .dataframe tbody tr th:only-of-type {\n",
              "        vertical-align: middle;\n",
              "    }\n",
              "\n",
              "    .dataframe tbody tr th {\n",
              "        vertical-align: top;\n",
              "    }\n",
              "\n",
              "    .dataframe thead th {\n",
              "        text-align: right;\n",
              "    }\n",
              "</style>\n",
              "<table border=\"1\" class=\"dataframe\">\n",
              "  <thead>\n",
              "    <tr style=\"text-align: right;\">\n",
              "      <th></th>\n",
              "      <th>pp</th>\n",
              "      <th>Condition</th>\n",
              "      <th>HR</th>\n",
              "      <th>RMSSD</th>\n",
              "      <th>SCL</th>\n",
              "      <th>Unnamed: 5</th>\n",
              "      <th>Unnamed: 6</th>\n",
              "      <th>Unnamed: 7</th>\n",
              "      <th>Unnamed: 8</th>\n",
              "      <th>Unnamed: 9</th>\n",
              "      <th>...</th>\n",
              "      <th>Unnamed: 17</th>\n",
              "      <th>Unnamed: 18</th>\n",
              "      <th>Unnamed: 19</th>\n",
              "      <th>Unnamed: 20</th>\n",
              "      <th>Unnamed: 21</th>\n",
              "      <th>Unnamed: 22</th>\n",
              "      <th>Unnamed: 23</th>\n",
              "      <th>Unnamed: 24</th>\n",
              "      <th>Unnamed: 25</th>\n",
              "      <th>Unnamed: 26</th>\n",
              "    </tr>\n",
              "  </thead>\n",
              "  <tbody>\n",
              "    <tr>\n",
              "      <th>0</th>\n",
              "      <td>PP1</td>\n",
              "      <td>0</td>\n",
              "      <td>61.0</td>\n",
              "      <td>0.061420</td>\n",
              "      <td>80.239727</td>\n",
              "      <td>0.944941</td>\n",
              "      <td>0.968862</td>\n",
              "      <td>0.023946</td>\n",
              "      <td>0.001300</td>\n",
              "      <td>0.016315</td>\n",
              "      <td>...</td>\n",
              "      <td>0.0</td>\n",
              "      <td>0.000000</td>\n",
              "      <td>0.00000</td>\n",
              "      <td>0.050000</td>\n",
              "      <td>0.025000</td>\n",
              "      <td>0.020833</td>\n",
              "      <td>0.000000</td>\n",
              "      <td>0.962500</td>\n",
              "      <td>0.000000</td>\n",
              "      <td>0.016667</td>\n",
              "    </tr>\n",
              "    <tr>\n",
              "      <th>1</th>\n",
              "      <td>PP1</td>\n",
              "      <td>0</td>\n",
              "      <td>61.0</td>\n",
              "      <td>0.061420</td>\n",
              "      <td>77.365127</td>\n",
              "      <td>0.930303</td>\n",
              "      <td>0.884570</td>\n",
              "      <td>0.076952</td>\n",
              "      <td>0.001144</td>\n",
              "      <td>0.017392</td>\n",
              "      <td>...</td>\n",
              "      <td>0.0</td>\n",
              "      <td>0.020921</td>\n",
              "      <td>0.00000</td>\n",
              "      <td>0.004184</td>\n",
              "      <td>0.108787</td>\n",
              "      <td>0.000000</td>\n",
              "      <td>0.000000</td>\n",
              "      <td>0.945607</td>\n",
              "      <td>0.000000</td>\n",
              "      <td>0.000000</td>\n",
              "    </tr>\n",
              "    <tr>\n",
              "      <th>2</th>\n",
              "      <td>PP1</td>\n",
              "      <td>0</td>\n",
              "      <td>64.0</td>\n",
              "      <td>0.049663</td>\n",
              "      <td>77.359559</td>\n",
              "      <td>0.933104</td>\n",
              "      <td>0.931965</td>\n",
              "      <td>0.031468</td>\n",
              "      <td>0.000371</td>\n",
              "      <td>0.023774</td>\n",
              "      <td>...</td>\n",
              "      <td>0.0</td>\n",
              "      <td>0.000000</td>\n",
              "      <td>0.00000</td>\n",
              "      <td>0.025000</td>\n",
              "      <td>0.025000</td>\n",
              "      <td>0.004167</td>\n",
              "      <td>0.000000</td>\n",
              "      <td>0.966667</td>\n",
              "      <td>0.000000</td>\n",
              "      <td>0.012500</td>\n",
              "    </tr>\n",
              "    <tr>\n",
              "      <th>3</th>\n",
              "      <td>PP1</td>\n",
              "      <td>0</td>\n",
              "      <td>60.0</td>\n",
              "      <td>0.052487</td>\n",
              "      <td>76.728772</td>\n",
              "      <td>0.904466</td>\n",
              "      <td>0.806947</td>\n",
              "      <td>0.105516</td>\n",
              "      <td>0.006459</td>\n",
              "      <td>0.009809</td>\n",
              "      <td>...</td>\n",
              "      <td>0.0</td>\n",
              "      <td>0.118644</td>\n",
              "      <td>0.04661</td>\n",
              "      <td>0.038136</td>\n",
              "      <td>0.033898</td>\n",
              "      <td>0.000000</td>\n",
              "      <td>0.025424</td>\n",
              "      <td>0.970339</td>\n",
              "      <td>0.004237</td>\n",
              "      <td>0.000000</td>\n",
              "    </tr>\n",
              "    <tr>\n",
              "      <th>4</th>\n",
              "      <td>PP1</td>\n",
              "      <td>0</td>\n",
              "      <td>61.0</td>\n",
              "      <td>0.051189</td>\n",
              "      <td>76.512877</td>\n",
              "      <td>0.929025</td>\n",
              "      <td>0.951412</td>\n",
              "      <td>0.028358</td>\n",
              "      <td>0.001095</td>\n",
              "      <td>0.018130</td>\n",
              "      <td>...</td>\n",
              "      <td>0.0</td>\n",
              "      <td>0.033333</td>\n",
              "      <td>0.01250</td>\n",
              "      <td>0.179167</td>\n",
              "      <td>0.125000</td>\n",
              "      <td>0.004167</td>\n",
              "      <td>0.000000</td>\n",
              "      <td>0.958333</td>\n",
              "      <td>0.000000</td>\n",
              "      <td>0.029167</td>\n",
              "    </tr>\n",
              "  </tbody>\n",
              "</table>\n",
              "<p>5 rows × 27 columns</p>\n",
              "</div>\n",
              "    <div class=\"colab-df-buttons\">\n",
              "\n",
              "  <div class=\"colab-df-container\">\n",
              "    <button class=\"colab-df-convert\" onclick=\"convertToInteractive('df-fc3d0fa8-ed54-4b24-8b3e-a65dac3da788')\"\n",
              "            title=\"Convert this dataframe to an interactive table.\"\n",
              "            style=\"display:none;\">\n",
              "\n",
              "  <svg xmlns=\"http://www.w3.org/2000/svg\" height=\"24px\" viewBox=\"0 -960 960 960\">\n",
              "    <path d=\"M120-120v-720h720v720H120Zm60-500h600v-160H180v160Zm220 220h160v-160H400v160Zm0 220h160v-160H400v160ZM180-400h160v-160H180v160Zm440 0h160v-160H620v160ZM180-180h160v-160H180v160Zm440 0h160v-160H620v160Z\"/>\n",
              "  </svg>\n",
              "    </button>\n",
              "\n",
              "  <style>\n",
              "    .colab-df-container {\n",
              "      display:flex;\n",
              "      gap: 12px;\n",
              "    }\n",
              "\n",
              "    .colab-df-convert {\n",
              "      background-color: #E8F0FE;\n",
              "      border: none;\n",
              "      border-radius: 50%;\n",
              "      cursor: pointer;\n",
              "      display: none;\n",
              "      fill: #1967D2;\n",
              "      height: 32px;\n",
              "      padding: 0 0 0 0;\n",
              "      width: 32px;\n",
              "    }\n",
              "\n",
              "    .colab-df-convert:hover {\n",
              "      background-color: #E2EBFA;\n",
              "      box-shadow: 0px 1px 2px rgba(60, 64, 67, 0.3), 0px 1px 3px 1px rgba(60, 64, 67, 0.15);\n",
              "      fill: #174EA6;\n",
              "    }\n",
              "\n",
              "    .colab-df-buttons div {\n",
              "      margin-bottom: 4px;\n",
              "    }\n",
              "\n",
              "    [theme=dark] .colab-df-convert {\n",
              "      background-color: #3B4455;\n",
              "      fill: #D2E3FC;\n",
              "    }\n",
              "\n",
              "    [theme=dark] .colab-df-convert:hover {\n",
              "      background-color: #434B5C;\n",
              "      box-shadow: 0px 1px 3px 1px rgba(0, 0, 0, 0.15);\n",
              "      filter: drop-shadow(0px 1px 2px rgba(0, 0, 0, 0.3));\n",
              "      fill: #FFFFFF;\n",
              "    }\n",
              "  </style>\n",
              "\n",
              "    <script>\n",
              "      const buttonEl =\n",
              "        document.querySelector('#df-fc3d0fa8-ed54-4b24-8b3e-a65dac3da788 button.colab-df-convert');\n",
              "      buttonEl.style.display =\n",
              "        google.colab.kernel.accessAllowed ? 'block' : 'none';\n",
              "\n",
              "      async function convertToInteractive(key) {\n",
              "        const element = document.querySelector('#df-fc3d0fa8-ed54-4b24-8b3e-a65dac3da788');\n",
              "        const dataTable =\n",
              "          await google.colab.kernel.invokeFunction('convertToInteractive',\n",
              "                                                    [key], {});\n",
              "        if (!dataTable) return;\n",
              "\n",
              "        const docLinkHtml = 'Like what you see? Visit the ' +\n",
              "          '<a target=\"_blank\" href=https://colab.research.google.com/notebooks/data_table.ipynb>data table notebook</a>'\n",
              "          + ' to learn more about interactive tables.';\n",
              "        element.innerHTML = '';\n",
              "        dataTable['output_type'] = 'display_data';\n",
              "        await google.colab.output.renderOutput(dataTable, element);\n",
              "        const docLink = document.createElement('div');\n",
              "        docLink.innerHTML = docLinkHtml;\n",
              "        element.appendChild(docLink);\n",
              "      }\n",
              "    </script>\n",
              "  </div>\n",
              "\n",
              "\n",
              "<div id=\"df-5587f79e-fa33-4ff2-b006-66cff9437907\">\n",
              "  <button class=\"colab-df-quickchart\" onclick=\"quickchart('df-5587f79e-fa33-4ff2-b006-66cff9437907')\"\n",
              "            title=\"Suggest charts\"\n",
              "            style=\"display:none;\">\n",
              "\n",
              "<svg xmlns=\"http://www.w3.org/2000/svg\" height=\"24px\"viewBox=\"0 0 24 24\"\n",
              "     width=\"24px\">\n",
              "    <g>\n",
              "        <path d=\"M19 3H5c-1.1 0-2 .9-2 2v14c0 1.1.9 2 2 2h14c1.1 0 2-.9 2-2V5c0-1.1-.9-2-2-2zM9 17H7v-7h2v7zm4 0h-2V7h2v10zm4 0h-2v-4h2v4z\"/>\n",
              "    </g>\n",
              "</svg>\n",
              "  </button>\n",
              "\n",
              "<style>\n",
              "  .colab-df-quickchart {\n",
              "      --bg-color: #E8F0FE;\n",
              "      --fill-color: #1967D2;\n",
              "      --hover-bg-color: #E2EBFA;\n",
              "      --hover-fill-color: #174EA6;\n",
              "      --disabled-fill-color: #AAA;\n",
              "      --disabled-bg-color: #DDD;\n",
              "  }\n",
              "\n",
              "  [theme=dark] .colab-df-quickchart {\n",
              "      --bg-color: #3B4455;\n",
              "      --fill-color: #D2E3FC;\n",
              "      --hover-bg-color: #434B5C;\n",
              "      --hover-fill-color: #FFFFFF;\n",
              "      --disabled-bg-color: #3B4455;\n",
              "      --disabled-fill-color: #666;\n",
              "  }\n",
              "\n",
              "  .colab-df-quickchart {\n",
              "    background-color: var(--bg-color);\n",
              "    border: none;\n",
              "    border-radius: 50%;\n",
              "    cursor: pointer;\n",
              "    display: none;\n",
              "    fill: var(--fill-color);\n",
              "    height: 32px;\n",
              "    padding: 0;\n",
              "    width: 32px;\n",
              "  }\n",
              "\n",
              "  .colab-df-quickchart:hover {\n",
              "    background-color: var(--hover-bg-color);\n",
              "    box-shadow: 0 1px 2px rgba(60, 64, 67, 0.3), 0 1px 3px 1px rgba(60, 64, 67, 0.15);\n",
              "    fill: var(--button-hover-fill-color);\n",
              "  }\n",
              "\n",
              "  .colab-df-quickchart-complete:disabled,\n",
              "  .colab-df-quickchart-complete:disabled:hover {\n",
              "    background-color: var(--disabled-bg-color);\n",
              "    fill: var(--disabled-fill-color);\n",
              "    box-shadow: none;\n",
              "  }\n",
              "\n",
              "  .colab-df-spinner {\n",
              "    border: 2px solid var(--fill-color);\n",
              "    border-color: transparent;\n",
              "    border-bottom-color: var(--fill-color);\n",
              "    animation:\n",
              "      spin 1s steps(1) infinite;\n",
              "  }\n",
              "\n",
              "  @keyframes spin {\n",
              "    0% {\n",
              "      border-color: transparent;\n",
              "      border-bottom-color: var(--fill-color);\n",
              "      border-left-color: var(--fill-color);\n",
              "    }\n",
              "    20% {\n",
              "      border-color: transparent;\n",
              "      border-left-color: var(--fill-color);\n",
              "      border-top-color: var(--fill-color);\n",
              "    }\n",
              "    30% {\n",
              "      border-color: transparent;\n",
              "      border-left-color: var(--fill-color);\n",
              "      border-top-color: var(--fill-color);\n",
              "      border-right-color: var(--fill-color);\n",
              "    }\n",
              "    40% {\n",
              "      border-color: transparent;\n",
              "      border-right-color: var(--fill-color);\n",
              "      border-top-color: var(--fill-color);\n",
              "    }\n",
              "    60% {\n",
              "      border-color: transparent;\n",
              "      border-right-color: var(--fill-color);\n",
              "    }\n",
              "    80% {\n",
              "      border-color: transparent;\n",
              "      border-right-color: var(--fill-color);\n",
              "      border-bottom-color: var(--fill-color);\n",
              "    }\n",
              "    90% {\n",
              "      border-color: transparent;\n",
              "      border-bottom-color: var(--fill-color);\n",
              "    }\n",
              "  }\n",
              "</style>\n",
              "\n",
              "  <script>\n",
              "    async function quickchart(key) {\n",
              "      const quickchartButtonEl =\n",
              "        document.querySelector('#' + key + ' button');\n",
              "      quickchartButtonEl.disabled = true;  // To prevent multiple clicks.\n",
              "      quickchartButtonEl.classList.add('colab-df-spinner');\n",
              "      try {\n",
              "        const charts = await google.colab.kernel.invokeFunction(\n",
              "            'suggestCharts', [key], {});\n",
              "      } catch (error) {\n",
              "        console.error('Error during call to suggestCharts:', error);\n",
              "      }\n",
              "      quickchartButtonEl.classList.remove('colab-df-spinner');\n",
              "      quickchartButtonEl.classList.add('colab-df-quickchart-complete');\n",
              "    }\n",
              "    (() => {\n",
              "      let quickchartButtonEl =\n",
              "        document.querySelector('#df-5587f79e-fa33-4ff2-b006-66cff9437907 button');\n",
              "      quickchartButtonEl.style.display =\n",
              "        google.colab.kernel.accessAllowed ? 'block' : 'none';\n",
              "    })();\n",
              "  </script>\n",
              "</div>\n",
              "    </div>\n",
              "  </div>\n"
            ],
            "text/plain": [
              "    pp  Condition    HR     RMSSD        SCL  Unnamed: 5  Unnamed: 6  \\\n",
              "0  PP1          0  61.0  0.061420  80.239727    0.944941    0.968862   \n",
              "1  PP1          0  61.0  0.061420  77.365127    0.930303    0.884570   \n",
              "2  PP1          0  64.0  0.049663  77.359559    0.933104    0.931965   \n",
              "3  PP1          0  60.0  0.052487  76.728772    0.904466    0.806947   \n",
              "4  PP1          0  61.0  0.051189  76.512877    0.929025    0.951412   \n",
              "\n",
              "   Unnamed: 7  Unnamed: 8  Unnamed: 9  ...  Unnamed: 17  Unnamed: 18  \\\n",
              "0    0.023946    0.001300    0.016315  ...          0.0     0.000000   \n",
              "1    0.076952    0.001144    0.017392  ...          0.0     0.020921   \n",
              "2    0.031468    0.000371    0.023774  ...          0.0     0.000000   \n",
              "3    0.105516    0.006459    0.009809  ...          0.0     0.118644   \n",
              "4    0.028358    0.001095    0.018130  ...          0.0     0.033333   \n",
              "\n",
              "   Unnamed: 19  Unnamed: 20  Unnamed: 21  Unnamed: 22  Unnamed: 23  \\\n",
              "0      0.00000     0.050000     0.025000     0.020833     0.000000   \n",
              "1      0.00000     0.004184     0.108787     0.000000     0.000000   \n",
              "2      0.00000     0.025000     0.025000     0.004167     0.000000   \n",
              "3      0.04661     0.038136     0.033898     0.000000     0.025424   \n",
              "4      0.01250     0.179167     0.125000     0.004167     0.000000   \n",
              "\n",
              "   Unnamed: 24  Unnamed: 25  Unnamed: 26  \n",
              "0     0.962500     0.000000     0.016667  \n",
              "1     0.945607     0.000000     0.000000  \n",
              "2     0.966667     0.000000     0.012500  \n",
              "3     0.970339     0.004237     0.000000  \n",
              "4     0.958333     0.000000     0.029167  \n",
              "\n",
              "[5 rows x 27 columns]"
            ]
          },
          "execution_count": 4,
          "metadata": {},
          "output_type": "execute_result"
        }
      ],
      "source": [
        "df = pd.read_csv('/content/drive/My Drive/BDA_Project/BDA_Project/new_dataset.csv')\n",
        "df.head()"
      ]
    },
    {
      "cell_type": "code",
      "execution_count": null,
      "metadata": {
        "colab": {
          "base_uri": "https://localhost:8080/"
        },
        "id": "hCJidMaiXGAE",
        "outputId": "cac49901-01fc-47ec-dca4-60799c712ecc"
      },
      "outputs": [
        {
          "data": {
            "text/plain": [
              "pp             False\n",
              "Condition      False\n",
              "HR              True\n",
              "RMSSD           True\n",
              "SCL             True\n",
              "Unnamed: 5     False\n",
              "Unnamed: 6     False\n",
              "Unnamed: 7     False\n",
              "Unnamed: 8     False\n",
              "Unnamed: 9     False\n",
              "Unnamed: 10    False\n",
              "Unnamed: 11    False\n",
              "Unnamed: 12    False\n",
              "Unnamed: 13    False\n",
              "Unnamed: 14     True\n",
              "Unnamed: 15     True\n",
              "Unnamed: 16     True\n",
              "Unnamed: 17     True\n",
              "Unnamed: 18     True\n",
              "Unnamed: 19     True\n",
              "Unnamed: 20     True\n",
              "Unnamed: 21     True\n",
              "Unnamed: 22     True\n",
              "Unnamed: 23     True\n",
              "Unnamed: 24     True\n",
              "Unnamed: 25     True\n",
              "Unnamed: 26     True\n",
              "dtype: bool"
            ]
          },
          "execution_count": 5,
          "metadata": {},
          "output_type": "execute_result"
        }
      ],
      "source": [
        "df.isnull().any()\n"
      ]
    },
    {
      "cell_type": "code",
      "execution_count": null,
      "metadata": {
        "colab": {
          "base_uri": "https://localhost:8080/"
        },
        "id": "ey9ZxE75Zm3f",
        "outputId": "8fcc48bc-050a-4b4e-ad0b-a061b88d0814"
      },
      "outputs": [
        {
          "data": {
            "text/plain": [
              "pp               0\n",
              "Condition        0\n",
              "HR             561\n",
              "RMSSD          563\n",
              "SCL            106\n",
              "Unnamed: 5       0\n",
              "Unnamed: 6       0\n",
              "Unnamed: 7       0\n",
              "Unnamed: 8       0\n",
              "Unnamed: 9       0\n",
              "Unnamed: 10      0\n",
              "Unnamed: 11      0\n",
              "Unnamed: 12      0\n",
              "Unnamed: 13      0\n",
              "Unnamed: 14     45\n",
              "Unnamed: 15     45\n",
              "Unnamed: 16     45\n",
              "Unnamed: 17     45\n",
              "Unnamed: 18     45\n",
              "Unnamed: 19     45\n",
              "Unnamed: 20     45\n",
              "Unnamed: 21     45\n",
              "Unnamed: 22     45\n",
              "Unnamed: 23     45\n",
              "Unnamed: 24     45\n",
              "Unnamed: 25     45\n",
              "Unnamed: 26     45\n",
              "dtype: int64"
            ]
          },
          "execution_count": 6,
          "metadata": {},
          "output_type": "execute_result"
        }
      ],
      "source": [
        "df.isnull().sum()"
      ]
    },
    {
      "cell_type": "code",
      "execution_count": null,
      "metadata": {
        "colab": {
          "base_uri": "https://localhost:8080/"
        },
        "id": "MOSbyd-AZsV8",
        "outputId": "7a98f7b9-ee39-48c2-cdb0-80dc17927947"
      },
      "outputs": [
        {
          "name": "stdout",
          "output_type": "stream",
          "text": [
            "<class 'pandas.core.frame.DataFrame'>\n",
            "RangeIndex: 3138 entries, 0 to 3137\n",
            "Data columns (total 27 columns):\n",
            " #   Column       Non-Null Count  Dtype  \n",
            "---  ------       --------------  -----  \n",
            " 0   pp           3138 non-null   object \n",
            " 1   Condition    3138 non-null   int64  \n",
            " 2   HR           2577 non-null   float64\n",
            " 3   RMSSD        2575 non-null   float64\n",
            " 4   SCL          3032 non-null   float64\n",
            " 5   Unnamed: 5   3138 non-null   float64\n",
            " 6   Unnamed: 6   3138 non-null   float64\n",
            " 7   Unnamed: 7   3138 non-null   float64\n",
            " 8   Unnamed: 8   3138 non-null   float64\n",
            " 9   Unnamed: 9   3138 non-null   float64\n",
            " 10  Unnamed: 10  3138 non-null   float64\n",
            " 11  Unnamed: 11  3138 non-null   float64\n",
            " 12  Unnamed: 12  3138 non-null   float64\n",
            " 13  Unnamed: 13  3138 non-null   float64\n",
            " 14  Unnamed: 14  3093 non-null   float64\n",
            " 15  Unnamed: 15  3093 non-null   float64\n",
            " 16  Unnamed: 16  3093 non-null   float64\n",
            " 17  Unnamed: 17  3093 non-null   float64\n",
            " 18  Unnamed: 18  3093 non-null   float64\n",
            " 19  Unnamed: 19  3093 non-null   float64\n",
            " 20  Unnamed: 20  3093 non-null   float64\n",
            " 21  Unnamed: 21  3093 non-null   float64\n",
            " 22  Unnamed: 22  3093 non-null   float64\n",
            " 23  Unnamed: 23  3093 non-null   float64\n",
            " 24  Unnamed: 24  3093 non-null   float64\n",
            " 25  Unnamed: 25  3093 non-null   float64\n",
            " 26  Unnamed: 26  3093 non-null   float64\n",
            "dtypes: float64(25), int64(1), object(1)\n",
            "memory usage: 662.0+ KB\n"
          ]
        }
      ],
      "source": [
        "df.info()"
      ]
    },
    {
      "cell_type": "code",
      "execution_count": null,
      "metadata": {
        "colab": {
          "base_uri": "https://localhost:8080/"
        },
        "id": "OHPr_tYaZuLX",
        "outputId": "d9ca41ee-45fe-4283-81ff-e93efb72e7c2"
      },
      "outputs": [
        {
          "name": "stdout",
          "output_type": "stream",
          "text": [
            "(3138, 27)\n"
          ]
        }
      ],
      "source": [
        "print(df.shape)"
      ]
    },
    {
      "cell_type": "code",
      "execution_count": null,
      "metadata": {
        "id": "Z71joNOnZzbo"
      },
      "outputs": [],
      "source": [
        "df = df.dropna(axis=0, how='any')"
      ]
    },
    {
      "cell_type": "code",
      "execution_count": null,
      "metadata": {
        "colab": {
          "base_uri": "https://localhost:8080/"
        },
        "id": "za82vjhYZ6Pj",
        "outputId": "a66a75c3-a754-449e-8577-294a8039e835"
      },
      "outputs": [
        {
          "data": {
            "text/plain": [
              "pp             False\n",
              "Condition      False\n",
              "HR             False\n",
              "RMSSD          False\n",
              "SCL            False\n",
              "Unnamed: 5     False\n",
              "Unnamed: 6     False\n",
              "Unnamed: 7     False\n",
              "Unnamed: 8     False\n",
              "Unnamed: 9     False\n",
              "Unnamed: 10    False\n",
              "Unnamed: 11    False\n",
              "Unnamed: 12    False\n",
              "Unnamed: 13    False\n",
              "Unnamed: 14    False\n",
              "Unnamed: 15    False\n",
              "Unnamed: 16    False\n",
              "Unnamed: 17    False\n",
              "Unnamed: 18    False\n",
              "Unnamed: 19    False\n",
              "Unnamed: 20    False\n",
              "Unnamed: 21    False\n",
              "Unnamed: 22    False\n",
              "Unnamed: 23    False\n",
              "Unnamed: 24    False\n",
              "Unnamed: 25    False\n",
              "Unnamed: 26    False\n",
              "dtype: bool"
            ]
          },
          "execution_count": 10,
          "metadata": {},
          "output_type": "execute_result"
        }
      ],
      "source": [
        "df.isnull().any()"
      ]
    },
    {
      "cell_type": "code",
      "execution_count": null,
      "metadata": {
        "colab": {
          "base_uri": "https://localhost:8080/"
        },
        "id": "RrBvzfUQZ_9R",
        "outputId": "177eaf59-de8a-445d-e5ff-86806c43835d"
      },
      "outputs": [
        {
          "data": {
            "text/plain": [
              "(2502, 27)"
            ]
          },
          "execution_count": 11,
          "metadata": {},
          "output_type": "execute_result"
        }
      ],
      "source": [
        "df.shape"
      ]
    },
    {
      "cell_type": "code",
      "execution_count": null,
      "metadata": {
        "colab": {
          "base_uri": "https://localhost:8080/"
        },
        "id": "9DuxSFe3aDan",
        "outputId": "b266468a-8439-4e7c-e0c4-ffd76da8f106"
      },
      "outputs": [
        {
          "name": "stderr",
          "output_type": "stream",
          "text": [
            "<ipython-input-12-acf6dce10463>:1: UserWarning: Pandas doesn't allow columns to be created via a new attribute name - see https://pandas.pydata.org/pandas-docs/stable/indexing.html#attribute-access\n",
            "  df.colums = ['PP', 'Condition', 'HR', 'RMSSD', 'SCL', 'Squaltiy', 'Sneutral', 'Shappy', 'Ssad', 'Sangry', 'Ssurprised', 'Sscared', 'Sdisgusted', 'Svalence', 'SyHeadOrientation','SxHeadOrientation', 'SzHeadOrientation', 'SmouthOpen', 'SleftEyeClosed', 'SrightEyeClosed','SleftEyebrowLowered', 'SleftEyebroRaised', 'SrightEyebrowLowered', 'SrightEyebroRaised', 'SgazeDirectionForward','SgazeDirectionLeft','SgazeDirectionRight']\n"
          ]
        }
      ],
      "source": [
        "df.colums = ['PP', 'Condition', 'HR', 'RMSSD', 'SCL', 'Squaltiy', 'Sneutral', 'Shappy', 'Ssad', 'Sangry', 'Ssurprised', 'Sscared', 'Sdisgusted', 'Svalence', 'SyHeadOrientation','SxHeadOrientation', 'SzHeadOrientation', 'SmouthOpen', 'SleftEyeClosed', 'SrightEyeClosed','SleftEyebrowLowered', 'SleftEyebroRaised', 'SrightEyebrowLowered', 'SrightEyebroRaised', 'SgazeDirectionForward','SgazeDirectionLeft','SgazeDirectionRight']"
      ]
    },
    {
      "cell_type": "code",
      "execution_count": null,
      "metadata": {
        "id": "d38MZWPxTR2h"
      },
      "outputs": [],
      "source": [
        "df.rename(columns={'Unnamed: 5':'Squaltiy', 'Unnamed: 6':'Sneutral', 'Unnamed: 7':'Shappy', 'Unnamed: 8':'Ssad', 'Unnamed: 9':'Sangry', 'Unnamed: 10':'Ssurprised', 'Unnamed: 11':'Sscared', 'Unnamed: 12':'Sdisgusted', 'Unnamed: 13':'Svalence', 'Unnamed: 14':'SyHeadOrientation','Unnamed: 15':'SxHeadOrientation', 'Unnamed: 16':'SzHeadOrientation', 'Unnamed: 17':'SmouthOpen', 'Unnamed: 18':'SleftEyeClosed', 'Unnamed: 19':'SrightEyeClosed','Unnamed: 20':'SleftEyebrowLowered', 'Unnamed: 21':'SleftEyebrowRaised', 'Unnamed: 22':'SrightEyebrowLowered', 'Unnamed: 23':'SrightEyebrowRaised', 'Unnamed: 24':'SgazeDirectionForward','Unnamed: 25':'SgazeDirectionLeft','Unnamed: 26':'SgazeDirectionRight'}, inplace=True)"
      ]
    },
    {
      "cell_type": "code",
      "execution_count": null,
      "metadata": {
        "colab": {
          "base_uri": "https://localhost:8080/"
        },
        "id": "UwnVGCsnwL28",
        "outputId": "263227c7-1b22-4dad-8b25-94d46e9bff0a"
      },
      "outputs": [
        {
          "data": {
            "text/plain": [
              "array([0, 1])"
            ]
          },
          "execution_count": 14,
          "metadata": {},
          "output_type": "execute_result"
        }
      ],
      "source": [
        "df['Condition'].unique()"
      ]
    },
    {
      "cell_type": "code",
      "execution_count": null,
      "metadata": {
        "colab": {
          "base_uri": "https://localhost:8080/"
        },
        "id": "G90V-YSDwUIl",
        "outputId": "e245c8a3-caf3-4b40-adb2-b18086b6cd56"
      },
      "outputs": [
        {
          "name": "stdout",
          "output_type": "stream",
          "text": [
            "<class 'pandas.core.frame.DataFrame'>\n",
            "Int64Index: 2502 entries, 0 to 3137\n",
            "Data columns (total 27 columns):\n",
            " #   Column                 Non-Null Count  Dtype  \n",
            "---  ------                 --------------  -----  \n",
            " 0   pp                     2502 non-null   object \n",
            " 1   Condition              2502 non-null   int64  \n",
            " 2   HR                     2502 non-null   float64\n",
            " 3   RMSSD                  2502 non-null   float64\n",
            " 4   SCL                    2502 non-null   float64\n",
            " 5   Squaltiy               2502 non-null   float64\n",
            " 6   Sneutral               2502 non-null   float64\n",
            " 7   Shappy                 2502 non-null   float64\n",
            " 8   Ssad                   2502 non-null   float64\n",
            " 9   Sangry                 2502 non-null   float64\n",
            " 10  Ssurprised             2502 non-null   float64\n",
            " 11  Sscared                2502 non-null   float64\n",
            " 12  Sdisgusted             2502 non-null   float64\n",
            " 13  Svalence               2502 non-null   float64\n",
            " 14  SyHeadOrientation      2502 non-null   float64\n",
            " 15  SxHeadOrientation      2502 non-null   float64\n",
            " 16  SzHeadOrientation      2502 non-null   float64\n",
            " 17  SmouthOpen             2502 non-null   float64\n",
            " 18  SleftEyeClosed         2502 non-null   float64\n",
            " 19  SrightEyeClosed        2502 non-null   float64\n",
            " 20  SleftEyebrowLowered    2502 non-null   float64\n",
            " 21  SleftEyebrowRaised     2502 non-null   float64\n",
            " 22  SrightEyebrowLowered   2502 non-null   float64\n",
            " 23  SrightEyebrowRaised    2502 non-null   float64\n",
            " 24  SgazeDirectionForward  2502 non-null   float64\n",
            " 25  SgazeDirectionLeft     2502 non-null   float64\n",
            " 26  SgazeDirectionRight    2502 non-null   float64\n",
            "dtypes: float64(25), int64(1), object(1)\n",
            "memory usage: 547.3+ KB\n"
          ]
        }
      ],
      "source": [
        "df.info()"
      ]
    },
    {
      "cell_type": "code",
      "execution_count": null,
      "metadata": {
        "colab": {
          "base_uri": "https://localhost:8080/"
        },
        "id": "SMmD4rGNwZ1L",
        "outputId": "b07f1ea4-8081-4247-f2f6-74f5dcc71e6e"
      },
      "outputs": [
        {
          "name": "stdout",
          "output_type": "stream",
          "text": [
            "pp                       float64\n",
            "Condition                  int64\n",
            "HR                       float64\n",
            "RMSSD                    float64\n",
            "SCL                      float64\n",
            "Squaltiy                 float64\n",
            "Sneutral                 float64\n",
            "Shappy                   float64\n",
            "Ssad                     float64\n",
            "Sangry                   float64\n",
            "Ssurprised               float64\n",
            "Sscared                  float64\n",
            "Sdisgusted               float64\n",
            "Svalence                 float64\n",
            "SyHeadOrientation        float64\n",
            "SxHeadOrientation        float64\n",
            "SzHeadOrientation        float64\n",
            "SmouthOpen               float64\n",
            "SleftEyeClosed           float64\n",
            "SrightEyeClosed          float64\n",
            "SleftEyebrowLowered      float64\n",
            "SleftEyebrowRaised       float64\n",
            "SrightEyebrowLowered     float64\n",
            "SrightEyebrowRaised      float64\n",
            "SgazeDirectionForward    float64\n",
            "SgazeDirectionLeft       float64\n",
            "SgazeDirectionRight      float64\n",
            "dtype: object\n"
          ]
        }
      ],
      "source": [
        "df['pp'] = pd.to_numeric(df['pp'], errors='coerce')\n",
        "print(df.dtypes)"
      ]
    },
    {
      "cell_type": "code",
      "execution_count": null,
      "metadata": {
        "colab": {
          "base_uri": "https://localhost:8080/",
          "height": 444
        },
        "id": "wC7QlG5CUxl0",
        "outputId": "163f2ac4-0115-4841-a634-d4c41093df2d"
      },
      "outputs": [
        {
          "data": {
            "text/html": [
              "\n",
              "  <div id=\"df-e0e87750-6aca-419c-867c-eadbd52d57b0\" class=\"colab-df-container\">\n",
              "    <div>\n",
              "<style scoped>\n",
              "    .dataframe tbody tr th:only-of-type {\n",
              "        vertical-align: middle;\n",
              "    }\n",
              "\n",
              "    .dataframe tbody tr th {\n",
              "        vertical-align: top;\n",
              "    }\n",
              "\n",
              "    .dataframe thead th {\n",
              "        text-align: right;\n",
              "    }\n",
              "</style>\n",
              "<table border=\"1\" class=\"dataframe\">\n",
              "  <thead>\n",
              "    <tr style=\"text-align: right;\">\n",
              "      <th></th>\n",
              "      <th>pp</th>\n",
              "      <th>Condition</th>\n",
              "      <th>HR</th>\n",
              "      <th>RMSSD</th>\n",
              "      <th>SCL</th>\n",
              "      <th>Squaltiy</th>\n",
              "      <th>Sneutral</th>\n",
              "      <th>Shappy</th>\n",
              "      <th>Ssad</th>\n",
              "      <th>Sangry</th>\n",
              "      <th>...</th>\n",
              "      <th>SmouthOpen</th>\n",
              "      <th>SleftEyeClosed</th>\n",
              "      <th>SrightEyeClosed</th>\n",
              "      <th>SleftEyebrowLowered</th>\n",
              "      <th>SleftEyebrowRaised</th>\n",
              "      <th>SrightEyebrowLowered</th>\n",
              "      <th>SrightEyebrowRaised</th>\n",
              "      <th>SgazeDirectionForward</th>\n",
              "      <th>SgazeDirectionLeft</th>\n",
              "      <th>SgazeDirectionRight</th>\n",
              "    </tr>\n",
              "  </thead>\n",
              "  <tbody>\n",
              "    <tr>\n",
              "      <th>0</th>\n",
              "      <td>NaN</td>\n",
              "      <td>0</td>\n",
              "      <td>61.0</td>\n",
              "      <td>0.061420</td>\n",
              "      <td>80.239727</td>\n",
              "      <td>0.944941</td>\n",
              "      <td>0.968862</td>\n",
              "      <td>0.023946</td>\n",
              "      <td>0.001300</td>\n",
              "      <td>0.016315</td>\n",
              "      <td>...</td>\n",
              "      <td>0.000000</td>\n",
              "      <td>0.000000</td>\n",
              "      <td>0.000000</td>\n",
              "      <td>0.050000</td>\n",
              "      <td>0.025000</td>\n",
              "      <td>0.020833</td>\n",
              "      <td>0.000000</td>\n",
              "      <td>0.962500</td>\n",
              "      <td>0.000000</td>\n",
              "      <td>0.016667</td>\n",
              "    </tr>\n",
              "    <tr>\n",
              "      <th>1</th>\n",
              "      <td>NaN</td>\n",
              "      <td>0</td>\n",
              "      <td>61.0</td>\n",
              "      <td>0.061420</td>\n",
              "      <td>77.365127</td>\n",
              "      <td>0.930303</td>\n",
              "      <td>0.884570</td>\n",
              "      <td>0.076952</td>\n",
              "      <td>0.001144</td>\n",
              "      <td>0.017392</td>\n",
              "      <td>...</td>\n",
              "      <td>0.000000</td>\n",
              "      <td>0.020921</td>\n",
              "      <td>0.000000</td>\n",
              "      <td>0.004184</td>\n",
              "      <td>0.108787</td>\n",
              "      <td>0.000000</td>\n",
              "      <td>0.000000</td>\n",
              "      <td>0.945607</td>\n",
              "      <td>0.000000</td>\n",
              "      <td>0.000000</td>\n",
              "    </tr>\n",
              "    <tr>\n",
              "      <th>2</th>\n",
              "      <td>NaN</td>\n",
              "      <td>0</td>\n",
              "      <td>64.0</td>\n",
              "      <td>0.049663</td>\n",
              "      <td>77.359559</td>\n",
              "      <td>0.933104</td>\n",
              "      <td>0.931965</td>\n",
              "      <td>0.031468</td>\n",
              "      <td>0.000371</td>\n",
              "      <td>0.023774</td>\n",
              "      <td>...</td>\n",
              "      <td>0.000000</td>\n",
              "      <td>0.000000</td>\n",
              "      <td>0.000000</td>\n",
              "      <td>0.025000</td>\n",
              "      <td>0.025000</td>\n",
              "      <td>0.004167</td>\n",
              "      <td>0.000000</td>\n",
              "      <td>0.966667</td>\n",
              "      <td>0.000000</td>\n",
              "      <td>0.012500</td>\n",
              "    </tr>\n",
              "    <tr>\n",
              "      <th>3</th>\n",
              "      <td>NaN</td>\n",
              "      <td>0</td>\n",
              "      <td>60.0</td>\n",
              "      <td>0.052487</td>\n",
              "      <td>76.728772</td>\n",
              "      <td>0.904466</td>\n",
              "      <td>0.806947</td>\n",
              "      <td>0.105516</td>\n",
              "      <td>0.006459</td>\n",
              "      <td>0.009809</td>\n",
              "      <td>...</td>\n",
              "      <td>0.000000</td>\n",
              "      <td>0.118644</td>\n",
              "      <td>0.046610</td>\n",
              "      <td>0.038136</td>\n",
              "      <td>0.033898</td>\n",
              "      <td>0.000000</td>\n",
              "      <td>0.025424</td>\n",
              "      <td>0.970339</td>\n",
              "      <td>0.004237</td>\n",
              "      <td>0.000000</td>\n",
              "    </tr>\n",
              "    <tr>\n",
              "      <th>4</th>\n",
              "      <td>NaN</td>\n",
              "      <td>0</td>\n",
              "      <td>61.0</td>\n",
              "      <td>0.051189</td>\n",
              "      <td>76.512877</td>\n",
              "      <td>0.929025</td>\n",
              "      <td>0.951412</td>\n",
              "      <td>0.028358</td>\n",
              "      <td>0.001095</td>\n",
              "      <td>0.018130</td>\n",
              "      <td>...</td>\n",
              "      <td>0.000000</td>\n",
              "      <td>0.033333</td>\n",
              "      <td>0.012500</td>\n",
              "      <td>0.179167</td>\n",
              "      <td>0.125000</td>\n",
              "      <td>0.004167</td>\n",
              "      <td>0.000000</td>\n",
              "      <td>0.958333</td>\n",
              "      <td>0.000000</td>\n",
              "      <td>0.029167</td>\n",
              "    </tr>\n",
              "    <tr>\n",
              "      <th>...</th>\n",
              "      <td>...</td>\n",
              "      <td>...</td>\n",
              "      <td>...</td>\n",
              "      <td>...</td>\n",
              "      <td>...</td>\n",
              "      <td>...</td>\n",
              "      <td>...</td>\n",
              "      <td>...</td>\n",
              "      <td>...</td>\n",
              "      <td>...</td>\n",
              "      <td>...</td>\n",
              "      <td>...</td>\n",
              "      <td>...</td>\n",
              "      <td>...</td>\n",
              "      <td>...</td>\n",
              "      <td>...</td>\n",
              "      <td>...</td>\n",
              "      <td>...</td>\n",
              "      <td>...</td>\n",
              "      <td>...</td>\n",
              "      <td>...</td>\n",
              "    </tr>\n",
              "    <tr>\n",
              "      <th>3133</th>\n",
              "      <td>NaN</td>\n",
              "      <td>1</td>\n",
              "      <td>87.0</td>\n",
              "      <td>0.034990</td>\n",
              "      <td>116.476370</td>\n",
              "      <td>0.868840</td>\n",
              "      <td>0.621930</td>\n",
              "      <td>0.065528</td>\n",
              "      <td>0.004949</td>\n",
              "      <td>0.005039</td>\n",
              "      <td>...</td>\n",
              "      <td>0.688034</td>\n",
              "      <td>0.047009</td>\n",
              "      <td>0.115385</td>\n",
              "      <td>0.222222</td>\n",
              "      <td>0.000000</td>\n",
              "      <td>0.042735</td>\n",
              "      <td>0.581197</td>\n",
              "      <td>0.871795</td>\n",
              "      <td>0.000000</td>\n",
              "      <td>0.098291</td>\n",
              "    </tr>\n",
              "    <tr>\n",
              "      <th>3134</th>\n",
              "      <td>NaN</td>\n",
              "      <td>1</td>\n",
              "      <td>90.0</td>\n",
              "      <td>0.031483</td>\n",
              "      <td>119.436115</td>\n",
              "      <td>0.864207</td>\n",
              "      <td>0.788663</td>\n",
              "      <td>0.011051</td>\n",
              "      <td>0.006334</td>\n",
              "      <td>0.004389</td>\n",
              "      <td>...</td>\n",
              "      <td>0.750000</td>\n",
              "      <td>0.014151</td>\n",
              "      <td>0.018868</td>\n",
              "      <td>0.433962</td>\n",
              "      <td>0.000000</td>\n",
              "      <td>0.103774</td>\n",
              "      <td>0.014151</td>\n",
              "      <td>0.660377</td>\n",
              "      <td>0.042453</td>\n",
              "      <td>0.108491</td>\n",
              "    </tr>\n",
              "    <tr>\n",
              "      <th>3135</th>\n",
              "      <td>NaN</td>\n",
              "      <td>1</td>\n",
              "      <td>90.0</td>\n",
              "      <td>0.046118</td>\n",
              "      <td>120.251942</td>\n",
              "      <td>0.904196</td>\n",
              "      <td>0.935585</td>\n",
              "      <td>0.006838</td>\n",
              "      <td>0.004309</td>\n",
              "      <td>0.015983</td>\n",
              "      <td>...</td>\n",
              "      <td>0.520362</td>\n",
              "      <td>0.072398</td>\n",
              "      <td>0.190045</td>\n",
              "      <td>0.158371</td>\n",
              "      <td>0.000000</td>\n",
              "      <td>0.022624</td>\n",
              "      <td>0.000000</td>\n",
              "      <td>0.936652</td>\n",
              "      <td>0.000000</td>\n",
              "      <td>0.049774</td>\n",
              "    </tr>\n",
              "    <tr>\n",
              "      <th>3136</th>\n",
              "      <td>NaN</td>\n",
              "      <td>1</td>\n",
              "      <td>105.0</td>\n",
              "      <td>0.091713</td>\n",
              "      <td>118.821358</td>\n",
              "      <td>0.892659</td>\n",
              "      <td>0.778797</td>\n",
              "      <td>0.011026</td>\n",
              "      <td>0.030104</td>\n",
              "      <td>0.011238</td>\n",
              "      <td>...</td>\n",
              "      <td>0.745192</td>\n",
              "      <td>0.000000</td>\n",
              "      <td>0.000000</td>\n",
              "      <td>0.225962</td>\n",
              "      <td>0.000000</td>\n",
              "      <td>0.206731</td>\n",
              "      <td>0.000000</td>\n",
              "      <td>0.899038</td>\n",
              "      <td>0.000000</td>\n",
              "      <td>0.067308</td>\n",
              "    </tr>\n",
              "    <tr>\n",
              "      <th>3137</th>\n",
              "      <td>NaN</td>\n",
              "      <td>1</td>\n",
              "      <td>102.0</td>\n",
              "      <td>0.094105</td>\n",
              "      <td>129.258755</td>\n",
              "      <td>0.880194</td>\n",
              "      <td>0.826127</td>\n",
              "      <td>0.007707</td>\n",
              "      <td>0.013535</td>\n",
              "      <td>0.014548</td>\n",
              "      <td>...</td>\n",
              "      <td>0.331754</td>\n",
              "      <td>0.033175</td>\n",
              "      <td>0.071090</td>\n",
              "      <td>0.137441</td>\n",
              "      <td>0.000000</td>\n",
              "      <td>0.042654</td>\n",
              "      <td>0.000000</td>\n",
              "      <td>0.639810</td>\n",
              "      <td>0.004739</td>\n",
              "      <td>0.274882</td>\n",
              "    </tr>\n",
              "  </tbody>\n",
              "</table>\n",
              "<p>2502 rows × 27 columns</p>\n",
              "</div>\n",
              "    <div class=\"colab-df-buttons\">\n",
              "\n",
              "  <div class=\"colab-df-container\">\n",
              "    <button class=\"colab-df-convert\" onclick=\"convertToInteractive('df-e0e87750-6aca-419c-867c-eadbd52d57b0')\"\n",
              "            title=\"Convert this dataframe to an interactive table.\"\n",
              "            style=\"display:none;\">\n",
              "\n",
              "  <svg xmlns=\"http://www.w3.org/2000/svg\" height=\"24px\" viewBox=\"0 -960 960 960\">\n",
              "    <path d=\"M120-120v-720h720v720H120Zm60-500h600v-160H180v160Zm220 220h160v-160H400v160Zm0 220h160v-160H400v160ZM180-400h160v-160H180v160Zm440 0h160v-160H620v160ZM180-180h160v-160H180v160Zm440 0h160v-160H620v160Z\"/>\n",
              "  </svg>\n",
              "    </button>\n",
              "\n",
              "  <style>\n",
              "    .colab-df-container {\n",
              "      display:flex;\n",
              "      gap: 12px;\n",
              "    }\n",
              "\n",
              "    .colab-df-convert {\n",
              "      background-color: #E8F0FE;\n",
              "      border: none;\n",
              "      border-radius: 50%;\n",
              "      cursor: pointer;\n",
              "      display: none;\n",
              "      fill: #1967D2;\n",
              "      height: 32px;\n",
              "      padding: 0 0 0 0;\n",
              "      width: 32px;\n",
              "    }\n",
              "\n",
              "    .colab-df-convert:hover {\n",
              "      background-color: #E2EBFA;\n",
              "      box-shadow: 0px 1px 2px rgba(60, 64, 67, 0.3), 0px 1px 3px 1px rgba(60, 64, 67, 0.15);\n",
              "      fill: #174EA6;\n",
              "    }\n",
              "\n",
              "    .colab-df-buttons div {\n",
              "      margin-bottom: 4px;\n",
              "    }\n",
              "\n",
              "    [theme=dark] .colab-df-convert {\n",
              "      background-color: #3B4455;\n",
              "      fill: #D2E3FC;\n",
              "    }\n",
              "\n",
              "    [theme=dark] .colab-df-convert:hover {\n",
              "      background-color: #434B5C;\n",
              "      box-shadow: 0px 1px 3px 1px rgba(0, 0, 0, 0.15);\n",
              "      filter: drop-shadow(0px 1px 2px rgba(0, 0, 0, 0.3));\n",
              "      fill: #FFFFFF;\n",
              "    }\n",
              "  </style>\n",
              "\n",
              "    <script>\n",
              "      const buttonEl =\n",
              "        document.querySelector('#df-e0e87750-6aca-419c-867c-eadbd52d57b0 button.colab-df-convert');\n",
              "      buttonEl.style.display =\n",
              "        google.colab.kernel.accessAllowed ? 'block' : 'none';\n",
              "\n",
              "      async function convertToInteractive(key) {\n",
              "        const element = document.querySelector('#df-e0e87750-6aca-419c-867c-eadbd52d57b0');\n",
              "        const dataTable =\n",
              "          await google.colab.kernel.invokeFunction('convertToInteractive',\n",
              "                                                    [key], {});\n",
              "        if (!dataTable) return;\n",
              "\n",
              "        const docLinkHtml = 'Like what you see? Visit the ' +\n",
              "          '<a target=\"_blank\" href=https://colab.research.google.com/notebooks/data_table.ipynb>data table notebook</a>'\n",
              "          + ' to learn more about interactive tables.';\n",
              "        element.innerHTML = '';\n",
              "        dataTable['output_type'] = 'display_data';\n",
              "        await google.colab.output.renderOutput(dataTable, element);\n",
              "        const docLink = document.createElement('div');\n",
              "        docLink.innerHTML = docLinkHtml;\n",
              "        element.appendChild(docLink);\n",
              "      }\n",
              "    </script>\n",
              "  </div>\n",
              "\n",
              "\n",
              "<div id=\"df-3639b120-74de-4209-83cc-1147ac2fd461\">\n",
              "  <button class=\"colab-df-quickchart\" onclick=\"quickchart('df-3639b120-74de-4209-83cc-1147ac2fd461')\"\n",
              "            title=\"Suggest charts\"\n",
              "            style=\"display:none;\">\n",
              "\n",
              "<svg xmlns=\"http://www.w3.org/2000/svg\" height=\"24px\"viewBox=\"0 0 24 24\"\n",
              "     width=\"24px\">\n",
              "    <g>\n",
              "        <path d=\"M19 3H5c-1.1 0-2 .9-2 2v14c0 1.1.9 2 2 2h14c1.1 0 2-.9 2-2V5c0-1.1-.9-2-2-2zM9 17H7v-7h2v7zm4 0h-2V7h2v10zm4 0h-2v-4h2v4z\"/>\n",
              "    </g>\n",
              "</svg>\n",
              "  </button>\n",
              "\n",
              "<style>\n",
              "  .colab-df-quickchart {\n",
              "      --bg-color: #E8F0FE;\n",
              "      --fill-color: #1967D2;\n",
              "      --hover-bg-color: #E2EBFA;\n",
              "      --hover-fill-color: #174EA6;\n",
              "      --disabled-fill-color: #AAA;\n",
              "      --disabled-bg-color: #DDD;\n",
              "  }\n",
              "\n",
              "  [theme=dark] .colab-df-quickchart {\n",
              "      --bg-color: #3B4455;\n",
              "      --fill-color: #D2E3FC;\n",
              "      --hover-bg-color: #434B5C;\n",
              "      --hover-fill-color: #FFFFFF;\n",
              "      --disabled-bg-color: #3B4455;\n",
              "      --disabled-fill-color: #666;\n",
              "  }\n",
              "\n",
              "  .colab-df-quickchart {\n",
              "    background-color: var(--bg-color);\n",
              "    border: none;\n",
              "    border-radius: 50%;\n",
              "    cursor: pointer;\n",
              "    display: none;\n",
              "    fill: var(--fill-color);\n",
              "    height: 32px;\n",
              "    padding: 0;\n",
              "    width: 32px;\n",
              "  }\n",
              "\n",
              "  .colab-df-quickchart:hover {\n",
              "    background-color: var(--hover-bg-color);\n",
              "    box-shadow: 0 1px 2px rgba(60, 64, 67, 0.3), 0 1px 3px 1px rgba(60, 64, 67, 0.15);\n",
              "    fill: var(--button-hover-fill-color);\n",
              "  }\n",
              "\n",
              "  .colab-df-quickchart-complete:disabled,\n",
              "  .colab-df-quickchart-complete:disabled:hover {\n",
              "    background-color: var(--disabled-bg-color);\n",
              "    fill: var(--disabled-fill-color);\n",
              "    box-shadow: none;\n",
              "  }\n",
              "\n",
              "  .colab-df-spinner {\n",
              "    border: 2px solid var(--fill-color);\n",
              "    border-color: transparent;\n",
              "    border-bottom-color: var(--fill-color);\n",
              "    animation:\n",
              "      spin 1s steps(1) infinite;\n",
              "  }\n",
              "\n",
              "  @keyframes spin {\n",
              "    0% {\n",
              "      border-color: transparent;\n",
              "      border-bottom-color: var(--fill-color);\n",
              "      border-left-color: var(--fill-color);\n",
              "    }\n",
              "    20% {\n",
              "      border-color: transparent;\n",
              "      border-left-color: var(--fill-color);\n",
              "      border-top-color: var(--fill-color);\n",
              "    }\n",
              "    30% {\n",
              "      border-color: transparent;\n",
              "      border-left-color: var(--fill-color);\n",
              "      border-top-color: var(--fill-color);\n",
              "      border-right-color: var(--fill-color);\n",
              "    }\n",
              "    40% {\n",
              "      border-color: transparent;\n",
              "      border-right-color: var(--fill-color);\n",
              "      border-top-color: var(--fill-color);\n",
              "    }\n",
              "    60% {\n",
              "      border-color: transparent;\n",
              "      border-right-color: var(--fill-color);\n",
              "    }\n",
              "    80% {\n",
              "      border-color: transparent;\n",
              "      border-right-color: var(--fill-color);\n",
              "      border-bottom-color: var(--fill-color);\n",
              "    }\n",
              "    90% {\n",
              "      border-color: transparent;\n",
              "      border-bottom-color: var(--fill-color);\n",
              "    }\n",
              "  }\n",
              "</style>\n",
              "\n",
              "  <script>\n",
              "    async function quickchart(key) {\n",
              "      const quickchartButtonEl =\n",
              "        document.querySelector('#' + key + ' button');\n",
              "      quickchartButtonEl.disabled = true;  // To prevent multiple clicks.\n",
              "      quickchartButtonEl.classList.add('colab-df-spinner');\n",
              "      try {\n",
              "        const charts = await google.colab.kernel.invokeFunction(\n",
              "            'suggestCharts', [key], {});\n",
              "      } catch (error) {\n",
              "        console.error('Error during call to suggestCharts:', error);\n",
              "      }\n",
              "      quickchartButtonEl.classList.remove('colab-df-spinner');\n",
              "      quickchartButtonEl.classList.add('colab-df-quickchart-complete');\n",
              "    }\n",
              "    (() => {\n",
              "      let quickchartButtonEl =\n",
              "        document.querySelector('#df-3639b120-74de-4209-83cc-1147ac2fd461 button');\n",
              "      quickchartButtonEl.style.display =\n",
              "        google.colab.kernel.accessAllowed ? 'block' : 'none';\n",
              "    })();\n",
              "  </script>\n",
              "</div>\n",
              "    </div>\n",
              "  </div>\n"
            ],
            "text/plain": [
              "      pp  Condition     HR     RMSSD         SCL  Squaltiy  Sneutral  \\\n",
              "0    NaN          0   61.0  0.061420   80.239727  0.944941  0.968862   \n",
              "1    NaN          0   61.0  0.061420   77.365127  0.930303  0.884570   \n",
              "2    NaN          0   64.0  0.049663   77.359559  0.933104  0.931965   \n",
              "3    NaN          0   60.0  0.052487   76.728772  0.904466  0.806947   \n",
              "4    NaN          0   61.0  0.051189   76.512877  0.929025  0.951412   \n",
              "...   ..        ...    ...       ...         ...       ...       ...   \n",
              "3133 NaN          1   87.0  0.034990  116.476370  0.868840  0.621930   \n",
              "3134 NaN          1   90.0  0.031483  119.436115  0.864207  0.788663   \n",
              "3135 NaN          1   90.0  0.046118  120.251942  0.904196  0.935585   \n",
              "3136 NaN          1  105.0  0.091713  118.821358  0.892659  0.778797   \n",
              "3137 NaN          1  102.0  0.094105  129.258755  0.880194  0.826127   \n",
              "\n",
              "        Shappy      Ssad    Sangry  ...  SmouthOpen  SleftEyeClosed  \\\n",
              "0     0.023946  0.001300  0.016315  ...    0.000000        0.000000   \n",
              "1     0.076952  0.001144  0.017392  ...    0.000000        0.020921   \n",
              "2     0.031468  0.000371  0.023774  ...    0.000000        0.000000   \n",
              "3     0.105516  0.006459  0.009809  ...    0.000000        0.118644   \n",
              "4     0.028358  0.001095  0.018130  ...    0.000000        0.033333   \n",
              "...        ...       ...       ...  ...         ...             ...   \n",
              "3133  0.065528  0.004949  0.005039  ...    0.688034        0.047009   \n",
              "3134  0.011051  0.006334  0.004389  ...    0.750000        0.014151   \n",
              "3135  0.006838  0.004309  0.015983  ...    0.520362        0.072398   \n",
              "3136  0.011026  0.030104  0.011238  ...    0.745192        0.000000   \n",
              "3137  0.007707  0.013535  0.014548  ...    0.331754        0.033175   \n",
              "\n",
              "      SrightEyeClosed  SleftEyebrowLowered  SleftEyebrowRaised  \\\n",
              "0            0.000000             0.050000            0.025000   \n",
              "1            0.000000             0.004184            0.108787   \n",
              "2            0.000000             0.025000            0.025000   \n",
              "3            0.046610             0.038136            0.033898   \n",
              "4            0.012500             0.179167            0.125000   \n",
              "...               ...                  ...                 ...   \n",
              "3133         0.115385             0.222222            0.000000   \n",
              "3134         0.018868             0.433962            0.000000   \n",
              "3135         0.190045             0.158371            0.000000   \n",
              "3136         0.000000             0.225962            0.000000   \n",
              "3137         0.071090             0.137441            0.000000   \n",
              "\n",
              "      SrightEyebrowLowered  SrightEyebrowRaised  SgazeDirectionForward  \\\n",
              "0                 0.020833             0.000000               0.962500   \n",
              "1                 0.000000             0.000000               0.945607   \n",
              "2                 0.004167             0.000000               0.966667   \n",
              "3                 0.000000             0.025424               0.970339   \n",
              "4                 0.004167             0.000000               0.958333   \n",
              "...                    ...                  ...                    ...   \n",
              "3133              0.042735             0.581197               0.871795   \n",
              "3134              0.103774             0.014151               0.660377   \n",
              "3135              0.022624             0.000000               0.936652   \n",
              "3136              0.206731             0.000000               0.899038   \n",
              "3137              0.042654             0.000000               0.639810   \n",
              "\n",
              "      SgazeDirectionLeft  SgazeDirectionRight  \n",
              "0               0.000000             0.016667  \n",
              "1               0.000000             0.000000  \n",
              "2               0.000000             0.012500  \n",
              "3               0.004237             0.000000  \n",
              "4               0.000000             0.029167  \n",
              "...                  ...                  ...  \n",
              "3133            0.000000             0.098291  \n",
              "3134            0.042453             0.108491  \n",
              "3135            0.000000             0.049774  \n",
              "3136            0.000000             0.067308  \n",
              "3137            0.004739             0.274882  \n",
              "\n",
              "[2502 rows x 27 columns]"
            ]
          },
          "execution_count": 17,
          "metadata": {},
          "output_type": "execute_result"
        }
      ],
      "source": [
        "df"
      ]
    },
    {
      "cell_type": "code",
      "execution_count": null,
      "metadata": {
        "colab": {
          "base_uri": "https://localhost:8080/",
          "height": 447
        },
        "id": "1IChsiJuxwjm",
        "outputId": "e909d8de-d02f-4263-bdcd-affb3a4e117a"
      },
      "outputs": [
        {
          "data": {
            "text/plain": [
              "<Axes: >"
            ]
          },
          "execution_count": 18,
          "metadata": {},
          "output_type": "execute_result"
        },
        {
          "data": {
            "image/png": "[encoded data removed]",
            "text/plain": [
              "<Figure size 640x480 with 1 Axes>"
            ]
          },
          "metadata": {},
          "output_type": "display_data"
        }
      ],
      "source": [
        "df.boxplot(column=['RMSSD'])"
      ]
    },
    {
      "cell_type": "code",
      "execution_count": null,
      "metadata": {
        "colab": {
          "base_uri": "https://localhost:8080/"
        },
        "id": "mgvwYza3yEyz",
        "outputId": "a99f9ffc-4756-47c7-90a5-ca2ea4922799"
      },
      "outputs": [
        {
          "data": {
            "text/plain": [
              "Condition\n",
              "0    1150\n",
              "1    1352\n",
              "dtype: int64"
            ]
          },
          "execution_count": 19,
          "metadata": {},
          "output_type": "execute_result"
        }
      ],
      "source": [
        "grouped = df.groupby(['Condition'])\n",
        "grouped.aggregate(np.sum)\n",
        "grouped.size()"
      ]
    },
    {
      "cell_type": "code",
      "execution_count": null,
      "metadata": {
        "colab": {
          "base_uri": "https://localhost:8080/",
          "height": 482
        },
        "id": "DT_dy-6kypou",
        "outputId": "9ee97eb0-2a7c-4756-f654-7870f961886e"
      },
      "outputs": [
        {
          "name": "stdout",
          "output_type": "stream",
          "text": [
            "1    1352\n",
            "0    1150\n",
            "Name: Condition, dtype: int64\n"
          ]
        },
        {
          "data": {
            "image/png": "[encoded data removed]",
            "text/plain": [
              "<Figure size 640x480 with 1 Axes>"
            ]
          },
          "metadata": {},
          "output_type": "display_data"
        }
      ],
      "source": [
        "sns.countplot(df[\"Condition\"])\n",
        "print(df.Condition.value_counts())"
      ]
    },
    {
      "cell_type": "code",
      "execution_count": null,
      "metadata": {
        "colab": {
          "base_uri": "https://localhost:8080/",
          "height": 728
        },
        "id": "Qh75zVCIzIzT",
        "outputId": "977b8c2b-2382-490f-ef21-f78e0e9c17c9"
      },
      "outputs": [
        {
          "name": "stdout",
          "output_type": "stream",
          "text": [
            "Minimum:: 57.0\n",
            "Maximum:: 107.0\n",
            "Range:: 50.0\n",
            "\n",
            "\n",
            "-------------Stress or Non Stress HR Data-------------\n",
            "(56.949000000000005, 73.667]    1367\n",
            "(73.667, 90.333]                 997\n",
            "(90.333, 107.0]                  138\n",
            "Name: HR, dtype: int64\n",
            "\n",
            "------------------Stress Data HR----------------\n",
            "(56.949000000000005, 73.667]    771\n",
            "(73.667, 90.333]                465\n",
            "(90.333, 107.0]                 116\n",
            "Name: HR, dtype: int64\n"
          ]
        },
        {
          "data": {
            "text/plain": [
              "<Axes: >"
            ]
          },
          "execution_count": 21,
          "metadata": {},
          "output_type": "execute_result"
        },
        {
          "data": {
            "image/png": "[encoded data removed]",
            "text/plain": [
              "<Figure size 640x480 with 1 Axes>"
            ]
          },
          "metadata": {},
          "output_type": "display_data"
        }
      ],
      "source": [
        "p=df['HR'].max()\n",
        "q=df['HR'].min()\n",
        "print(\"Minimum::\", q)\n",
        "print(\"Maximum::\", p)\n",
        "r=p-q\n",
        "print(\"Range::\",r)\n",
        "n=3\n",
        "a=df['HR'].value_counts(bins=n)\n",
        "print(\"\\n\\n-------------Stress or Non Stress HR Data-------------\")\n",
        "print(a)\n",
        "df_filtered_1 = df.query('Condition == 1') #stress\n",
        "df_filtered_0 = df.query('Condition == 0') #non stress\n",
        "\n",
        "a1 = df_filtered_1['HR'].value_counts(bins=n) #stress\n",
        "a0 = df_filtered_0['HR'].value_counts(bins=n) #non stress\n",
        "\n",
        "print(\"\\n------------------Stress Data HR----------------\")\n",
        "print(a1)\n",
        "a1.plot()\n",
        "\n"
      ]
    },
    {
      "cell_type": "code",
      "execution_count": null,
      "metadata": {
        "colab": {
          "base_uri": "https://localhost:8080/",
          "height": 725
        },
        "id": "lKXFGATO125E",
        "outputId": "f5790024-7818-4ead-9106-0da7874b4eb2"
      },
      "outputs": [
        {
          "name": "stdout",
          "output_type": "stream",
          "text": [
            "Minimum:: 0.0\n",
            "Maximum:: 0.352978\n",
            "Range:: 0.352978\n",
            "\n",
            "\n",
            "-------------Stress or Non Stress RMSSD Data-------------\n",
            "(56.949000000000005, 73.667]    1367\n",
            "(73.667, 90.333]                 997\n",
            "(90.333, 107.0]                  138\n",
            "Name: HR, dtype: int64\n",
            "\n",
            "------------------Stress Data HRV/RMSSD----------------\n",
            "(-0.001353, 0.118]    1198\n",
            "(0.118, 0.235]         143\n",
            "(0.235, 0.353]          11\n",
            "Name: RMSSD, dtype: int64\n"
          ]
        },
        {
          "data": {
            "text/plain": [
              "<Axes: >"
            ]
          },
          "execution_count": 22,
          "metadata": {},
          "output_type": "execute_result"
        },
        {
          "data": {
            "image/png": "[encoded data removed]",
            "text/plain": [
              "<Figure size 640x480 with 1 Axes>"
            ]
          },
          "metadata": {},
          "output_type": "display_data"
        }
      ],
      "source": [
        "p=df['RMSSD'].max()\n",
        "q=df['RMSSD'].min()\n",
        "print(\"Minimum::\", q)\n",
        "print(\"Maximum::\", p)\n",
        "r=p-q\n",
        "print(\"Range::\",r)\n",
        "n=3\n",
        "a=df['HR'].value_counts(bins=n)\n",
        "print(\"\\n\\n-------------Stress or Non Stress RMSSD Data-------------\")\n",
        "print(a)\n",
        "df_filtered_1 = df.query('Condition == 1') #stress\n",
        "df_filtered_0 = df.query('Condition == 0') #non stress\n",
        "\n",
        "a1 = df_filtered_1['RMSSD'].value_counts(bins=n) #stress\n",
        "a0 = df_filtered_0['RMSSD'].value_counts(bins=n) #non stress\n",
        "\n",
        "print(\"\\n------------------Stress Data HRV/RMSSD----------------\")\n",
        "print(a1)\n",
        "a1.plot()\n"
      ]
    },
    {
      "cell_type": "code",
      "execution_count": null,
      "metadata": {
        "colab": {
          "base_uri": "https://localhost:8080/",
          "height": 725
        },
        "id": "hTu1LS_72T8v",
        "outputId": "709e5a83-b9f2-44f3-96ed-c6ed0c9a8872"
      },
      "outputs": [
        {
          "name": "stdout",
          "output_type": "stream",
          "text": [
            "Minimum:: 53.25268\n",
            "Maximum:: 1455.23043\n",
            "Range:: 1401.97775\n",
            "\n",
            "\n",
            "-------------Stress or Non Stress SCL Data-------------\n",
            "(51.85, 520.579]      2264\n",
            "(520.579, 987.905]     188\n",
            "(987.905, 1455.23]      50\n",
            "Name: SCL, dtype: int64\n",
            "\n",
            "------------------Stress Data SCL----------------\n",
            "(58.851, 441.782]      1119\n",
            "(441.782, 823.567]      149\n",
            "(823.567, 1205.353]      84\n",
            "Name: SCL, dtype: int64\n"
          ]
        },
        {
          "data": {
            "text/plain": [
              "<Axes: >"
            ]
          },
          "execution_count": 23,
          "metadata": {},
          "output_type": "execute_result"
        },
        {
          "data": {
            "image/png": "[encoded data removed]",
            "text/plain": [
              "<Figure size 640x480 with 1 Axes>"
            ]
          },
          "metadata": {},
          "output_type": "display_data"
        }
      ],
      "source": [
        "p=df['SCL'].max()\n",
        "q=df['SCL'].min()\n",
        "print(\"Minimum::\", q)\n",
        "print(\"Maximum::\", p)\n",
        "r=p-q\n",
        "print(\"Range::\",r)\n",
        "n=3\n",
        "a=df['SCL'].value_counts(bins=n)\n",
        "print(\"\\n\\n-------------Stress or Non Stress SCL Data-------------\")\n",
        "print(a)\n",
        "df_filtered_1 = df.query('Condition == 1') #stress\n",
        "df_filtered_0 = df.query('Condition == 0') #non stress\n",
        "\n",
        "a1 = df_filtered_1['SCL'].value_counts(bins=n) #stress\n",
        "a0 = df_filtered_0['SCL'].value_counts(bins=n) #non stress\n",
        "\n",
        "print(\"\\n------------------Stress Data SCL----------------\")\n",
        "print(a1)\n",
        "a1.plot()\n"
      ]
    },
    {
      "cell_type": "code",
      "execution_count": null,
      "metadata": {
        "colab": {
          "base_uri": "https://localhost:8080/"
        },
        "id": "-eLhFQ_62wfM",
        "outputId": "b6664983-5198-4c33-ca13-b850e3e48d68"
      },
      "outputs": [
        {
          "name": "stdout",
          "output_type": "stream",
          "text": [
            "--------------Sad Data-----------\n",
            "(-0.0016970000000000002, 0.0581]    1762\n",
            "(0.0581, 0.116]                      428\n",
            "(0.116, 0.174]                       174\n",
            "(0.174, 0.232]                        73\n",
            "(0.232, 0.29]                         36\n",
            "(0.29, 0.348]                         20\n",
            "(0.348, 0.406]                         3\n",
            "(0.464, 0.522]                         3\n",
            "(0.406, 0.464]                         2\n",
            "(0.639, 0.697]                         1\n",
            "(0.522, 0.581]                         0\n",
            "(0.581, 0.639]                         0\n",
            "Name: Ssad, dtype: int64\n",
            "\n",
            "::::::::::::::::Non stress data:::::::::::::::::\n",
            "(-0.0016970000000000002, 0.0581]    814\n",
            "(0.0581, 0.116]                     192\n",
            "(0.116, 0.174]                       77\n",
            "(0.174, 0.232]                       36\n",
            "(0.232, 0.29]                        15\n",
            "(0.29, 0.348]                        10\n",
            "(0.348, 0.406]                        2\n",
            "(0.464, 0.522]                        2\n",
            "(0.406, 0.464]                        1\n",
            "(0.639, 0.697]                        1\n",
            "(0.522, 0.581]                        0\n",
            "(0.581, 0.639]                        0\n",
            "Name: Ssad, dtype: int64\n",
            "\n",
            "--------------Left Eyes Data-----------\n",
            "(-0.00243, 0.143]    1773\n",
            "(0.143, 0.287]        347\n",
            "(0.287, 0.43]         164\n",
            "(0.43, 0.573]         105\n",
            "(0.573, 0.716]         45\n",
            "(0.716, 0.86]          35\n",
            "(0.86, 1.003]          31\n",
            "(1.289, 1.433]          2\n",
            "(1.003, 1.146]          0\n",
            "(1.146, 1.289]          0\n",
            "Name: SleftEyeClosed, dtype: int64\n",
            "\n",
            "::::::::::::::::Non stress data:::::::::::::::::\n",
            "(-0.00243, 0.143]    844\n",
            "(0.143, 0.287]       133\n",
            "(0.287, 0.43]         69\n",
            "(0.43, 0.573]         50\n",
            "(0.573, 0.716]        26\n",
            "(0.716, 0.86]         21\n",
            "(0.86, 1.003]          5\n",
            "(1.289, 1.433]         2\n",
            "(1.003, 1.146]         0\n",
            "(1.146, 1.289]         0\n",
            "Name: SleftEyeClosed, dtype: int64\n",
            "\n",
            "--------------Right Eyes Data-----------\n",
            "(-0.001979, 0.245]    2117\n",
            "(0.245, 0.489]         267\n",
            "(0.489, 0.734]          82\n",
            "(0.734, 0.979]          36\n",
            "Name: SrightEyeClosed, dtype: int64\n",
            "\n",
            "::::::::::::::::Non stress data:::::::::::::::::\n",
            "(-0.00185, 0.212]    950\n",
            "(0.212, 0.425]       128\n",
            "(0.425, 0.638]        56\n",
            "(0.638, 0.85]         16\n",
            "Name: SrightEyeClosed, dtype: int64\n",
            "\n",
            "--------------Left Eyes Data-----------\n",
            "(-0.001983, 0.123]    1519\n",
            "(0.123, 0.246]         262\n",
            "(0.246, 0.369]         243\n",
            "(0.369, 0.491]         173\n",
            "(0.491, 0.614]         146\n",
            "(0.614, 0.737]          81\n",
            "(0.737, 0.86]           51\n",
            "(0.86, 0.983]           27\n",
            "Name: SleftEyebrowLowered, dtype: int64\n",
            "\n",
            "::::::::::::::::Non stress data:::::::::::::::::\n",
            "(-0.00195, 0.119]    682\n",
            "(0.237, 0.356]       111\n",
            "(0.119, 0.237]       103\n",
            "(0.356, 0.475]        81\n",
            "(0.475, 0.593]        76\n",
            "(0.593, 0.712]        42\n",
            "(0.712, 0.831]        36\n",
            "(0.831, 0.95]         19\n",
            "Name: SleftEyebrowLowered, dtype: int64\n",
            "\n",
            "--------------Left Eyes Data-----------\n",
            "(-0.001996, 0.124]    1642\n",
            "(0.124, 0.249]         247\n",
            "(0.249, 0.373]         168\n",
            "(0.373, 0.498]         126\n",
            "(0.498, 0.622]          95\n",
            "(0.747, 0.871]          81\n",
            "(0.871, 0.996]          73\n",
            "(0.622, 0.747]          70\n",
            "Name: SleftEyebrowRaised, dtype: int64\n",
            "\n",
            "::::::::::::::::Non stress data:::::::::::::::::\n",
            "(-0.001996, 0.124]    767\n",
            "(0.124, 0.249]        124\n",
            "(0.249, 0.373]         80\n",
            "(0.373, 0.498]         52\n",
            "(0.871, 0.996]         36\n",
            "(0.747, 0.871]         33\n",
            "(0.498, 0.622]         29\n",
            "(0.622, 0.747]         29\n",
            "Name: SleftEyebrowRaised, dtype: int64\n",
            "\n",
            "--------------Left Eyes Data-----------\n",
            "(-0.001996, 0.124]    1772\n",
            "(0.124, 0.249]         243\n",
            "(0.249, 0.373]         149\n",
            "(0.373, 0.498]         109\n",
            "(0.871, 0.996]          97\n",
            "(0.498, 0.622]          59\n",
            "(0.747, 0.871]          38\n",
            "(0.622, 0.747]          35\n",
            "Name: SrightEyebrowLowered, dtype: int64\n",
            "\n",
            "::::::::::::::::Non stress data:::::::::::::::::\n",
            "(-0.001996, 0.124]    805\n",
            "(0.124, 0.249]        111\n",
            "(0.249, 0.373]         77\n",
            "(0.373, 0.498]         51\n",
            "(0.871, 0.996]         46\n",
            "(0.498, 0.622]         27\n",
            "(0.747, 0.871]         18\n",
            "(0.622, 0.747]         15\n",
            "Name: SrightEyebrowLowered, dtype: int64\n",
            "\n",
            "--------------Left Eyes Data-----------\n",
            "(-0.00214, 0.143]    2022\n",
            "(0.143, 0.286]        140\n",
            "(0.858, 1.001]        121\n",
            "(0.429, 0.572]         64\n",
            "(0.286, 0.429]         57\n",
            "(0.572, 0.715]         48\n",
            "(0.715, 0.858]         48\n",
            "(1.001, 1.144]          2\n",
            "Name: SrightEyebrowRaised, dtype: int64\n",
            "\n",
            "::::::::::::::::Non stress data:::::::::::::::::\n",
            "(-0.00214, 0.143]    947\n",
            "(0.143, 0.286]        78\n",
            "(0.858, 1.001]        58\n",
            "(0.429, 0.572]        23\n",
            "(0.286, 0.429]        17\n",
            "(0.572, 0.715]        13\n",
            "(0.715, 0.858]        12\n",
            "(1.001, 1.144]         2\n",
            "Name: SrightEyebrowRaised, dtype: int64\n",
            "\n",
            "--------------Svalence------------\n",
            "(-0.0294, 0.0542]    1117\n",
            "(-0.113, -0.0294]     803\n",
            "(-0.197, -0.113]      246\n",
            "(-0.28, -0.197]       124\n",
            "(0.0542, 0.138]        99\n",
            "(-0.364, -0.28]        41\n",
            "(0.138, 0.221]         32\n",
            "(0.221, 0.305]         17\n",
            "(0.305, 0.389]         11\n",
            "(-0.448, -0.364]        4\n",
            "(-0.531, -0.448]        3\n",
            "(0.389, 0.472]          2\n",
            "(-0.617, -0.531]        1\n",
            "(0.472, 0.556]          1\n",
            "(0.556, 0.64]           1\n",
            "Name: Svalence, dtype: int64\n",
            "\n",
            "::::::::::::::::Non stress data:::::::::::::::::\n",
            "(-0.0294, 0.0542]    570\n",
            "(-0.113, -0.0294]    298\n",
            "(-0.197, -0.113]      88\n",
            "(-0.28, -0.197]       61\n",
            "(0.0542, 0.138]       61\n",
            "(0.138, 0.221]        23\n",
            "(-0.364, -0.28]       16\n",
            "(0.221, 0.305]        13\n",
            "(0.305, 0.389]        10\n",
            "(-0.448, -0.364]       3\n",
            "(-0.531, -0.448]       2\n",
            "(0.389, 0.472]         2\n",
            "(-0.617, -0.531]       1\n",
            "(0.472, 0.556]         1\n",
            "(0.556, 0.64]          1\n",
            "Name: Svalence, dtype: int64\n",
            "\n",
            "--------------Sangry-------------\n",
            "(-0.0013210000000000001, 0.0321]    1951\n",
            "(0.0321, 0.0642]                     276\n",
            "(0.0642, 0.0963]                     116\n",
            "(0.0963, 0.128]                       71\n",
            "(0.128, 0.16]                         31\n",
            "(0.16, 0.193]                         24\n",
            "(0.193, 0.225]                        18\n",
            "(0.225, 0.257]                        10\n",
            "(0.289, 0.321]                         3\n",
            "(0.257, 0.289]                         2\n",
            "Name: Sangry, dtype: int64\n",
            "\n",
            "::::::::::::::::Non stress data:::::::::::::::::\n",
            "(-0.0013210000000000001, 0.0321]    924\n",
            "(0.0321, 0.0642]                    114\n",
            "(0.0642, 0.0963]                     34\n",
            "(0.0963, 0.128]                      31\n",
            "(0.128, 0.16]                        13\n",
            "(0.16, 0.193]                        13\n",
            "(0.193, 0.225]                       11\n",
            "(0.225, 0.257]                        7\n",
            "(0.289, 0.321]                        2\n",
            "(0.257, 0.289]                        1\n",
            "Name: Sangry, dtype: int64\n",
            "\n",
            "------------Shappy-----------\n",
            "(-0.001923, 0.0615]    2163\n",
            "(0.0615, 0.123]         204\n",
            "(0.123, 0.185]           57\n",
            "(0.185, 0.246]           32\n",
            "(0.246, 0.308]           19\n",
            "(0.308, 0.369]           19\n",
            "(0.369, 0.431]            2\n",
            "(0.677, 0.738]            2\n",
            "(0.431, 0.492]            1\n",
            "(0.554, 0.615]            1\n",
            "(0.615, 0.677]            1\n",
            "(0.861, 0.923]            1\n",
            "(0.492, 0.554]            0\n",
            "(0.738, 0.8]              0\n",
            "(0.8, 0.861]              0\n",
            "Name: Shappy, dtype: int64\n",
            "\n",
            "::::::::::::::::Non stress data:::::::::::::::::\n",
            "(-0.001923, 0.0615]    919\n",
            "(0.0615, 0.123]        119\n",
            "(0.123, 0.185]          45\n",
            "(0.185, 0.246]          26\n",
            "(0.246, 0.308]          18\n",
            "(0.308, 0.369]          15\n",
            "(0.369, 0.431]           2\n",
            "(0.677, 0.738]           2\n",
            "(0.431, 0.492]           1\n",
            "(0.554, 0.615]           1\n",
            "(0.615, 0.677]           1\n",
            "(0.861, 0.923]           1\n",
            "(0.492, 0.554]           0\n",
            "(0.738, 0.8]             0\n",
            "(0.8, 0.861]             0\n",
            "Name: Shappy, dtype: int64\n"
          ]
        }
      ],
      "source": [
        "n=12\n",
        "a=df[\"Ssad\"].value_counts(bins=n)\n",
        "print(\"--------------Sad Data-----------\")\n",
        "print(a)\n",
        "df_filtered_1 = df.query('Condition == 1') #stress\n",
        "df_filtered_0 = df.query('Condition == 0') #non stress\n",
        "a1 = df_filtered_1['Ssad'].value_counts(bins=n) #stress\n",
        "a0 = df_filtered_0['Ssad'].value_counts(bins=n) #non stress\n",
        "print(\"\\n::::::::::::::::Non stress data:::::::::::::::::\")\n",
        "print(a0)\n",
        "\n",
        "\n",
        "n=10\n",
        "a=df[\"SleftEyeClosed\"].value_counts(bins=n)\n",
        "print(\"\\n--------------Left Eyes Data-----------\")\n",
        "print(a)\n",
        "df_filtered_1 = df.query('Condition == 1') #stress\n",
        "df_filtered_0 = df.query('Condition == 0') #non stress\n",
        "a1 = df_filtered_1['SleftEyeClosed'].value_counts(bins=n) #stress\n",
        "a0 = df_filtered_0['SleftEyeClosed'].value_counts(bins=n) #non stress\n",
        "print(\"\\n::::::::::::::::Non stress data:::::::::::::::::\")\n",
        "print(a0)\n",
        "\n",
        "\n",
        "\n",
        "n=4\n",
        "a=df[\"SrightEyeClosed\"].value_counts(bins=n)\n",
        "print(\"\\n--------------Right Eyes Data-----------\")\n",
        "print(a)\n",
        "df_filtered_1 = df.query('Condition == 1') #stress\n",
        "df_filtered_0 = df.query('Condition == 0') #non stress\n",
        "a1 = df_filtered_1['SrightEyeClosed'].value_counts(bins=n) #stress\n",
        "a0 = df_filtered_0['SrightEyeClosed'].value_counts(bins=n) #non stress\n",
        "print(\"\\n::::::::::::::::Non stress data:::::::::::::::::\")\n",
        "print(a0)\n",
        "\n",
        "\n",
        "\n",
        "n=8\n",
        "a=df[\"SleftEyebrowLowered\"].value_counts(bins=n)\n",
        "print(\"\\n--------------Left Eyes Data-----------\")\n",
        "print(a)\n",
        "df_filtered_1 = df.query('Condition == 1') #stress\n",
        "df_filtered_0 = df.query('Condition == 0') #non stress\n",
        "a1 = df_filtered_1['SleftEyebrowLowered'].value_counts(bins=n) #stress\n",
        "a0 = df_filtered_0['SleftEyebrowLowered'].value_counts(bins=n) #non stress\n",
        "print(\"\\n::::::::::::::::Non stress data:::::::::::::::::\")\n",
        "print(a0)\n",
        "\n",
        "\n",
        "a=df[\"SleftEyebrowRaised\"].value_counts(bins=n)\n",
        "print(\"\\n--------------Left Eyes Data-----------\")\n",
        "print(a)\n",
        "df_filtered_1 = df.query('Condition == 1') #stress\n",
        "df_filtered_0 = df.query('Condition == 0') #non stress\n",
        "a1 = df_filtered_1['SleftEyebrowRaised'].value_counts(bins=n) #stress\n",
        "a0 = df_filtered_0['SleftEyebrowRaised'].value_counts(bins=n) #non stress\n",
        "print(\"\\n::::::::::::::::Non stress data:::::::::::::::::\")\n",
        "print(a0)\n",
        "0\n",
        "\n",
        "\n",
        "a=df[\"SrightEyebrowLowered\"].value_counts(bins=n)\n",
        "print(\"\\n--------------Left Eyes Data-----------\")\n",
        "print(a)\n",
        "df_filtered_1 = df.query('Condition == 1') #stress\n",
        "df_filtered_0 = df.query('Condition == 0') #non stress\n",
        "a1 = df_filtered_1['SrightEyebrowLowered'].value_counts(bins=n) #stress\n",
        "a0 = df_filtered_0['SrightEyebrowLowered'].value_counts(bins=n) #non stress\n",
        "print(\"\\n::::::::::::::::Non stress data:::::::::::::::::\")\n",
        "print(a0)\n",
        "\n",
        "\n",
        "a=df[\"SrightEyebrowRaised\"].value_counts(bins=n)\n",
        "print(\"\\n--------------Left Eyes Data-----------\")\n",
        "print(a)\n",
        "df_filtered_1 = df.query('Condition == 1') #stress\n",
        "df_filtered_0 = df.query('Condition == 0') #non stress\n",
        "a1 = df_filtered_1['SrightEyebrowRaised'].value_counts(bins=n) #stress\n",
        "a0 = df_filtered_0['SrightEyebrowRaised'].value_counts(bins=n) #non stress\n",
        "print(\"\\n::::::::::::::::Non stress data:::::::::::::::::\")\n",
        "print(a0)\n",
        "\n",
        "\n",
        "\n",
        "n=15\n",
        "a=df[\"Svalence\"].value_counts(bins=n)\n",
        "print(\"\\n--------------Svalence------------\")\n",
        "print(a)\n",
        "df_filtered_1 = df.query('Condition == 1') #stress\n",
        "df_filtered_0 = df.query('Condition == 0') #non stress\n",
        "a1 = df_filtered_1['Svalence'].value_counts(bins=n) #stress\n",
        "a0 = df_filtered_0['Svalence'].value_counts(bins=n) #non stress\n",
        "print(\"\\n::::::::::::::::Non stress data:::::::::::::::::\")\n",
        "print(a0)\n",
        "\n",
        "\n",
        "n=10\n",
        "a=df[\"Sangry\"].value_counts(bins=n)\n",
        "print(\"\\n--------------Sangry-------------\")\n",
        "print(a)\n",
        "df_filtered_1 = df.query('Condition == 1') #stress\n",
        "df_filtered_0 = df.query('Condition == 0') #non stress\n",
        "a1 = df_filtered_1['Sangry'].value_counts(bins=n) #stress\n",
        "a0 = df_filtered_0['Sangry'].value_counts(bins=n) #non stress\n",
        "print(\"\\n::::::::::::::::Non stress data:::::::::::::::::\")\n",
        "print(a0)\n",
        "\n",
        "\n",
        "n=15\n",
        "a=df[\"Shappy\"].value_counts(bins=n)\n",
        "print(\"\\n------------Shappy-----------\")\n",
        "print(a)\n",
        "df_filtered_1 = df.query('Condition == 1') #stress\n",
        "df_filtered_0 = df.query('Condition == 0') #non stress\n",
        "a1 = df_filtered_1['Shappy'].value_counts(bins=n) #stress\n",
        "a0 = df_filtered_0['Shappy'].value_counts(bins=n) #non stress\n",
        "print(\"\\n::::::::::::::::Non stress data:::::::::::::::::\")\n",
        "print(a0)"
      ]
    },
    {
      "cell_type": "code",
      "execution_count": null,
      "metadata": {
        "colab": {
          "base_uri": "https://localhost:8080/",
          "height": 256
        },
        "id": "xvaUqBXuQxX3",
        "outputId": "8c094c65-f615-44ef-a4b9-6b0b27f34ca5"
      },
      "outputs": [
        {
          "data": {
            "text/html": [
              "\n",
              "  <div id=\"df-4870a4ee-a0dd-4642-9f9a-d4bcd89bd902\" class=\"colab-df-container\">\n",
              "    <div>\n",
              "<style scoped>\n",
              "    .dataframe tbody tr th:only-of-type {\n",
              "        vertical-align: middle;\n",
              "    }\n",
              "\n",
              "    .dataframe tbody tr th {\n",
              "        vertical-align: top;\n",
              "    }\n",
              "\n",
              "    .dataframe thead th {\n",
              "        text-align: right;\n",
              "    }\n",
              "</style>\n",
              "<table border=\"1\" class=\"dataframe\">\n",
              "  <thead>\n",
              "    <tr style=\"text-align: right;\">\n",
              "      <th></th>\n",
              "      <th>pp</th>\n",
              "      <th>Condition</th>\n",
              "      <th>HR</th>\n",
              "      <th>RMSSD</th>\n",
              "      <th>SCL</th>\n",
              "      <th>Squaltiy</th>\n",
              "      <th>Sneutral</th>\n",
              "      <th>Shappy</th>\n",
              "      <th>Ssad</th>\n",
              "      <th>Sangry</th>\n",
              "      <th>...</th>\n",
              "      <th>SmouthOpen</th>\n",
              "      <th>SleftEyeClosed</th>\n",
              "      <th>SrightEyeClosed</th>\n",
              "      <th>SleftEyebrowLowered</th>\n",
              "      <th>SleftEyebrowRaised</th>\n",
              "      <th>SrightEyebrowLowered</th>\n",
              "      <th>SrightEyebrowRaised</th>\n",
              "      <th>SgazeDirectionForward</th>\n",
              "      <th>SgazeDirectionLeft</th>\n",
              "      <th>SgazeDirectionRight</th>\n",
              "    </tr>\n",
              "  </thead>\n",
              "  <tbody>\n",
              "    <tr>\n",
              "      <th>0</th>\n",
              "      <td>NaN</td>\n",
              "      <td>0</td>\n",
              "      <td>61.0</td>\n",
              "      <td>0.061420</td>\n",
              "      <td>80.239727</td>\n",
              "      <td>0.944941</td>\n",
              "      <td>0.968862</td>\n",
              "      <td>0.023946</td>\n",
              "      <td>0.001300</td>\n",
              "      <td>0.016315</td>\n",
              "      <td>...</td>\n",
              "      <td>0.0</td>\n",
              "      <td>0.000000</td>\n",
              "      <td>0.00000</td>\n",
              "      <td>0.050000</td>\n",
              "      <td>0.025000</td>\n",
              "      <td>0.020833</td>\n",
              "      <td>0.000000</td>\n",
              "      <td>0.962500</td>\n",
              "      <td>0.000000</td>\n",
              "      <td>0.016667</td>\n",
              "    </tr>\n",
              "    <tr>\n",
              "      <th>1</th>\n",
              "      <td>NaN</td>\n",
              "      <td>0</td>\n",
              "      <td>61.0</td>\n",
              "      <td>0.061420</td>\n",
              "      <td>77.365127</td>\n",
              "      <td>0.930303</td>\n",
              "      <td>0.884570</td>\n",
              "      <td>0.076952</td>\n",
              "      <td>0.001144</td>\n",
              "      <td>0.017392</td>\n",
              "      <td>...</td>\n",
              "      <td>0.0</td>\n",
              "      <td>0.020921</td>\n",
              "      <td>0.00000</td>\n",
              "      <td>0.004184</td>\n",
              "      <td>0.108787</td>\n",
              "      <td>0.000000</td>\n",
              "      <td>0.000000</td>\n",
              "      <td>0.945607</td>\n",
              "      <td>0.000000</td>\n",
              "      <td>0.000000</td>\n",
              "    </tr>\n",
              "    <tr>\n",
              "      <th>2</th>\n",
              "      <td>NaN</td>\n",
              "      <td>0</td>\n",
              "      <td>64.0</td>\n",
              "      <td>0.049663</td>\n",
              "      <td>77.359559</td>\n",
              "      <td>0.933104</td>\n",
              "      <td>0.931965</td>\n",
              "      <td>0.031468</td>\n",
              "      <td>0.000371</td>\n",
              "      <td>0.023774</td>\n",
              "      <td>...</td>\n",
              "      <td>0.0</td>\n",
              "      <td>0.000000</td>\n",
              "      <td>0.00000</td>\n",
              "      <td>0.025000</td>\n",
              "      <td>0.025000</td>\n",
              "      <td>0.004167</td>\n",
              "      <td>0.000000</td>\n",
              "      <td>0.966667</td>\n",
              "      <td>0.000000</td>\n",
              "      <td>0.012500</td>\n",
              "    </tr>\n",
              "    <tr>\n",
              "      <th>3</th>\n",
              "      <td>NaN</td>\n",
              "      <td>0</td>\n",
              "      <td>60.0</td>\n",
              "      <td>0.052487</td>\n",
              "      <td>76.728772</td>\n",
              "      <td>0.904466</td>\n",
              "      <td>0.806947</td>\n",
              "      <td>0.105516</td>\n",
              "      <td>0.006459</td>\n",
              "      <td>0.009809</td>\n",
              "      <td>...</td>\n",
              "      <td>0.0</td>\n",
              "      <td>0.118644</td>\n",
              "      <td>0.04661</td>\n",
              "      <td>0.038136</td>\n",
              "      <td>0.033898</td>\n",
              "      <td>0.000000</td>\n",
              "      <td>0.025424</td>\n",
              "      <td>0.970339</td>\n",
              "      <td>0.004237</td>\n",
              "      <td>0.000000</td>\n",
              "    </tr>\n",
              "    <tr>\n",
              "      <th>4</th>\n",
              "      <td>NaN</td>\n",
              "      <td>0</td>\n",
              "      <td>61.0</td>\n",
              "      <td>0.051189</td>\n",
              "      <td>76.512877</td>\n",
              "      <td>0.929025</td>\n",
              "      <td>0.951412</td>\n",
              "      <td>0.028358</td>\n",
              "      <td>0.001095</td>\n",
              "      <td>0.018130</td>\n",
              "      <td>...</td>\n",
              "      <td>0.0</td>\n",
              "      <td>0.033333</td>\n",
              "      <td>0.01250</td>\n",
              "      <td>0.179167</td>\n",
              "      <td>0.125000</td>\n",
              "      <td>0.004167</td>\n",
              "      <td>0.000000</td>\n",
              "      <td>0.958333</td>\n",
              "      <td>0.000000</td>\n",
              "      <td>0.029167</td>\n",
              "    </tr>\n",
              "  </tbody>\n",
              "</table>\n",
              "<p>5 rows × 27 columns</p>\n",
              "</div>\n",
              "    <div class=\"colab-df-buttons\">\n",
              "\n",
              "  <div class=\"colab-df-container\">\n",
              "    <button class=\"colab-df-convert\" onclick=\"convertToInteractive('df-4870a4ee-a0dd-4642-9f9a-d4bcd89bd902')\"\n",
              "            title=\"Convert this dataframe to an interactive table.\"\n",
              "            style=\"display:none;\">\n",
              "\n",
              "  <svg xmlns=\"http://www.w3.org/2000/svg\" height=\"24px\" viewBox=\"0 -960 960 960\">\n",
              "    <path d=\"M120-120v-720h720v720H120Zm60-500h600v-160H180v160Zm220 220h160v-160H400v160Zm0 220h160v-160H400v160ZM180-400h160v-160H180v160Zm440 0h160v-160H620v160ZM180-180h160v-160H180v160Zm440 0h160v-160H620v160Z\"/>\n",
              "  </svg>\n",
              "    </button>\n",
              "\n",
              "  <style>\n",
              "    .colab-df-container {\n",
              "      display:flex;\n",
              "      gap: 12px;\n",
              "    }\n",
              "\n",
              "    .colab-df-convert {\n",
              "      background-color: #E8F0FE;\n",
              "      border: none;\n",
              "      border-radius: 50%;\n",
              "      cursor: pointer;\n",
              "      display: none;\n",
              "      fill: #1967D2;\n",
              "      height: 32px;\n",
              "      padding: 0 0 0 0;\n",
              "      width: 32px;\n",
              "    }\n",
              "\n",
              "    .colab-df-convert:hover {\n",
              "      background-color: #E2EBFA;\n",
              "      box-shadow: 0px 1px 2px rgba(60, 64, 67, 0.3), 0px 1px 3px 1px rgba(60, 64, 67, 0.15);\n",
              "      fill: #174EA6;\n",
              "    }\n",
              "\n",
              "    .colab-df-buttons div {\n",
              "      margin-bottom: 4px;\n",
              "    }\n",
              "\n",
              "    [theme=dark] .colab-df-convert {\n",
              "      background-color: #3B4455;\n",
              "      fill: #D2E3FC;\n",
              "    }\n",
              "\n",
              "    [theme=dark] .colab-df-convert:hover {\n",
              "      background-color: #434B5C;\n",
              "      box-shadow: 0px 1px 3px 1px rgba(0, 0, 0, 0.15);\n",
              "      filter: drop-shadow(0px 1px 2px rgba(0, 0, 0, 0.3));\n",
              "      fill: #FFFFFF;\n",
              "    }\n",
              "  </style>\n",
              "\n",
              "    <script>\n",
              "      const buttonEl =\n",
              "        document.querySelector('#df-4870a4ee-a0dd-4642-9f9a-d4bcd89bd902 button.colab-df-convert');\n",
              "      buttonEl.style.display =\n",
              "        google.colab.kernel.accessAllowed ? 'block' : 'none';\n",
              "\n",
              "      async function convertToInteractive(key) {\n",
              "        const element = document.querySelector('#df-4870a4ee-a0dd-4642-9f9a-d4bcd89bd902');\n",
              "        const dataTable =\n",
              "          await google.colab.kernel.invokeFunction('convertToInteractive',\n",
              "                                                    [key], {});\n",
              "        if (!dataTable) return;\n",
              "\n",
              "        const docLinkHtml = 'Like what you see? Visit the ' +\n",
              "          '<a target=\"_blank\" href=https://colab.research.google.com/notebooks/data_table.ipynb>data table notebook</a>'\n",
              "          + ' to learn more about interactive tables.';\n",
              "        element.innerHTML = '';\n",
              "        dataTable['output_type'] = 'display_data';\n",
              "        await google.colab.output.renderOutput(dataTable, element);\n",
              "        const docLink = document.createElement('div');\n",
              "        docLink.innerHTML = docLinkHtml;\n",
              "        element.appendChild(docLink);\n",
              "      }\n",
              "    </script>\n",
              "  </div>\n",
              "\n",
              "\n",
              "<div id=\"df-ce97d39e-6991-4711-9a36-709c700cce99\">\n",
              "  <button class=\"colab-df-quickchart\" onclick=\"quickchart('df-ce97d39e-6991-4711-9a36-709c700cce99')\"\n",
              "            title=\"Suggest charts\"\n",
              "            style=\"display:none;\">\n",
              "\n",
              "<svg xmlns=\"http://www.w3.org/2000/svg\" height=\"24px\"viewBox=\"0 0 24 24\"\n",
              "     width=\"24px\">\n",
              "    <g>\n",
              "        <path d=\"M19 3H5c-1.1 0-2 .9-2 2v14c0 1.1.9 2 2 2h14c1.1 0 2-.9 2-2V5c0-1.1-.9-2-2-2zM9 17H7v-7h2v7zm4 0h-2V7h2v10zm4 0h-2v-4h2v4z\"/>\n",
              "    </g>\n",
              "</svg>\n",
              "  </button>\n",
              "\n",
              "<style>\n",
              "  .colab-df-quickchart {\n",
              "      --bg-color: #E8F0FE;\n",
              "      --fill-color: #1967D2;\n",
              "      --hover-bg-color: #E2EBFA;\n",
              "      --hover-fill-color: #174EA6;\n",
              "      --disabled-fill-color: #AAA;\n",
              "      --disabled-bg-color: #DDD;\n",
              "  }\n",
              "\n",
              "  [theme=dark] .colab-df-quickchart {\n",
              "      --bg-color: #3B4455;\n",
              "      --fill-color: #D2E3FC;\n",
              "      --hover-bg-color: #434B5C;\n",
              "      --hover-fill-color: #FFFFFF;\n",
              "      --disabled-bg-color: #3B4455;\n",
              "      --disabled-fill-color: #666;\n",
              "  }\n",
              "\n",
              "  .colab-df-quickchart {\n",
              "    background-color: var(--bg-color);\n",
              "    border: none;\n",
              "    border-radius: 50%;\n",
              "    cursor: pointer;\n",
              "    display: none;\n",
              "    fill: var(--fill-color);\n",
              "    height: 32px;\n",
              "    padding: 0;\n",
              "    width: 32px;\n",
              "  }\n",
              "\n",
              "  .colab-df-quickchart:hover {\n",
              "    background-color: var(--hover-bg-color);\n",
              "    box-shadow: 0 1px 2px rgba(60, 64, 67, 0.3), 0 1px 3px 1px rgba(60, 64, 67, 0.15);\n",
              "    fill: var(--button-hover-fill-color);\n",
              "  }\n",
              "\n",
              "  .colab-df-quickchart-complete:disabled,\n",
              "  .colab-df-quickchart-complete:disabled:hover {\n",
              "    background-color: var(--disabled-bg-color);\n",
              "    fill: var(--disabled-fill-color);\n",
              "    box-shadow: none;\n",
              "  }\n",
              "\n",
              "  .colab-df-spinner {\n",
              "    border: 2px solid var(--fill-color);\n",
              "    border-color: transparent;\n",
              "    border-bottom-color: var(--fill-color);\n",
              "    animation:\n",
              "      spin 1s steps(1) infinite;\n",
              "  }\n",
              "\n",
              "  @keyframes spin {\n",
              "    0% {\n",
              "      border-color: transparent;\n",
              "      border-bottom-color: var(--fill-color);\n",
              "      border-left-color: var(--fill-color);\n",
              "    }\n",
              "    20% {\n",
              "      border-color: transparent;\n",
              "      border-left-color: var(--fill-color);\n",
              "      border-top-color: var(--fill-color);\n",
              "    }\n",
              "    30% {\n",
              "      border-color: transparent;\n",
              "      border-left-color: var(--fill-color);\n",
              "      border-top-color: var(--fill-color);\n",
              "      border-right-color: var(--fill-color);\n",
              "    }\n",
              "    40% {\n",
              "      border-color: transparent;\n",
              "      border-right-color: var(--fill-color);\n",
              "      border-top-color: var(--fill-color);\n",
              "    }\n",
              "    60% {\n",
              "      border-color: transparent;\n",
              "      border-right-color: var(--fill-color);\n",
              "    }\n",
              "    80% {\n",
              "      border-color: transparent;\n",
              "      border-right-color: var(--fill-color);\n",
              "      border-bottom-color: var(--fill-color);\n",
              "    }\n",
              "    90% {\n",
              "      border-color: transparent;\n",
              "      border-bottom-color: var(--fill-color);\n",
              "    }\n",
              "  }\n",
              "</style>\n",
              "\n",
              "  <script>\n",
              "    async function quickchart(key) {\n",
              "      const quickchartButtonEl =\n",
              "        document.querySelector('#' + key + ' button');\n",
              "      quickchartButtonEl.disabled = true;  // To prevent multiple clicks.\n",
              "      quickchartButtonEl.classList.add('colab-df-spinner');\n",
              "      try {\n",
              "        const charts = await google.colab.kernel.invokeFunction(\n",
              "            'suggestCharts', [key], {});\n",
              "      } catch (error) {\n",
              "        console.error('Error during call to suggestCharts:', error);\n",
              "      }\n",
              "      quickchartButtonEl.classList.remove('colab-df-spinner');\n",
              "      quickchartButtonEl.classList.add('colab-df-quickchart-complete');\n",
              "    }\n",
              "    (() => {\n",
              "      let quickchartButtonEl =\n",
              "        document.querySelector('#df-ce97d39e-6991-4711-9a36-709c700cce99 button');\n",
              "      quickchartButtonEl.style.display =\n",
              "        google.colab.kernel.accessAllowed ? 'block' : 'none';\n",
              "    })();\n",
              "  </script>\n",
              "</div>\n",
              "    </div>\n",
              "  </div>\n"
            ],
            "text/plain": [
              "   pp  Condition    HR     RMSSD        SCL  Squaltiy  Sneutral    Shappy  \\\n",
              "0 NaN          0  61.0  0.061420  80.239727  0.944941  0.968862  0.023946   \n",
              "1 NaN          0  61.0  0.061420  77.365127  0.930303  0.884570  0.076952   \n",
              "2 NaN          0  64.0  0.049663  77.359559  0.933104  0.931965  0.031468   \n",
              "3 NaN          0  60.0  0.052487  76.728772  0.904466  0.806947  0.105516   \n",
              "4 NaN          0  61.0  0.051189  76.512877  0.929025  0.951412  0.028358   \n",
              "\n",
              "       Ssad    Sangry  ...  SmouthOpen  SleftEyeClosed  SrightEyeClosed  \\\n",
              "0  0.001300  0.016315  ...         0.0        0.000000          0.00000   \n",
              "1  0.001144  0.017392  ...         0.0        0.020921          0.00000   \n",
              "2  0.000371  0.023774  ...         0.0        0.000000          0.00000   \n",
              "3  0.006459  0.009809  ...         0.0        0.118644          0.04661   \n",
              "4  0.001095  0.018130  ...         0.0        0.033333          0.01250   \n",
              "\n",
              "   SleftEyebrowLowered  SleftEyebrowRaised  SrightEyebrowLowered  \\\n",
              "0             0.050000            0.025000              0.020833   \n",
              "1             0.004184            0.108787              0.000000   \n",
              "2             0.025000            0.025000              0.004167   \n",
              "3             0.038136            0.033898              0.000000   \n",
              "4             0.179167            0.125000              0.004167   \n",
              "\n",
              "   SrightEyebrowRaised  SgazeDirectionForward  SgazeDirectionLeft  \\\n",
              "0             0.000000               0.962500            0.000000   \n",
              "1             0.000000               0.945607            0.000000   \n",
              "2             0.000000               0.966667            0.000000   \n",
              "3             0.025424               0.970339            0.004237   \n",
              "4             0.000000               0.958333            0.000000   \n",
              "\n",
              "   SgazeDirectionRight  \n",
              "0             0.016667  \n",
              "1             0.000000  \n",
              "2             0.012500  \n",
              "3             0.000000  \n",
              "4             0.029167  \n",
              "\n",
              "[5 rows x 27 columns]"
            ]
          },
          "execution_count": 25,
          "metadata": {},
          "output_type": "execute_result"
        }
      ],
      "source": [
        "df.head()"
      ]
    },
    {
      "cell_type": "code",
      "execution_count": null,
      "metadata": {
        "colab": {
          "base_uri": "https://localhost:8080/"
        },
        "id": "xmxDto1tSKP-",
        "outputId": "3230d841-102b-4441-a1f8-fff575289f47"
      },
      "outputs": [
        {
          "name": "stdout",
          "output_type": "stream",
          "text": [
            "X_train 2001\n",
            "X_test 501\n",
            "Y_train 2001\n",
            "Y_test 501\n"
          ]
        },
        {
          "name": "stderr",
          "output_type": "stream",
          "text": [
            "<ipython-input-26-168a80b4a87d>:7: FutureWarning: In a future version of pandas all arguments of DataFrame.drop except for the argument 'labels' will be keyword-only.\n",
            "  X = df.drop(['Condition'],1)\n",
            "/usr/local/lib/python3.10/dist-packages/sklearn/utils/extmath.py:1047: RuntimeWarning: invalid value encountered in divide\n",
            "  updated_mean = (last_sum + new_sum) / updated_sample_count\n",
            "/usr/local/lib/python3.10/dist-packages/sklearn/utils/extmath.py:1052: RuntimeWarning: invalid value encountered in divide\n",
            "  T = new_sum / new_sample_count\n",
            "/usr/local/lib/python3.10/dist-packages/sklearn/utils/extmath.py:1072: RuntimeWarning: invalid value encountered in divide\n",
            "  new_unnormalized_variance -= correction**2 / new_sample_count\n"
          ]
        }
      ],
      "source": [
        "from sklearn.preprocessing import StandardScaler\n",
        "from sklearn.model_selection import train_test_split, GridSearchCV\n",
        "from sklearn.metrics import accuracy_score, confusion_matrix\n",
        "from sklearn.neighbors import KNeighborsClassifier, NeighborhoodComponentsAnalysis\n",
        "from sklearn.decomposition import PCA\n",
        "\n",
        "X = df.drop(['Condition'],1)\n",
        "Y = df['Condition']\n",
        "#to standardize range\n",
        "scaler = StandardScaler()\n",
        "X_train, X_test, Y_train, Y_test = train_test_split(X,Y,test_size=0.20, random_state=1)\n",
        "\n",
        "\n",
        "X_train = scaler.fit_transform(X_train)\n",
        "X_test = scaler.transform(X_test)\n",
        "\n",
        "\n",
        "print(\"X_train\", len(X_train))\n",
        "print(\"X_test\", len(X_test))\n",
        "print(\"Y_train\", len(Y_train))\n",
        "print(\"Y_test\", len(Y_test))"
      ]
    },
    {
      "cell_type": "code",
      "execution_count": null,
      "metadata": {
        "id": "BI-oyOGhun1T"
      },
      "outputs": [],
      "source": []
    },
    {
      "cell_type": "markdown",
      "metadata": {
        "id": "enLJ0gMryEEC"
      },
      "source": [
        "#Part 2"
      ]
    },
    {
      "cell_type": "code",
      "execution_count": null,
      "metadata": {
        "id": "vGzi5dETyGuY"
      },
      "outputs": [],
      "source": [
        "#lasso regression\n",
        "import numpy as np\n",
        "\n"
      ]
    },
    {
      "cell_type": "code",
      "execution_count": null,
      "metadata": {
        "colab": {
          "base_uri": "https://localhost:8080/"
        },
        "id": "0NQYbUxe0yPN",
        "outputId": "ff492bcf-c125-423e-b7f9-6006aa55d770"
      },
      "outputs": [
        {
          "data": {
            "text/plain": [
              "(2955, 43)"
            ]
          },
          "execution_count": 28,
          "metadata": {},
          "output_type": "execute_result"
        }
      ],
      "source": [
        "#load dataset\n",
        "data = pd.read_csv('/content/drive/My Drive/BDA_Project/BDA_Project/face_behave.csv')\n",
        "data=data.dropna()\n",
        "data.shape"
      ]
    },
    {
      "cell_type": "code",
      "execution_count": null,
      "metadata": {
        "id": "THemM-QV0_wF"
      },
      "outputs": [],
      "source": [
        "x=pd.DataFrame(data.drop(labels=['PP','Condition'], axis=1))\n",
        "y=pd.DataFrame(data['Condition'])"
      ]
    },
    {
      "cell_type": "code",
      "execution_count": null,
      "metadata": {
        "colab": {
          "base_uri": "https://localhost:8080/"
        },
        "id": "SevFoBsE1mzA",
        "outputId": "44ff9150-86f6-4a0f-de6d-2f2a84a1aec9"
      },
      "outputs": [
        {
          "data": {
            "text/plain": [
              "((2068, 41), (887, 41))"
            ]
          },
          "execution_count": 30,
          "metadata": {},
          "output_type": "execute_result"
        }
      ],
      "source": [
        "#Scaling and Splitting dataset\n",
        "from sklearn.preprocessing import MinMaxScaler\n",
        "Min_Max = MinMaxScaler()\n",
        "X = Min_Max.fit_transform(x)\n",
        "Y = Min_Max.fit_transform(y)\n",
        "X_train, X_test, Y_train, Y_test = train_test_split(X,Y,test_size=0.3, random_state=1)\n",
        "\n",
        "\n",
        "X_train.shape, X_test.shape"
      ]
    },
    {
      "cell_type": "code",
      "execution_count": null,
      "metadata": {
        "id": "Hrr6Ajxy2li6"
      },
      "outputs": [],
      "source": [
        "from sklearn.linear_model import Lasso, LogisticRegression\n",
        "from sklearn.feature_selection import SelectFromModel\n",
        "sel_ = SelectFromModel(LogisticRegression(C=0.5, penalty='l1', solver='liblinear'))\n",
        "sel_.fit(X_train, np.ravel(Y_train, order='C'))\n",
        "sel_.get_support()\n",
        "X_train = pd.DataFrame(X_train)\n"
      ]
    },
    {
      "cell_type": "code",
      "execution_count": null,
      "metadata": {
        "colab": {
          "base_uri": "https://localhost:8080/"
        },
        "id": "ZwXpvOD4Wryo",
        "outputId": "da84c9f0-fb89-4a2a-c12b-c29ddd769229"
      },
      "outputs": [
        {
          "name": "stdout",
          "output_type": "stream",
          "text": [
            "total features: 41\n",
            "selected features: 22\n",
            "features with coefficients rank to zero: 19\n"
          ]
        }
      ],
      "source": [
        "selected_feat = X_train.columns[(sel_.get_support())]\n",
        "print('total features: {}'.format((X_train.shape[1])))\n",
        "print('selected features: {}'.format(len(selected_feat)))\n",
        "print('features with coefficients rank to zero: {}'.format(np.sum(sel_.estimator_.coef_ == 0)))"
      ]
    },
    {
      "cell_type": "code",
      "execution_count": null,
      "metadata": {
        "colab": {
          "base_uri": "https://localhost:8080/"
        },
        "id": "QzwJofL9X2Ki",
        "outputId": "14565f1a-5bb2-482b-f736-631a44433c7b"
      },
      "outputs": [
        {
          "data": {
            "text/plain": [
              "Int64Index([0, 1, 3, 5, 6, 7, 8, 14, 16, 17, 21, 22, 24, 26, 29, 30, 34, 36,\n",
              "            37],\n",
              "           dtype='int64')"
            ]
          },
          "execution_count": 33,
          "metadata": {},
          "output_type": "execute_result"
        }
      ],
      "source": [
        "np.sum(sel_.estimator_.coef_ == 0)\n",
        "\n",
        "removed_feats = X_train.columns[(sel_.estimator_.coef_ == 0).ravel().tolist()]\n",
        "removed_feats"
      ]
    },
    {
      "cell_type": "code",
      "execution_count": null,
      "metadata": {
        "colab": {
          "base_uri": "https://localhost:8080/"
        },
        "id": "CJhwbr_jZOol",
        "outputId": "31f91c55-8e29-4336-8b75-7742b63ba892"
      },
      "outputs": [
        {
          "data": {
            "text/plain": [
              "((2068, 22), (887, 22))"
            ]
          },
          "execution_count": 34,
          "metadata": {},
          "output_type": "execute_result"
        }
      ],
      "source": [
        "X_train_selected = sel_.transform(X_train)\n",
        "X_test_selected = sel_.transform(X_test)\n",
        "X_train_selected.shape, X_test_selected.shape"
      ]
    },
    {
      "cell_type": "code",
      "execution_count": null,
      "metadata": {
        "colab": {
          "base_uri": "https://localhost:8080/"
        },
        "id": "ptmJsNG3Zmj4",
        "outputId": "73e98c21-45cb-4b47-e505-143d527e2dab"
      },
      "outputs": [
        {
          "data": {
            "text/plain": [
              "Int64Index([ 2,  4,  9, 10, 11, 12, 13, 15, 18, 19, 20, 23, 25, 27, 28, 31, 32,\n",
              "            33, 35, 38, 39, 40],\n",
              "           dtype='int64')"
            ]
          },
          "execution_count": 35,
          "metadata": {},
          "output_type": "execute_result"
        }
      ],
      "source": [
        "selected_feat.sort_values()"
      ]
    },
    {
      "cell_type": "code",
      "execution_count": null,
      "metadata": {
        "colab": {
          "base_uri": "https://localhost:8080/"
        },
        "id": "9IM63qR5ZsKt",
        "outputId": "b0ae12b0-dc6f-4d90-f1fe-224be30560c4"
      },
      "outputs": [
        {
          "data": {
            "text/plain": [
              "0.7914317925591883"
            ]
          },
          "execution_count": 36,
          "metadata": {},
          "output_type": "execute_result"
        }
      ],
      "source": [
        "from sklearn.ensemble import RandomForestClassifier\n",
        "from sklearn.metrics import accuracy_score\n",
        "\n",
        "clf = RandomForestClassifier(n_estimators=10000, random_state=0, n_jobs=-1)\n",
        "\n",
        "clf.fit(X_train_selected, np.ravel(Y_train, order='C'))\n",
        "\n",
        "y_pred = clf.predict(X_test_selected)\n",
        "\n",
        "accuracy_score(Y_test, y_pred)"
      ]
    },
    {
      "cell_type": "code",
      "execution_count": null,
      "metadata": {
        "id": "nHbM3AA2anTP"
      },
      "outputs": [],
      "source": []
    },
    {
      "cell_type": "markdown",
      "metadata": {
        "id": "didjW3wocLUK"
      },
      "source": [
        "# Part 3"
      ]
    },
    {
      "cell_type": "code",
      "execution_count": null,
      "metadata": {
        "colab": {
          "base_uri": "https://localhost:8080/"
        },
        "id": "c0GHxkm5ddBq",
        "outputId": "fc71cb27-877f-4f67-c6fd-8ccedb968036"
      },
      "outputs": [
        {
          "name": "stdout",
          "output_type": "stream",
          "text": [
            "Collecting keras==2.12.0\n",
            "  Downloading keras-2.12.0-py2.py3-none-any.whl (1.7 MB)\n",
            "\u001b[2K     \u001b[90m━━━━━━━━━━━━━━━━━━━━━━━━━━━━━━━━━━━━━━━━\u001b[0m \u001b[32m1.7/1.7 MB\u001b[0m \u001b[31m17.1 MB/s\u001b[0m eta \u001b[36m0:00:00\u001b[0m\n",
            "\u001b[?25hInstalling collected packages: keras\n",
            "  Attempting uninstall: keras\n",
            "    Found existing installation: keras 2.14.0\n",
            "    Uninstalling keras-2.14.0:\n",
            "      Successfully uninstalled keras-2.14.0\n",
            "\u001b[31mERROR: pip's dependency resolver does not currently take into account all the packages that are installed. This behaviour is the source of the following dependency conflicts.\n",
            "tensorflow 2.14.0 requires keras<2.15,>=2.14.0, but you have keras 2.12.0 which is incompatible.\u001b[0m\u001b[31m\n",
            "\u001b[0mSuccessfully installed keras-2.12.0\n"
          ]
        },
        {
          "data": {
            "application/vnd.colab-display-data+json": {
              "pip_warning": {
                "packages": [
                  "keras"
                ]
              }
            }
          },
          "metadata": {},
          "output_type": "display_data"
        }
      ],
      "source": [
        "pip install keras==2.12.0\n"
      ]
    },
    {
      "cell_type": "code",
      "execution_count": null,
      "metadata": {
        "id": "YsdeK7FwcNG4"
      },
      "outputs": [],
      "source": [
        "import pydot\n",
        "import pandas as pd\n",
        "import numpy as np\n",
        "import seaborn as sns\n",
        "sns.set()\n",
        "%matplotlib inline\n",
        "import matplotlib\n",
        "import matplotlib.pyplot as plt\n",
        "# Ignore earn ings\n",
        "import warnings\n",
        "warnings.filterwarnings('ignore')\n",
        "import sklearn\n",
        "from sklearn import metrics\n",
        "from sklearn.svm import SVC\n",
        "from sklearn.linear_model import LogisticRegression\n",
        "from sklearn.ensemble import RandomForestClassifier\n",
        "from sklearn.tree import export_graphviz, DecisionTreeClassifier\n",
        "from sklearn.preprocessing import StandardScaler\n",
        "from sklearn.model_selection import cross_val_score, train_test_split\n",
        "from sklearn.exceptions import NotFittedError\n",
        "import keras\n",
        "from keras.models import Sequential\n",
        "from keras.layers import Dense, Dropout\n",
        "from keras import optimizers\n",
        "from keras.wrappers.scikit_learn import KerasClassifier\n",
        "from IPython.display import display"
      ]
    },
    {
      "cell_type": "code",
      "execution_count": null,
      "metadata": {
        "id": "1vB51jJzeHh4"
      },
      "outputs": [],
      "source": [
        "def display_confusion_matrix(target, prediction, score=None):\n",
        "  cm = metrics.confusion_matrix(target, prediction)\n",
        "  plt.figure(figsize=(6,6))\n",
        "  sns.heatmap(cm, annot=True, fmt=\".4f\", linewidths=.5, square=True, cmap='BuGn')\n",
        "  plt.ylabel('Actual label')\n",
        "  plt.xlabel('Predicted label')\n",
        "  if score:\n",
        "    score_title = 'Accuracy Score: {0}'.format(round(score, 5))\n",
        "    plt.title(score_title, size = 25)\n",
        "\n",
        "\n",
        "def visualize_tree(tree, feature_names):\n",
        "  with open(\"dt.dot\", 'w') as f:\n",
        "    export_graphviz(tree, out_file=f, feature_names=feature_names)\n",
        "  try:\n",
        "    subprocess.check_call([\"dot\", \"-Tpng\", \"dt.dot\", \"-o\", \"dt.png\"])\n",
        "  except:\n",
        "    exit(\"Could not run dot, ie graphviz, to produce visualization\")\n",
        "\n",
        "def draw_missing_data_table(df):\n",
        "  total\t= df.isnull().sum().sort_values(ascending=False)\n",
        "  percent = (df.isnull().sum()/df.isnull().count()).sort_values(ascending=False)\n",
        "  missing_data = pd.concat([total, percent], axis=1, keys=['Total', 'Percent'])\n",
        "  return missing_data"
      ]
    },
    {
      "cell_type": "code",
      "execution_count": null,
      "metadata": {
        "colab": {
          "base_uri": "https://localhost:8080/"
        },
        "id": "Twx7atL0gtTv",
        "outputId": "a26f6ff3-6c34-42ae-f0be-2f77125e6b37"
      },
      "outputs": [
        {
          "data": {
            "text/html": [
              "\n",
              "  <div id=\"df-7367d615-8ccd-4cb7-8e7e-348338fe6c61\" class=\"colab-df-container\">\n",
              "    <div>\n",
              "<style scoped>\n",
              "    .dataframe tbody tr th:only-of-type {\n",
              "        vertical-align: middle;\n",
              "    }\n",
              "\n",
              "    .dataframe tbody tr th {\n",
              "        vertical-align: top;\n",
              "    }\n",
              "\n",
              "    .dataframe thead th {\n",
              "        text-align: right;\n",
              "    }\n",
              "</style>\n",
              "<table border=\"1\" class=\"dataframe\">\n",
              "  <thead>\n",
              "    <tr style=\"text-align: right;\">\n",
              "      <th></th>\n",
              "      <th>Condition</th>\n",
              "      <th>HR</th>\n",
              "      <th>RMSSD</th>\n",
              "    </tr>\n",
              "  </thead>\n",
              "  <tbody>\n",
              "    <tr>\n",
              "      <th>0</th>\n",
              "      <td>0.0</td>\n",
              "      <td>61.0</td>\n",
              "      <td>0.061420</td>\n",
              "    </tr>\n",
              "    <tr>\n",
              "      <th>1</th>\n",
              "      <td>0.0</td>\n",
              "      <td>61.0</td>\n",
              "      <td>0.061420</td>\n",
              "    </tr>\n",
              "    <tr>\n",
              "      <th>2</th>\n",
              "      <td>0.0</td>\n",
              "      <td>64.0</td>\n",
              "      <td>0.049663</td>\n",
              "    </tr>\n",
              "    <tr>\n",
              "      <th>3</th>\n",
              "      <td>0.0</td>\n",
              "      <td>60.0</td>\n",
              "      <td>0.052487</td>\n",
              "    </tr>\n",
              "    <tr>\n",
              "      <th>4</th>\n",
              "      <td>0.0</td>\n",
              "      <td>61.0</td>\n",
              "      <td>0.051189</td>\n",
              "    </tr>\n",
              "  </tbody>\n",
              "</table>\n",
              "</div>\n",
              "    <div class=\"colab-df-buttons\">\n",
              "\n",
              "  <div class=\"colab-df-container\">\n",
              "    <button class=\"colab-df-convert\" onclick=\"convertToInteractive('df-7367d615-8ccd-4cb7-8e7e-348338fe6c61')\"\n",
              "            title=\"Convert this dataframe to an interactive table.\"\n",
              "            style=\"display:none;\">\n",
              "\n",
              "  <svg xmlns=\"http://www.w3.org/2000/svg\" height=\"24px\" viewBox=\"0 -960 960 960\">\n",
              "    <path d=\"M120-120v-720h720v720H120Zm60-500h600v-160H180v160Zm220 220h160v-160H400v160Zm0 220h160v-160H400v160ZM180-400h160v-160H180v160Zm440 0h160v-160H620v160ZM180-180h160v-160H180v160Zm440 0h160v-160H620v160Z\"/>\n",
              "  </svg>\n",
              "    </button>\n",
              "\n",
              "  <style>\n",
              "    .colab-df-container {\n",
              "      display:flex;\n",
              "      gap: 12px;\n",
              "    }\n",
              "\n",
              "    .colab-df-convert {\n",
              "      background-color: #E8F0FE;\n",
              "      border: none;\n",
              "      border-radius: 50%;\n",
              "      cursor: pointer;\n",
              "      display: none;\n",
              "      fill: #1967D2;\n",
              "      height: 32px;\n",
              "      padding: 0 0 0 0;\n",
              "      width: 32px;\n",
              "    }\n",
              "\n",
              "    .colab-df-convert:hover {\n",
              "      background-color: #E2EBFA;\n",
              "      box-shadow: 0px 1px 2px rgba(60, 64, 67, 0.3), 0px 1px 3px 1px rgba(60, 64, 67, 0.15);\n",
              "      fill: #174EA6;\n",
              "    }\n",
              "\n",
              "    .colab-df-buttons div {\n",
              "      margin-bottom: 4px;\n",
              "    }\n",
              "\n",
              "    [theme=dark] .colab-df-convert {\n",
              "      background-color: #3B4455;\n",
              "      fill: #D2E3FC;\n",
              "    }\n",
              "\n",
              "    [theme=dark] .colab-df-convert:hover {\n",
              "      background-color: #434B5C;\n",
              "      box-shadow: 0px 1px 3px 1px rgba(0, 0, 0, 0.15);\n",
              "      filter: drop-shadow(0px 1px 2px rgba(0, 0, 0, 0.3));\n",
              "      fill: #FFFFFF;\n",
              "    }\n",
              "  </style>\n",
              "\n",
              "    <script>\n",
              "      const buttonEl =\n",
              "        document.querySelector('#df-7367d615-8ccd-4cb7-8e7e-348338fe6c61 button.colab-df-convert');\n",
              "      buttonEl.style.display =\n",
              "        google.colab.kernel.accessAllowed ? 'block' : 'none';\n",
              "\n",
              "      async function convertToInteractive(key) {\n",
              "        const element = document.querySelector('#df-7367d615-8ccd-4cb7-8e7e-348338fe6c61');\n",
              "        const dataTable =\n",
              "          await google.colab.kernel.invokeFunction('convertToInteractive',\n",
              "                                                    [key], {});\n",
              "        if (!dataTable) return;\n",
              "\n",
              "        const docLinkHtml = 'Like what you see? Visit the ' +\n",
              "          '<a target=\"_blank\" href=https://colab.research.google.com/notebooks/data_table.ipynb>data table notebook</a>'\n",
              "          + ' to learn more about interactive tables.';\n",
              "        element.innerHTML = '';\n",
              "        dataTable['output_type'] = 'display_data';\n",
              "        await google.colab.output.renderOutput(dataTable, element);\n",
              "        const docLink = document.createElement('div');\n",
              "        docLink.innerHTML = docLinkHtml;\n",
              "        element.appendChild(docLink);\n",
              "      }\n",
              "    </script>\n",
              "  </div>\n",
              "\n",
              "\n",
              "<div id=\"df-4e683040-d8dd-4e5e-ba13-d1dd0d24ff43\">\n",
              "  <button class=\"colab-df-quickchart\" onclick=\"quickchart('df-4e683040-d8dd-4e5e-ba13-d1dd0d24ff43')\"\n",
              "            title=\"Suggest charts\"\n",
              "            style=\"display:none;\">\n",
              "\n",
              "<svg xmlns=\"http://www.w3.org/2000/svg\" height=\"24px\"viewBox=\"0 0 24 24\"\n",
              "     width=\"24px\">\n",
              "    <g>\n",
              "        <path d=\"M19 3H5c-1.1 0-2 .9-2 2v14c0 1.1.9 2 2 2h14c1.1 0 2-.9 2-2V5c0-1.1-.9-2-2-2zM9 17H7v-7h2v7zm4 0h-2V7h2v10zm4 0h-2v-4h2v4z\"/>\n",
              "    </g>\n",
              "</svg>\n",
              "  </button>\n",
              "\n",
              "<style>\n",
              "  .colab-df-quickchart {\n",
              "      --bg-color: #E8F0FE;\n",
              "      --fill-color: #1967D2;\n",
              "      --hover-bg-color: #E2EBFA;\n",
              "      --hover-fill-color: #174EA6;\n",
              "      --disabled-fill-color: #AAA;\n",
              "      --disabled-bg-color: #DDD;\n",
              "  }\n",
              "\n",
              "  [theme=dark] .colab-df-quickchart {\n",
              "      --bg-color: #3B4455;\n",
              "      --fill-color: #D2E3FC;\n",
              "      --hover-bg-color: #434B5C;\n",
              "      --hover-fill-color: #FFFFFF;\n",
              "      --disabled-bg-color: #3B4455;\n",
              "      --disabled-fill-color: #666;\n",
              "  }\n",
              "\n",
              "  .colab-df-quickchart {\n",
              "    background-color: var(--bg-color);\n",
              "    border: none;\n",
              "    border-radius: 50%;\n",
              "    cursor: pointer;\n",
              "    display: none;\n",
              "    fill: var(--fill-color);\n",
              "    height: 32px;\n",
              "    padding: 0;\n",
              "    width: 32px;\n",
              "  }\n",
              "\n",
              "  .colab-df-quickchart:hover {\n",
              "    background-color: var(--hover-bg-color);\n",
              "    box-shadow: 0 1px 2px rgba(60, 64, 67, 0.3), 0 1px 3px 1px rgba(60, 64, 67, 0.15);\n",
              "    fill: var(--button-hover-fill-color);\n",
              "  }\n",
              "\n",
              "  .colab-df-quickchart-complete:disabled,\n",
              "  .colab-df-quickchart-complete:disabled:hover {\n",
              "    background-color: var(--disabled-bg-color);\n",
              "    fill: var(--disabled-fill-color);\n",
              "    box-shadow: none;\n",
              "  }\n",
              "\n",
              "  .colab-df-spinner {\n",
              "    border: 2px solid var(--fill-color);\n",
              "    border-color: transparent;\n",
              "    border-bottom-color: var(--fill-color);\n",
              "    animation:\n",
              "      spin 1s steps(1) infinite;\n",
              "  }\n",
              "\n",
              "  @keyframes spin {\n",
              "    0% {\n",
              "      border-color: transparent;\n",
              "      border-bottom-color: var(--fill-color);\n",
              "      border-left-color: var(--fill-color);\n",
              "    }\n",
              "    20% {\n",
              "      border-color: transparent;\n",
              "      border-left-color: var(--fill-color);\n",
              "      border-top-color: var(--fill-color);\n",
              "    }\n",
              "    30% {\n",
              "      border-color: transparent;\n",
              "      border-left-color: var(--fill-color);\n",
              "      border-top-color: var(--fill-color);\n",
              "      border-right-color: var(--fill-color);\n",
              "    }\n",
              "    40% {\n",
              "      border-color: transparent;\n",
              "      border-right-color: var(--fill-color);\n",
              "      border-top-color: var(--fill-color);\n",
              "    }\n",
              "    60% {\n",
              "      border-color: transparent;\n",
              "      border-right-color: var(--fill-color);\n",
              "    }\n",
              "    80% {\n",
              "      border-color: transparent;\n",
              "      border-right-color: var(--fill-color);\n",
              "      border-bottom-color: var(--fill-color);\n",
              "    }\n",
              "    90% {\n",
              "      border-color: transparent;\n",
              "      border-bottom-color: var(--fill-color);\n",
              "    }\n",
              "  }\n",
              "</style>\n",
              "\n",
              "  <script>\n",
              "    async function quickchart(key) {\n",
              "      const quickchartButtonEl =\n",
              "        document.querySelector('#' + key + ' button');\n",
              "      quickchartButtonEl.disabled = true;  // To prevent multiple clicks.\n",
              "      quickchartButtonEl.classList.add('colab-df-spinner');\n",
              "      try {\n",
              "        const charts = await google.colab.kernel.invokeFunction(\n",
              "            'suggestCharts', [key], {});\n",
              "      } catch (error) {\n",
              "        console.error('Error during call to suggestCharts:', error);\n",
              "      }\n",
              "      quickchartButtonEl.classList.remove('colab-df-spinner');\n",
              "      quickchartButtonEl.classList.add('colab-df-quickchart-complete');\n",
              "    }\n",
              "    (() => {\n",
              "      let quickchartButtonEl =\n",
              "        document.querySelector('#df-4e683040-d8dd-4e5e-ba13-d1dd0d24ff43 button');\n",
              "      quickchartButtonEl.style.display =\n",
              "        google.colab.kernel.accessAllowed ? 'block' : 'none';\n",
              "    })();\n",
              "  </script>\n",
              "</div>\n",
              "    </div>\n",
              "  </div>\n"
            ],
            "text/plain": [
              "   Condition    HR     RMSSD\n",
              "0        0.0  61.0  0.061420\n",
              "1        0.0  61.0  0.061420\n",
              "2        0.0  64.0  0.049663\n",
              "3        0.0  60.0  0.052487\n",
              "4        0.0  61.0  0.051189"
            ]
          },
          "execution_count": 41,
          "metadata": {},
          "output_type": "execute_result"
        }
      ],
      "source": [
        "train_df_raw = pd.read_csv('/content/drive/My Drive/BDA_Project/BDA_Project/hr.csv')\n",
        "train_df_raw.head()"
      ]
    },
    {
      "cell_type": "code",
      "execution_count": null,
      "metadata": {
        "id": "tQOquFJlhos8"
      },
      "outputs": [],
      "source": [
        "train_df_raw=train_df_raw.dropna()"
      ]
    },
    {
      "cell_type": "code",
      "execution_count": null,
      "metadata": {
        "colab": {
          "base_uri": "https://localhost:8080/"
        },
        "id": "KfKGmk2oh7Mz",
        "outputId": "617475e9-10e1-43d7-b08d-82926b7dfdd8"
      },
      "outputs": [
        {
          "data": {
            "text/html": [
              "\n",
              "  <div id=\"df-a19d7080-7340-4d5b-8337-8d8e1d5cd242\" class=\"colab-df-container\">\n",
              "    <div>\n",
              "<style scoped>\n",
              "    .dataframe tbody tr th:only-of-type {\n",
              "        vertical-align: middle;\n",
              "    }\n",
              "\n",
              "    .dataframe tbody tr th {\n",
              "        vertical-align: top;\n",
              "    }\n",
              "\n",
              "    .dataframe thead th {\n",
              "        text-align: right;\n",
              "    }\n",
              "</style>\n",
              "<table border=\"1\" class=\"dataframe\">\n",
              "  <thead>\n",
              "    <tr style=\"text-align: right;\">\n",
              "      <th></th>\n",
              "      <th>HR</th>\n",
              "      <th>RMSSD</th>\n",
              "    </tr>\n",
              "  </thead>\n",
              "  <tbody>\n",
              "    <tr>\n",
              "      <th>58</th>\n",
              "      <td>-0.953899</td>\n",
              "      <td>-0.346247</td>\n",
              "    </tr>\n",
              "    <tr>\n",
              "      <th>1194</th>\n",
              "      <td>-0.657246</td>\n",
              "      <td>-0.383351</td>\n",
              "    </tr>\n",
              "    <tr>\n",
              "      <th>422</th>\n",
              "      <td>0.430484</td>\n",
              "      <td>-0.422506</td>\n",
              "    </tr>\n",
              "    <tr>\n",
              "      <th>2576</th>\n",
              "      <td>0.232715</td>\n",
              "      <td>-0.412458</td>\n",
              "    </tr>\n",
              "    <tr>\n",
              "      <th>1892</th>\n",
              "      <td>1.617098</td>\n",
              "      <td>-0.318595</td>\n",
              "    </tr>\n",
              "  </tbody>\n",
              "</table>\n",
              "</div>\n",
              "    <div class=\"colab-df-buttons\">\n",
              "\n",
              "  <div class=\"colab-df-container\">\n",
              "    <button class=\"colab-df-convert\" onclick=\"convertToInteractive('df-a19d7080-7340-4d5b-8337-8d8e1d5cd242')\"\n",
              "            title=\"Convert this dataframe to an interactive table.\"\n",
              "            style=\"display:none;\">\n",
              "\n",
              "  <svg xmlns=\"http://www.w3.org/2000/svg\" height=\"24px\" viewBox=\"0 -960 960 960\">\n",
              "    <path d=\"M120-120v-720h720v720H120Zm60-500h600v-160H180v160Zm220 220h160v-160H400v160Zm0 220h160v-160H400v160ZM180-400h160v-160H180v160Zm440 0h160v-160H620v160ZM180-180h160v-160H180v160Zm440 0h160v-160H620v160Z\"/>\n",
              "  </svg>\n",
              "    </button>\n",
              "\n",
              "  <style>\n",
              "    .colab-df-container {\n",
              "      display:flex;\n",
              "      gap: 12px;\n",
              "    }\n",
              "\n",
              "    .colab-df-convert {\n",
              "      background-color: #E8F0FE;\n",
              "      border: none;\n",
              "      border-radius: 50%;\n",
              "      cursor: pointer;\n",
              "      display: none;\n",
              "      fill: #1967D2;\n",
              "      height: 32px;\n",
              "      padding: 0 0 0 0;\n",
              "      width: 32px;\n",
              "    }\n",
              "\n",
              "    .colab-df-convert:hover {\n",
              "      background-color: #E2EBFA;\n",
              "      box-shadow: 0px 1px 2px rgba(60, 64, 67, 0.3), 0px 1px 3px 1px rgba(60, 64, 67, 0.15);\n",
              "      fill: #174EA6;\n",
              "    }\n",
              "\n",
              "    .colab-df-buttons div {\n",
              "      margin-bottom: 4px;\n",
              "    }\n",
              "\n",
              "    [theme=dark] .colab-df-convert {\n",
              "      background-color: #3B4455;\n",
              "      fill: #D2E3FC;\n",
              "    }\n",
              "\n",
              "    [theme=dark] .colab-df-convert:hover {\n",
              "      background-color: #434B5C;\n",
              "      box-shadow: 0px 1px 3px 1px rgba(0, 0, 0, 0.15);\n",
              "      filter: drop-shadow(0px 1px 2px rgba(0, 0, 0, 0.3));\n",
              "      fill: #FFFFFF;\n",
              "    }\n",
              "  </style>\n",
              "\n",
              "    <script>\n",
              "      const buttonEl =\n",
              "        document.querySelector('#df-a19d7080-7340-4d5b-8337-8d8e1d5cd242 button.colab-df-convert');\n",
              "      buttonEl.style.display =\n",
              "        google.colab.kernel.accessAllowed ? 'block' : 'none';\n",
              "\n",
              "      async function convertToInteractive(key) {\n",
              "        const element = document.querySelector('#df-a19d7080-7340-4d5b-8337-8d8e1d5cd242');\n",
              "        const dataTable =\n",
              "          await google.colab.kernel.invokeFunction('convertToInteractive',\n",
              "                                                    [key], {});\n",
              "        if (!dataTable) return;\n",
              "\n",
              "        const docLinkHtml = 'Like what you see? Visit the ' +\n",
              "          '<a target=\"_blank\" href=https://colab.research.google.com/notebooks/data_table.ipynb>data table notebook</a>'\n",
              "          + ' to learn more about interactive tables.';\n",
              "        element.innerHTML = '';\n",
              "        dataTable['output_type'] = 'display_data';\n",
              "        await google.colab.output.renderOutput(dataTable, element);\n",
              "        const docLink = document.createElement('div');\n",
              "        docLink.innerHTML = docLinkHtml;\n",
              "        element.appendChild(docLink);\n",
              "      }\n",
              "    </script>\n",
              "  </div>\n",
              "\n",
              "\n",
              "<div id=\"df-acfdd44c-7d3d-49af-9ca8-32135f9021bd\">\n",
              "  <button class=\"colab-df-quickchart\" onclick=\"quickchart('df-acfdd44c-7d3d-49af-9ca8-32135f9021bd')\"\n",
              "            title=\"Suggest charts\"\n",
              "            style=\"display:none;\">\n",
              "\n",
              "<svg xmlns=\"http://www.w3.org/2000/svg\" height=\"24px\"viewBox=\"0 0 24 24\"\n",
              "     width=\"24px\">\n",
              "    <g>\n",
              "        <path d=\"M19 3H5c-1.1 0-2 .9-2 2v14c0 1.1.9 2 2 2h14c1.1 0 2-.9 2-2V5c0-1.1-.9-2-2-2zM9 17H7v-7h2v7zm4 0h-2V7h2v10zm4 0h-2v-4h2v4z\"/>\n",
              "    </g>\n",
              "</svg>\n",
              "  </button>\n",
              "\n",
              "<style>\n",
              "  .colab-df-quickchart {\n",
              "      --bg-color: #E8F0FE;\n",
              "      --fill-color: #1967D2;\n",
              "      --hover-bg-color: #E2EBFA;\n",
              "      --hover-fill-color: #174EA6;\n",
              "      --disabled-fill-color: #AAA;\n",
              "      --disabled-bg-color: #DDD;\n",
              "  }\n",
              "\n",
              "  [theme=dark] .colab-df-quickchart {\n",
              "      --bg-color: #3B4455;\n",
              "      --fill-color: #D2E3FC;\n",
              "      --hover-bg-color: #434B5C;\n",
              "      --hover-fill-color: #FFFFFF;\n",
              "      --disabled-bg-color: #3B4455;\n",
              "      --disabled-fill-color: #666;\n",
              "  }\n",
              "\n",
              "  .colab-df-quickchart {\n",
              "    background-color: var(--bg-color);\n",
              "    border: none;\n",
              "    border-radius: 50%;\n",
              "    cursor: pointer;\n",
              "    display: none;\n",
              "    fill: var(--fill-color);\n",
              "    height: 32px;\n",
              "    padding: 0;\n",
              "    width: 32px;\n",
              "  }\n",
              "\n",
              "  .colab-df-quickchart:hover {\n",
              "    background-color: var(--hover-bg-color);\n",
              "    box-shadow: 0 1px 2px rgba(60, 64, 67, 0.3), 0 1px 3px 1px rgba(60, 64, 67, 0.15);\n",
              "    fill: var(--button-hover-fill-color);\n",
              "  }\n",
              "\n",
              "  .colab-df-quickchart-complete:disabled,\n",
              "  .colab-df-quickchart-complete:disabled:hover {\n",
              "    background-color: var(--disabled-bg-color);\n",
              "    fill: var(--disabled-fill-color);\n",
              "    box-shadow: none;\n",
              "  }\n",
              "\n",
              "  .colab-df-spinner {\n",
              "    border: 2px solid var(--fill-color);\n",
              "    border-color: transparent;\n",
              "    border-bottom-color: var(--fill-color);\n",
              "    animation:\n",
              "      spin 1s steps(1) infinite;\n",
              "  }\n",
              "\n",
              "  @keyframes spin {\n",
              "    0% {\n",
              "      border-color: transparent;\n",
              "      border-bottom-color: var(--fill-color);\n",
              "      border-left-color: var(--fill-color);\n",
              "    }\n",
              "    20% {\n",
              "      border-color: transparent;\n",
              "      border-left-color: var(--fill-color);\n",
              "      border-top-color: var(--fill-color);\n",
              "    }\n",
              "    30% {\n",
              "      border-color: transparent;\n",
              "      border-left-color: var(--fill-color);\n",
              "      border-top-color: var(--fill-color);\n",
              "      border-right-color: var(--fill-color);\n",
              "    }\n",
              "    40% {\n",
              "      border-color: transparent;\n",
              "      border-right-color: var(--fill-color);\n",
              "      border-top-color: var(--fill-color);\n",
              "    }\n",
              "    60% {\n",
              "      border-color: transparent;\n",
              "      border-right-color: var(--fill-color);\n",
              "    }\n",
              "    80% {\n",
              "      border-color: transparent;\n",
              "      border-right-color: var(--fill-color);\n",
              "      border-bottom-color: var(--fill-color);\n",
              "    }\n",
              "    90% {\n",
              "      border-color: transparent;\n",
              "      border-bottom-color: var(--fill-color);\n",
              "    }\n",
              "  }\n",
              "</style>\n",
              "\n",
              "  <script>\n",
              "    async function quickchart(key) {\n",
              "      const quickchartButtonEl =\n",
              "        document.querySelector('#' + key + ' button');\n",
              "      quickchartButtonEl.disabled = true;  // To prevent multiple clicks.\n",
              "      quickchartButtonEl.classList.add('colab-df-spinner');\n",
              "      try {\n",
              "        const charts = await google.colab.kernel.invokeFunction(\n",
              "            'suggestCharts', [key], {});\n",
              "      } catch (error) {\n",
              "        console.error('Error during call to suggestCharts:', error);\n",
              "      }\n",
              "      quickchartButtonEl.classList.remove('colab-df-spinner');\n",
              "      quickchartButtonEl.classList.add('colab-df-quickchart-complete');\n",
              "    }\n",
              "    (() => {\n",
              "      let quickchartButtonEl =\n",
              "        document.querySelector('#df-acfdd44c-7d3d-49af-9ca8-32135f9021bd button');\n",
              "      quickchartButtonEl.style.display =\n",
              "        google.colab.kernel.accessAllowed ? 'block' : 'none';\n",
              "    })();\n",
              "  </script>\n",
              "</div>\n",
              "    </div>\n",
              "  </div>\n"
            ],
            "text/plain": [
              "            HR     RMSSD\n",
              "58   -0.953899 -0.346247\n",
              "1194 -0.657246 -0.383351\n",
              "422   0.430484 -0.422506\n",
              "2576  0.232715 -0.412458\n",
              "1892  1.617098 -0.318595"
            ]
          },
          "execution_count": 43,
          "metadata": {},
          "output_type": "execute_result"
        }
      ],
      "source": [
        "train_df = train_df_raw.copy()\n",
        "X = train_df.drop(['Condition'], 1)\n",
        "Y = train_df[ 'Condition' ]\n",
        "# be s ca Le our data, i t i s essent i a L fora smooth worh Eng o f the mode Le # Sca L ingmeans that each co Lunns as a 8 mean and a 1 van ance\n",
        "sc  = StandardScaler()\n",
        "X=pd.DataFrame(sc.fit_transform(X.values), index=X.index, columns=X.columns)\n",
        "# SpL itdataset for  /rodeL tes I ing\n",
        "X_train, X_test, Y_train, Y_test = train_test_split(X, Y, test_size=0.2, random_state=0)\n",
        "X_train.head()"
      ]
    },
    {
      "cell_type": "code",
      "execution_count": null,
      "metadata": {
        "colab": {
          "background_save": true
        },
        "id": "VFtnbjutiec-",
        "outputId": "881dc61e-6ec0-494c-8048-fdb558e74886"
      },
      "outputs": [
        {
          "data": {
            "image/png": "[encoded data removed]",
            "text/plain": [
              "<Figure size 600x600 with 2 Axes>"
            ]
          },
          "metadata": {},
          "output_type": "display_data"
        }
      ],
      "source": [
        "rf = RandomForestClassifier(n_estimators=200, random_state=42)\n",
        "rf.fit(X_train, Y_train)\n",
        "rf_prediction = rf.predict(X_test)\n",
        "score\t= metrics.accuracy_score(Y_test, rf_prediction)\n",
        "display_confusion_matrix(Y_test, rf_prediction, score=score)\n",
        "rf_score=rf_prediction"
      ]
    },
    {
      "cell_type": "code",
      "execution_count": null,
      "metadata": {
        "colab": {
          "background_save": true
        },
        "id": "UTl59itpi1P0",
        "outputId": "88a486bc-f23b-47b3-8c66-13ee0770a077"
      },
      "outputs": [
        {
          "data": {
            "image/png": "[encoded data removed]",
            "text/plain": [
              "<Figure size 600x600 with 2 Axes>"
            ]
          },
          "metadata": {},
          "output_type": "display_data"
        }
      ],
      "source": [
        "dt = DecisionTreeClassifier(min_samples_split=15, min_samples_leaf=20, random_state=0)\n",
        "dt.fit(X_train, Y_train)\n",
        "dt_prediction = dt.predict(X_test)\n",
        "\n",
        "score=metrics.accuracy_score(Y_test, dt_prediction)\n",
        "display_confusion_matrix(Y_test, dt_prediction, score=score)"
      ]
    },
    {
      "cell_type": "code",
      "execution_count": null,
      "metadata": {
        "colab": {
          "background_save": true
        },
        "id": "dPzrN-pqj10F",
        "outputId": "97deadb7-6e42-4f71-c06d-03bbe52b8c06"
      },
      "outputs": [
        {
          "data": {
            "image/png": "[encoded data removed]",
            "text/plain": [
              "<Figure size 600x600 with 2 Axes>"
            ]
          },
          "metadata": {},
          "output_type": "display_data"
        }
      ],
      "source": [
        "svm = SVC(gamma='auto', random_state=42)\n",
        "svm.fit(X_train, Y_train)\n",
        "svm_prediction = svm.predict(X_test)\n",
        "\n",
        "score=metrics.accuracy_score(Y_test, svm_prediction)\n",
        "display_confusion_matrix(Y_test, svm_prediction, score=score)"
      ]
    },
    {
      "cell_type": "code",
      "execution_count": null,
      "metadata": {
        "colab": {
          "background_save": true
        },
        "id": "MvdklWpRepCs",
        "outputId": "143670ac-84db-402a-da3f-70c5d8c4a1f3"
      },
      "outputs": [
        {
          "name": "stdout",
          "output_type": "stream",
          "text": [
            "Training set score: 0.5442\n",
            "Test set score: 0.5495\n"
          ]
        },
        {
          "data": {
            "image/png": "[encoded data removed]",
            "text/plain": [
              "<Figure size 600x600 with 2 Axes>"
            ]
          },
          "metadata": {},
          "output_type": "display_data"
        }
      ],
      "source": [
        "#train a Gaus s ian Nai ve Bayes c Las s ifi er on the tr'aining set\n",
        "from sklearn.naive_bayes import GaussianNB\n",
        "# ins tant i ate the code L\n",
        "gnb = GaussianNB()\n",
        "gnb.fit(X_train, Y_train)\n",
        "NB_y_pred = gnb.predict(X_test)\n",
        "from sklearn.metrics import accuracy_score\n",
        "y_pred_train = gnb.predict(X_train)\n",
        "y_pred_train\n",
        "# print the scores on tra in Eng and test set\n",
        "print('Training set score: {:.4f}'.format(gnb.score(X_train, Y_train)))\n",
        "print('Test set score: {:.4f}'.format(gnb.score(X_test, Y_test)))\n",
        "from sklearn.metrics import confusion_matrix\n",
        "\n",
        "cm = confusion_matrix(Y_test, NB_y_pred)\n",
        "display_confusion_matrix(Y_test, NB_y_pred, score=score)"
      ]
    },
    {
      "cell_type": "code",
      "execution_count": null,
      "metadata": {
        "colab": {
          "background_save": true
        },
        "id": "n_h1gbkNfCGa",
        "outputId": "45f95def-e84e-42a7-aa06-3d7e92bdb9db"
      },
      "outputs": [
        {
          "name": "stdout",
          "output_type": "stream",
          "text": [
            "[[168  59]\n",
            " [ 64 224]]\n",
            "              precision    recall  f1-score   support\n",
            "\n",
            "         0.0       0.72      0.74      0.73       227\n",
            "         1.0       0.79      0.78      0.78       288\n",
            "\n",
            "    accuracy                           0.76       515\n",
            "   macro avg       0.76      0.76      0.76       515\n",
            "weighted avg       0.76      0.76      0.76       515\n",
            "\n"
          ]
        }
      ],
      "source": [
        "from sklearn.neighbors import KNeighborsClassifier\n",
        "classifier = KNeighborsClassifier(n_neighbors=3)\n",
        "classifier.fit(X_train, Y_train)\n",
        "KNN_y_pred = classifier.predict(X_test)\n",
        "from sklearn.metrics import classification_report, confusion_matrix\n",
        "print(confusion_matrix(Y_test, KNN_y_pred))\n",
        "print(classification_report(Y_test, KNN_y_pred))"
      ]
    },
    {
      "cell_type": "code",
      "execution_count": null,
      "metadata": {
        "colab": {
          "background_save": true
        },
        "id": "JQm8EyF0fTN5",
        "outputId": "ae2bf318-bb24-4d85-9f32-0a3440516ecb"
      },
      "outputs": [
        {
          "name": "stdout",
          "output_type": "stream",
          "text": [
            "********************* HR *********************\n",
            "SVM ----› 0.5553398058252427\n",
            "RF ----> 0.7941747572815534\n",
            "DT ----› 0.6951456310679611\n",
            "NB ----› 0.5495145631067961\n",
            "KNN ----› 0.7611650485436893\n"
          ]
        }
      ],
      "source": [
        "print (\"********************* HR *********************\")\n",
        "print('SVM ----›',metrics.accuracy_score(Y_test, svm_prediction))\n",
        "print('RF ---->',metrics.accuracy_score(Y_test, rf_prediction))\n",
        "print('DT ----›',metrics.accuracy_score(Y_test, dt_prediction))\n",
        "print('NB ----›',metrics.accuracy_score(Y_test, NB_y_pred))\n",
        "print('KNN ----›',metrics.accuracy_score(Y_test, KNN_y_pred))\n",
        "\n",
        "\n",
        "\n"
      ]
    },
    {
      "cell_type": "code",
      "execution_count": null,
      "metadata": {
        "colab": {
          "background_save": true
        },
        "id": "ak7-2sk7fdH7"
      },
      "outputs": [],
      "source": []
    },
    {
      "cell_type": "markdown",
      "metadata": {
        "id": "VJGoG_E6fge-"
      },
      "source": [
        "Confusion Matrix\n",
        "As we can see from the table above:\n",
        "\n",
        "True Positive(TP) : Values that the model predicted as yes, and is actually yes. True Negative(TN) : Values that the model predicted as not, and is actually no. False Positive(FP): Values that the model predicted as yes, but actually no.\n",
        "False Negative(FN): Values that the model predicted as no, but actually yes."
      ]
    },
    {
      "cell_type": "code",
      "execution_count": null,
      "metadata": {
        "colab": {
          "background_save": true
        },
        "id": "F6Ntk8JmfiUF",
        "outputId": "1114ecc2-07fe-42b6-b7c6-51cb0563a763"
      },
      "outputs": [
        {
          "data": {
            "text/html": [
              "\n",
              "  <div id=\"df-e5fadbf2-9782-42d8-83e9-695d3cd4a52b\" class=\"colab-df-container\">\n",
              "    <div>\n",
              "<style scoped>\n",
              "    .dataframe tbody tr th:only-of-type {\n",
              "        vertical-align: middle;\n",
              "    }\n",
              "\n",
              "    .dataframe tbody tr th {\n",
              "        vertical-align: top;\n",
              "    }\n",
              "\n",
              "    .dataframe thead th {\n",
              "        text-align: right;\n",
              "    }\n",
              "</style>\n",
              "<table border=\"1\" class=\"dataframe\">\n",
              "  <thead>\n",
              "    <tr style=\"text-align: right;\">\n",
              "      <th></th>\n",
              "      <th>NORMAL</th>\n",
              "      <th>STRESSED</th>\n",
              "    </tr>\n",
              "  </thead>\n",
              "  <tbody>\n",
              "    <tr>\n",
              "      <th>NORMAL</th>\n",
              "      <td>174</td>\n",
              "      <td>53</td>\n",
              "    </tr>\n",
              "    <tr>\n",
              "      <th>STRESSED</th>\n",
              "      <td>53</td>\n",
              "      <td>235</td>\n",
              "    </tr>\n",
              "  </tbody>\n",
              "</table>\n",
              "</div>\n",
              "    <div class=\"colab-df-buttons\">\n",
              "\n",
              "  <div class=\"colab-df-container\">\n",
              "    <button class=\"colab-df-convert\" onclick=\"convertToInteractive('df-e5fadbf2-9782-42d8-83e9-695d3cd4a52b')\"\n",
              "            title=\"Convert this dataframe to an interactive table.\"\n",
              "            style=\"display:none;\">\n",
              "\n",
              "  <svg xmlns=\"http://www.w3.org/2000/svg\" height=\"24px\" viewBox=\"0 -960 960 960\">\n",
              "    <path d=\"M120-120v-720h720v720H120Zm60-500h600v-160H180v160Zm220 220h160v-160H400v160Zm0 220h160v-160H400v160ZM180-400h160v-160H180v160Zm440 0h160v-160H620v160ZM180-180h160v-160H180v160Zm440 0h160v-160H620v160Z\"/>\n",
              "  </svg>\n",
              "    </button>\n",
              "\n",
              "  <style>\n",
              "    .colab-df-container {\n",
              "      display:flex;\n",
              "      gap: 12px;\n",
              "    }\n",
              "\n",
              "    .colab-df-convert {\n",
              "      background-color: #E8F0FE;\n",
              "      border: none;\n",
              "      border-radius: 50%;\n",
              "      cursor: pointer;\n",
              "      display: none;\n",
              "      fill: #1967D2;\n",
              "      height: 32px;\n",
              "      padding: 0 0 0 0;\n",
              "      width: 32px;\n",
              "    }\n",
              "\n",
              "    .colab-df-convert:hover {\n",
              "      background-color: #E2EBFA;\n",
              "      box-shadow: 0px 1px 2px rgba(60, 64, 67, 0.3), 0px 1px 3px 1px rgba(60, 64, 67, 0.15);\n",
              "      fill: #174EA6;\n",
              "    }\n",
              "\n",
              "    .colab-df-buttons div {\n",
              "      margin-bottom: 4px;\n",
              "    }\n",
              "\n",
              "    [theme=dark] .colab-df-convert {\n",
              "      background-color: #3B4455;\n",
              "      fill: #D2E3FC;\n",
              "    }\n",
              "\n",
              "    [theme=dark] .colab-df-convert:hover {\n",
              "      background-color: #434B5C;\n",
              "      box-shadow: 0px 1px 3px 1px rgba(0, 0, 0, 0.15);\n",
              "      filter: drop-shadow(0px 1px 2px rgba(0, 0, 0, 0.3));\n",
              "      fill: #FFFFFF;\n",
              "    }\n",
              "  </style>\n",
              "\n",
              "    <script>\n",
              "      const buttonEl =\n",
              "        document.querySelector('#df-e5fadbf2-9782-42d8-83e9-695d3cd4a52b button.colab-df-convert');\n",
              "      buttonEl.style.display =\n",
              "        google.colab.kernel.accessAllowed ? 'block' : 'none';\n",
              "\n",
              "      async function convertToInteractive(key) {\n",
              "        const element = document.querySelector('#df-e5fadbf2-9782-42d8-83e9-695d3cd4a52b');\n",
              "        const dataTable =\n",
              "          await google.colab.kernel.invokeFunction('convertToInteractive',\n",
              "                                                    [key], {});\n",
              "        if (!dataTable) return;\n",
              "\n",
              "        const docLinkHtml = 'Like what you see? Visit the ' +\n",
              "          '<a target=\"_blank\" href=https://colab.research.google.com/notebooks/data_table.ipynb>data table notebook</a>'\n",
              "          + ' to learn more about interactive tables.';\n",
              "        element.innerHTML = '';\n",
              "        dataTable['output_type'] = 'display_data';\n",
              "        await google.colab.output.renderOutput(dataTable, element);\n",
              "        const docLink = document.createElement('div');\n",
              "        docLink.innerHTML = docLinkHtml;\n",
              "        element.appendChild(docLink);\n",
              "      }\n",
              "    </script>\n",
              "  </div>\n",
              "\n",
              "\n",
              "<div id=\"df-bbcb60dd-cd72-4b45-a82e-df41cc90eefa\">\n",
              "  <button class=\"colab-df-quickchart\" onclick=\"quickchart('df-bbcb60dd-cd72-4b45-a82e-df41cc90eefa')\"\n",
              "            title=\"Suggest charts\"\n",
              "            style=\"display:none;\">\n",
              "\n",
              "<svg xmlns=\"http://www.w3.org/2000/svg\" height=\"24px\"viewBox=\"0 0 24 24\"\n",
              "     width=\"24px\">\n",
              "    <g>\n",
              "        <path d=\"M19 3H5c-1.1 0-2 .9-2 2v14c0 1.1.9 2 2 2h14c1.1 0 2-.9 2-2V5c0-1.1-.9-2-2-2zM9 17H7v-7h2v7zm4 0h-2V7h2v10zm4 0h-2v-4h2v4z\"/>\n",
              "    </g>\n",
              "</svg>\n",
              "  </button>\n",
              "\n",
              "<style>\n",
              "  .colab-df-quickchart {\n",
              "      --bg-color: #E8F0FE;\n",
              "      --fill-color: #1967D2;\n",
              "      --hover-bg-color: #E2EBFA;\n",
              "      --hover-fill-color: #174EA6;\n",
              "      --disabled-fill-color: #AAA;\n",
              "      --disabled-bg-color: #DDD;\n",
              "  }\n",
              "\n",
              "  [theme=dark] .colab-df-quickchart {\n",
              "      --bg-color: #3B4455;\n",
              "      --fill-color: #D2E3FC;\n",
              "      --hover-bg-color: #434B5C;\n",
              "      --hover-fill-color: #FFFFFF;\n",
              "      --disabled-bg-color: #3B4455;\n",
              "      --disabled-fill-color: #666;\n",
              "  }\n",
              "\n",
              "  .colab-df-quickchart {\n",
              "    background-color: var(--bg-color);\n",
              "    border: none;\n",
              "    border-radius: 50%;\n",
              "    cursor: pointer;\n",
              "    display: none;\n",
              "    fill: var(--fill-color);\n",
              "    height: 32px;\n",
              "    padding: 0;\n",
              "    width: 32px;\n",
              "  }\n",
              "\n",
              "  .colab-df-quickchart:hover {\n",
              "    background-color: var(--hover-bg-color);\n",
              "    box-shadow: 0 1px 2px rgba(60, 64, 67, 0.3), 0 1px 3px 1px rgba(60, 64, 67, 0.15);\n",
              "    fill: var(--button-hover-fill-color);\n",
              "  }\n",
              "\n",
              "  .colab-df-quickchart-complete:disabled,\n",
              "  .colab-df-quickchart-complete:disabled:hover {\n",
              "    background-color: var(--disabled-bg-color);\n",
              "    fill: var(--disabled-fill-color);\n",
              "    box-shadow: none;\n",
              "  }\n",
              "\n",
              "  .colab-df-spinner {\n",
              "    border: 2px solid var(--fill-color);\n",
              "    border-color: transparent;\n",
              "    border-bottom-color: var(--fill-color);\n",
              "    animation:\n",
              "      spin 1s steps(1) infinite;\n",
              "  }\n",
              "\n",
              "  @keyframes spin {\n",
              "    0% {\n",
              "      border-color: transparent;\n",
              "      border-bottom-color: var(--fill-color);\n",
              "      border-left-color: var(--fill-color);\n",
              "    }\n",
              "    20% {\n",
              "      border-color: transparent;\n",
              "      border-left-color: var(--fill-color);\n",
              "      border-top-color: var(--fill-color);\n",
              "    }\n",
              "    30% {\n",
              "      border-color: transparent;\n",
              "      border-left-color: var(--fill-color);\n",
              "      border-top-color: var(--fill-color);\n",
              "      border-right-color: var(--fill-color);\n",
              "    }\n",
              "    40% {\n",
              "      border-color: transparent;\n",
              "      border-right-color: var(--fill-color);\n",
              "      border-top-color: var(--fill-color);\n",
              "    }\n",
              "    60% {\n",
              "      border-color: transparent;\n",
              "      border-right-color: var(--fill-color);\n",
              "    }\n",
              "    80% {\n",
              "      border-color: transparent;\n",
              "      border-right-color: var(--fill-color);\n",
              "      border-bottom-color: var(--fill-color);\n",
              "    }\n",
              "    90% {\n",
              "      border-color: transparent;\n",
              "      border-bottom-color: var(--fill-color);\n",
              "    }\n",
              "  }\n",
              "</style>\n",
              "\n",
              "  <script>\n",
              "    async function quickchart(key) {\n",
              "      const quickchartButtonEl =\n",
              "        document.querySelector('#' + key + ' button');\n",
              "      quickchartButtonEl.disabled = true;  // To prevent multiple clicks.\n",
              "      quickchartButtonEl.classList.add('colab-df-spinner');\n",
              "      try {\n",
              "        const charts = await google.colab.kernel.invokeFunction(\n",
              "            'suggestCharts', [key], {});\n",
              "      } catch (error) {\n",
              "        console.error('Error during call to suggestCharts:', error);\n",
              "      }\n",
              "      quickchartButtonEl.classList.remove('colab-df-spinner');\n",
              "      quickchartButtonEl.classList.add('colab-df-quickchart-complete');\n",
              "    }\n",
              "    (() => {\n",
              "      let quickchartButtonEl =\n",
              "        document.querySelector('#df-bbcb60dd-cd72-4b45-a82e-df41cc90eefa button');\n",
              "      quickchartButtonEl.style.display =\n",
              "        google.colab.kernel.accessAllowed ? 'block' : 'none';\n",
              "    })();\n",
              "  </script>\n",
              "</div>\n",
              "    </div>\n",
              "  </div>\n"
            ],
            "text/plain": [
              "          NORMAL  STRESSED\n",
              "NORMAL       174        53\n",
              "STRESSED      53       235"
            ]
          },
          "execution_count": 50,
          "metadata": {},
          "output_type": "execute_result"
        }
      ],
      "source": [
        "from sklearn.metrics import precision_score, recall_score, confusion_matrix\n",
        "cm\t= np.array(confusion_matrix(Y_test, rf_prediction, labels=[0,1]))\n",
        "confusion_mat= pd.DataFrame(cm, index = ['NORMAL', 'STRESSED'],\n",
        "columns =['NORMAL','STRESSED'])\n",
        "confusion_mat"
      ]
    },
    {
      "cell_type": "code",
      "execution_count": null,
      "metadata": {
        "colab": {
          "background_save": true
        },
        "id": "cx1sokWefvMt",
        "outputId": "5ba6dace-8012-4f3e-91fe-9464af81eafe"
      },
      "outputs": [
        {
          "data": {
            "text/plain": [
              "<Axes: >"
            ]
          },
          "execution_count": 51,
          "metadata": {},
          "output_type": "execute_result"
        },
        {
          "data": {
            "image/png": "[encoded data removed]",
            "text/plain": [
              "<Figure size 640x480 with 2 Axes>"
            ]
          },
          "metadata": {},
          "output_type": "display_data"
        }
      ],
      "source": [
        "sns.heatmap(cm,annot=True,fmt='g',cmap='Set3')"
      ]
    },
    {
      "cell_type": "code",
      "execution_count": null,
      "metadata": {
        "colab": {
          "background_save": true
        },
        "id": "V06aFO3Qf0SN"
      },
      "outputs": [],
      "source": []
    },
    {
      "cell_type": "markdown",
      "metadata": {
        "id": "AcpvErBGf4j3"
      },
      "source": [
        "Accuracy_Score\n",
        "\n",
        "Accuracy_Score is the most intuitive performance measure and it is simply a ratio of correctly\n",
        "predicted observation to the total observations"
      ]
    },
    {
      "cell_type": "code",
      "execution_count": null,
      "metadata": {
        "colab": {
          "background_save": true
        },
        "id": "CzlCtJaxf5CC",
        "outputId": "5d32183e-7ee7-4717-9cb8-276e7d2a2d7e"
      },
      "outputs": [
        {
          "name": "stdout",
          "output_type": "stream",
          "text": [
            "0.7941747572815534\n"
          ]
        }
      ],
      "source": [
        "from sklearn.metrics import accuracy_score\n",
        "print(accuracy_score(Y_test, rf_prediction))"
      ]
    },
    {
      "cell_type": "code",
      "execution_count": null,
      "metadata": {
        "colab": {
          "background_save": true
        },
        "id": "FDs71Ir6f7fb"
      },
      "outputs": [],
      "source": []
    },
    {
      "cell_type": "markdown",
      "metadata": {
        "id": "I88jN0F4f_XG"
      },
      "source": [
        "Precision\n",
        "\n",
        "Precision is the ratio of correctly predicted positive observations to the total predicted positive observations."
      ]
    },
    {
      "cell_type": "code",
      "execution_count": null,
      "metadata": {
        "colab": {
          "background_save": true
        },
        "id": "xkabEmyHf_1m",
        "outputId": "7964a380-0bd9-482a-e191-93ca772425b3"
      },
      "outputs": [
        {
          "name": "stdout",
          "output_type": "stream",
          "text": [
            "0.8159722222222222\n"
          ]
        }
      ],
      "source": [
        "print(precision_score(Y_test, rf_prediction))"
      ]
    },
    {
      "cell_type": "markdown",
      "metadata": {
        "id": "m0PNiI-rgFen"
      },
      "source": [
        "Recall\n",
        "Recall also called Sensitivity, is the ratio of positive instances that are correctly detected by the\n",
        "classifier to the all observations in actual class\n"
      ]
    },
    {
      "cell_type": "code",
      "execution_count": null,
      "metadata": {
        "colab": {
          "background_save": true
        },
        "id": "8zQbRHcJgHOa",
        "outputId": "75bffc22-ac04-49ab-b248-c05dac464e95"
      },
      "outputs": [
        {
          "name": "stdout",
          "output_type": "stream",
          "text": [
            "0.8159722222222222\n"
          ]
        }
      ],
      "source": [
        "print(recall_score(Y_test, rf_prediction))"
      ]
    },
    {
      "cell_type": "markdown",
      "metadata": {
        "id": "f5rdbt_1gJ_s"
      },
      "source": [
        "Classification Report"
      ]
    },
    {
      "cell_type": "code",
      "execution_count": null,
      "metadata": {
        "colab": {
          "background_save": true
        },
        "id": "UWq-Bd6YgLdW",
        "outputId": "ab10073d-c871-483a-86c9-a0e50c66bc98"
      },
      "outputs": [
        {
          "name": "stdout",
          "output_type": "stream",
          "text": [
            "              precision    recall  f1-score   support\n",
            "\n",
            "         0.0       0.77      0.77      0.77       227\n",
            "         1.0       0.82      0.82      0.82       288\n",
            "\n",
            "    accuracy                           0.79       515\n",
            "   macro avg       0.79      0.79      0.79       515\n",
            "weighted avg       0.79      0.79      0.79       515\n",
            "\n"
          ]
        }
      ],
      "source": [
        "from sklearn.metrics import classification_report\n",
        "print(classification_report(Y_test, rf_prediction))"
      ]
    },
    {
      "cell_type": "code",
      "execution_count": null,
      "metadata": {
        "colab": {
          "background_save": true
        },
        "id": "-OHyK6H3gNyH"
      },
      "outputs": [],
      "source": []
    },
    {
      "cell_type": "markdown",
      "metadata": {
        "id": "fDyGlq0kgS6f"
      },
      "source": [
        "The ROC Curve\n",
        "\n",
        "Area Under Curve\n",
        "\n",
        "Area Under Curve is a common way to compare classifiers. A perfect classifier will have ROC AUC equal to 1\n",
        "Sckit-Learn provides a function to compute the ROC AUC."
      ]
    },
    {
      "cell_type": "code",
      "execution_count": null,
      "metadata": {
        "colab": {
          "background_save": true
        },
        "id": "5M6co5qtgTir",
        "outputId": "c80f9f5e-5633-451a-db89-d27d1d9d731e"
      },
      "outputs": [
        {
          "ename": "TypeError",
          "evalue": "ignored",
          "output_type": "error",
          "traceback": [
            "\u001b[0;31m---------------------------------------------------------------------------\u001b[0m",
            "\u001b[0;31mTypeError\u001b[0m                                 Traceback (most recent call last)",
            "\u001b[0;32m<ipython-input-56-dcbeb1e5afc3>\u001b[0m in \u001b[0;36m<cell line: 4>\u001b[0;34m()\u001b[0m\n\u001b[1;32m      2\u001b[0m \u001b[0;32mfrom\u001b[0m \u001b[0msklearn\u001b[0m\u001b[0;34m.\u001b[0m\u001b[0mmetrics\u001b[0m \u001b[0;32mimport\u001b[0m \u001b[0mRocCurveDisplay\u001b[0m\u001b[0;34m\u001b[0m\u001b[0;34m\u001b[0m\u001b[0m\n\u001b[1;32m      3\u001b[0m \u001b[0max\u001b[0m \u001b[0;34m=\u001b[0m \u001b[0mplt\u001b[0m\u001b[0;34m.\u001b[0m\u001b[0mgca\u001b[0m\u001b[0;34m(\u001b[0m\u001b[0;34m)\u001b[0m\u001b[0;34m\u001b[0m\u001b[0;34m\u001b[0m\u001b[0m\n\u001b[0;32m----> 4\u001b[0;31m \u001b[0mrfc_disp\u001b[0m \u001b[0;34m=\u001b[0m \u001b[0mRocCurveDisplay\u001b[0m\u001b[0;34m(\u001b[0m\u001b[0mrf\u001b[0m\u001b[0;34m,\u001b[0m \u001b[0mX_test\u001b[0m\u001b[0;34m,\u001b[0m \u001b[0mY_test\u001b[0m\u001b[0;34m,\u001b[0m \u001b[0max\u001b[0m\u001b[0;34m=\u001b[0m\u001b[0max\u001b[0m\u001b[0;34m)\u001b[0m\u001b[0;34m\u001b[0m\u001b[0;34m\u001b[0m\u001b[0m\n\u001b[0m\u001b[1;32m      5\u001b[0m \u001b[0mplt\u001b[0m\u001b[0;34m.\u001b[0m\u001b[0mshow\u001b[0m\u001b[0;34m(\u001b[0m\u001b[0;34m)\u001b[0m\u001b[0;34m\u001b[0m\u001b[0;34m\u001b[0m\u001b[0m\n",
            "\u001b[0;31mTypeError\u001b[0m: RocCurveDisplay.__init__() got an unexpected keyword argument 'ax'"
          ]
        },
        {
          "data": {
            "image/png": "[encoded data removed]",
            "text/plain": [
              "<Figure size 640x480 with 1 Axes>"
            ]
          },
          "metadata": {},
          "output_type": "display_data"
        }
      ],
      "source": [
        "from sklearn.metrics import roc_auc_score,auc,f1_score\n",
        "from sklearn.metrics import RocCurveDisplay\n",
        "ax = plt.gca()\n",
        "rfc_disp = RocCurveDisplay(rf, X_test, Y_test, ax=ax)\n",
        "plt.show()"
      ]
    },
    {
      "cell_type": "code",
      "execution_count": null,
      "metadata": {
        "colab": {
          "background_save": true
        },
        "id": "Lzxj8AT6gZIJ"
      },
      "outputs": [],
      "source": []
    },
    {
      "cell_type": "markdown",
      "metadata": {
        "id": "0HMMxI7jiafw"
      },
      "source": [
        "K FOLD VALIDATION"
      ]
    },
    {
      "cell_type": "code",
      "execution_count": null,
      "metadata": {
        "colab": {
          "background_save": true
        },
        "id": "SXrZa9yDgfWX"
      },
      "outputs": [],
      "source": [
        "cv_score_rf1 = cross_val_score(estimator=rf, X=X_train, y=Y_train, cv=5, n_jobs=3)\n",
        "cv_score_rf2 = cross_val_score(estimator=rf, X=X_train, y=Y_train, cv=10, n_jobs=3)\n",
        "cv_score_rf3 = cross_val_score(estimator=rf, X=X_train, y=Y_train, cv=20, n_jobs=2)\n",
        "cv_score_rf4 = cross_val_score(estimator=rf, X=X_train, y=Y_train, cv=50, n_jobs=3)"
      ]
    },
    {
      "cell_type": "code",
      "execution_count": null,
      "metadata": {
        "colab": {
          "background_save": true
        },
        "id": "iTgexczhiVCV"
      },
      "outputs": [],
      "source": [
        "cv_result = { 'rf5': cv_score_rf1, 'rf10': cv_score_rf2, 'rf20': cv_score_rf3, 'rf40': cv_score_rf4}\n",
        "cv_data = {model: [score.mean(), score.std()] for model, score in cv_result.items}\n",
        "cv_df=pd.DataFrame(cv_data, index=['Mean_accuracy', 'Variance'])\n",
        "cv_df"
      ]
    },
    {
      "cell_type": "code",
      "execution_count": null,
      "metadata": {
        "colab": {
          "background_save": true
        },
        "id": "G8FHg50ii36F"
      },
      "outputs": [],
      "source": []
    },
    {
      "cell_type": "markdown",
      "metadata": {
        "id": "iBzL8A-ipHIm"
      },
      "source": [
        "HR And Gsr"
      ]
    },
    {
      "cell_type": "markdown",
      "metadata": {
        "id": "Y93MoBrwj-4y"
      },
      "source": [
        "# Part 4"
      ]
    },
    {
      "cell_type": "code",
      "execution_count": null,
      "metadata": {
        "colab": {
          "background_save": true
        },
        "id": "mUdvfn_IkEU9"
      },
      "outputs": [],
      "source": [
        "import pydot\n",
        "import pandas as pd\n",
        "import numpy as np\n",
        "import seaborn as sns\n",
        "sns.set()\n",
        "%matplotlib inline\n",
        "import matplotlib\n",
        "import matplotlib.pyplot as plt\n",
        "# Ignore warnings\n",
        "import warnings\n",
        "warnings.filterwarnings('ignore')\n",
        "import sklearn\n",
        "from sklearn import metrics\n",
        "from sklearn.svm import SVC\n",
        "from sklearn.linear_model import LogisticRegression\n",
        "from sklearn.ensemble import RandomForestClassifier\n",
        "from sklearn.tree import export_graphviz, DecisionTreeClassifier\n",
        "from sklearn.preprocessing import StandardScaler\n",
        "from sklearn.model_selection import cross_val_score, train_test_split\n",
        "from sklearn.exceptions import NotFittedError\n",
        "import keras\n",
        "from keras.models import Sequential\n",
        "from keras.layers import Dense, Dropout\n",
        "from keras import optimizers\n",
        "from keras.wrappers.scikit_learn import KerasClassifier\n",
        "from IPython.display import display"
      ]
    },
    {
      "cell_type": "code",
      "execution_count": null,
      "metadata": {
        "colab": {
          "background_save": true
        },
        "id": "dmV1deuXpMZK"
      },
      "outputs": [],
      "source": [
        "# Some usefuL functions we'LL use in this notebook\n",
        "def display_confusion_matrix(target, prediction, score=None):\n",
        "  cm = metrics.confusion_matrix(target, prediction)\n",
        "  plt.figure(figsize=(6,6))\n",
        "  sns.heatmap(cm, annot=True, fmt=\".4f\", linewidths=.5, square=True, cmap='BuGn')\n",
        "  plt.ylabel('Actual label')\n",
        "  plt.xlabel('Predicted label')\n",
        "  if score:\n",
        "    score_title = 'Accuracy Score: {0}'.format(round(score, 5))\n",
        "    plt.title(score_title, size = 25)\n",
        "def visualize_tree(tree, feature_names):\n",
        "  with open(\"dt.dot\", 'w') as f:\n",
        "    export_graphviz(tree, out_file=f, feature_names=feature_names)\n",
        "  try:\n",
        "    subprocess.check_call([\"dot\", \"-Tpng\", \"dt.dot\", \"-o\", \"dt.png\"])\n",
        "  except:\n",
        "    exit(\"Could not run dot, ie graphviz, to produce visualization\")\n",
        "def draw_missing_data_table(df):\n",
        "  total = df.isnull().sum().sort_values(ascending=False)\n",
        "  percent = (df.isnull().sum()/df.isnull().count()).sort_values(ascending=False)\n",
        "  missing_data = pd.concat([total, percent], axis , keys=['Total', 'Percent'])\n",
        "  return missing_data"
      ]
    },
    {
      "cell_type": "code",
      "execution_count": null,
      "metadata": {
        "colab": {
          "background_save": true
        },
        "id": "hq1bw6rqpe1I"
      },
      "outputs": [],
      "source": [
        "# Create dataframe for training dataset and print five first rows as preview\n",
        "train_df_raw = pd.read_csv('/content/drive/My Drive/BDA_Project/BDA_Project/hr_gsr.csv')\n",
        "train_df_raw.head()"
      ]
    },
    {
      "cell_type": "code",
      "execution_count": null,
      "metadata": {
        "colab": {
          "background_save": true
        },
        "id": "B9QjAemoqZ6X"
      },
      "outputs": [],
      "source": [
        "train_df_raw = train_df_raw.dropna()"
      ]
    },
    {
      "cell_type": "code",
      "execution_count": null,
      "metadata": {
        "colab": {
          "background_save": true
        },
        "id": "1DiW7wvyqdPX"
      },
      "outputs": [],
      "source": [
        "# Let's divide the train dataset in two datasets to evaLuate perfomance of the\n",
        "train_df = train_df_raw.copy()\n",
        "X = train_df.drop(['Condition'], 1)\n",
        "Y = train_df['Condition']\n",
        "    # • We scaLe our data, it is essentiaL for a smooth working of the modeLs\n",
        "    # • ScaLing means that each coLumns as a 0 mean and a 1 variance\n",
        "sc = StandardScaler()\n",
        "X = pd.DataFrame(sc.fit_transform(X.values), index=X.index, columns=X.columns)\n",
        "  #  • SpLit dataset for modeL testing\n",
        "X_train, X_test, Y_train, Y_test = train_test_split(X, Y, test_size=0.2, random_state=0)\n",
        "X_train.head()"
      ]
    },
    {
      "cell_type": "code",
      "execution_count": null,
      "metadata": {
        "colab": {
          "background_save": true
        },
        "id": "uOnenE47q3wk"
      },
      "outputs": [],
      "source": [
        "rf = RandomForestClassifier(n_estimators=200, random_state=42)\n",
        "rf.fit(X_train, Y_train)\n",
        "rf_prediction = rf.predict(X_test)\n",
        "score\t= metrics.accuracy_score(Y_test, rf_prediction)\n",
        "display_confusion_matrix(Y_test, rf_prediction, score=score)\n",
        "rf_score=rf_prediction"
      ]
    },
    {
      "cell_type": "code",
      "execution_count": null,
      "metadata": {
        "colab": {
          "background_save": true
        },
        "id": "-UdziExRq-7P"
      },
      "outputs": [],
      "source": [
        "dt = DecisionTreeClassifier(min_samples_split=15, min_samples_leaf=20, random_state=0)\n",
        "dt.fit(X_train, Y_train)\n",
        "dt_prediction = dt.predict(X_test)\n",
        "\n",
        "score=metrics.accuracy_score(Y_test, dt_prediction)\n",
        "display_confusion_matrix(Y_test, dt_prediction, score=score)"
      ]
    },
    {
      "cell_type": "code",
      "execution_count": null,
      "metadata": {
        "colab": {
          "background_save": true
        },
        "id": "G1tpIodprCZZ"
      },
      "outputs": [],
      "source": [
        "svm = SVC(gamma='auto', random_state=42)\n",
        "svm.fit(X_train, Y_train)\n",
        "svm_prediction = svm.predict(X_test)\n",
        "\n",
        "score=metrics.accuracy_score(Y_test, svm_prediction)\n",
        "display_confusion_matrix(Y_test, svm_prediction, score=score)"
      ]
    },
    {
      "cell_type": "code",
      "execution_count": null,
      "metadata": {
        "colab": {
          "background_save": true
        },
        "id": "LCBhtBa5rIC8"
      },
      "outputs": [],
      "source": [
        "#train a Gaus s ian Nai ve Bayes c Las s ifi er on the tr'aining set\n",
        "from sklearn.naive_bayes import GaussianNB\n",
        "# ins tant i ate the code L\n",
        "gnb = GaussianNB()\n",
        "gnb.fit(X_train, Y_train)\n",
        "NB_y_pred = gnb.predict(X_test)\n",
        "from sklearn.metrics import accuracy_score\n",
        "y_pred_train = gnb.predict(X_train)\n",
        "y_pred_train\n",
        "# print the scores on tra in Eng and test set\n",
        "print('Training set score: {:.4f}'.format(gnb.score(X_train, Y_train)))\n",
        "print('Test set score: {:.4f}'.format(gnb.score(X_test, Y_test)))\n",
        "from sklearn.metrics import confusion_matrix\n",
        "\n",
        "cm = confusion_matrix(Y_test, NB_y_pred)\n",
        "display_confusion_matrix(Y_test, NB_y_pred, score=score)"
      ]
    },
    {
      "cell_type": "code",
      "execution_count": null,
      "metadata": {
        "colab": {
          "background_save": true
        },
        "id": "muQFQBTt0D-_"
      },
      "outputs": [],
      "source": [
        "from sklearn.neighbors import KNeighborsClassifier\n",
        "classifier = KNeighborsClassifier(n_neighbors=3)\n",
        "classifier.fit(X_train, Y_train)\n",
        "KNN_y_pred = classifier.predict(X_test)\n",
        "from sklearn.metrics import classification_report, confusion_matrix\n",
        "print(confusion_matrix(Y_test, KNN_y_pred))\n",
        "print(classification_report(Y_test, KNN_y_pred))"
      ]
    },
    {
      "cell_type": "code",
      "execution_count": null,
      "metadata": {
        "id": "VRcdROIx0IRG"
      },
      "outputs": [],
      "source": [
        "print (\"********************* HR GSR *********************\")\n",
        "print('SVM ----›',metrics.accuracy_score(Y_test, svm_prediction))\n",
        "print('RF ---->',metrics.accuracy_score(Y_test, rf_prediction))\n",
        "print('DT ----›',metrics.accuracy_score(Y_test, dt_prediction))\n",
        "print('NB ----›',metrics.accuracy_score(Y_test, NB_y_pred))\n",
        "print('KNN ----›',metrics.accuracy_score(Y_test, KNN_y_pred))\n",
        "\n",
        "\n",
        "\n"
      ]
    },
    {
      "cell_type": "code",
      "execution_count": null,
      "metadata": {
        "id": "gMVDtPr30MKG"
      },
      "outputs": [],
      "source": [
        "from sklearn.metrics import precision_score, recall_score, confusion_matrix\n",
        "cm\t= np.array(confusion_matrix(Y_test, rf_prediction, labels=[0,1]))\n",
        "confusion_mat= pd.DataFrame(cm, index = ['NORMAL', 'STRESSED'],\n",
        "columns =['NORMAL','STRESSED'])\n",
        "confusion_mat"
      ]
    },
    {
      "cell_type": "code",
      "execution_count": null,
      "metadata": {
        "id": "0bIwBXr90cle"
      },
      "outputs": [],
      "source": [
        "sns.heatmap(cm,annot=True,fmt='g',cmap='Set3')"
      ]
    },
    {
      "cell_type": "code",
      "execution_count": null,
      "metadata": {
        "id": "8752Qfm90hb2"
      },
      "outputs": [],
      "source": [
        "from sklearn.metrics import accuracy_score\n",
        "print(accuracy_score(Y_test, rf_prediction))"
      ]
    },
    {
      "cell_type": "code",
      "execution_count": null,
      "metadata": {
        "id": "wFN7ad2S0knX"
      },
      "outputs": [],
      "source": [
        "print(precision_score(Y_test, rf_prediction))"
      ]
    },
    {
      "cell_type": "code",
      "execution_count": null,
      "metadata": {
        "id": "t6GzH8am0odI"
      },
      "outputs": [],
      "source": [
        "print(recall_score(Y_test, rf_prediction))"
      ]
    },
    {
      "cell_type": "code",
      "execution_count": null,
      "metadata": {
        "id": "hU-_r2uk0prL"
      },
      "outputs": [],
      "source": [
        "from sklearn.metrics import classification_report\n",
        "print(classification_report(Y_test, rf_prediction))"
      ]
    },
    {
      "cell_type": "code",
      "execution_count": null,
      "metadata": {
        "id": "VfCuijVq0rId"
      },
      "outputs": [],
      "source": [
        "from sklearn.metrics import roc_auc_score,auc,f1_score\n",
        "from sklearn.metrics import RocCurveDisplay\n",
        "ax = plt.gca()\n",
        "rfc_disp = RocCurveDisplay(rf, X_test, Y_test, ax=ax)\n",
        "plt.show()"
      ]
    },
    {
      "cell_type": "code",
      "execution_count": null,
      "metadata": {
        "id": "Kz3EmNJM0uaA"
      },
      "outputs": [],
      "source": [
        "cv_score_rf1 = cross_val_score(estimator=rf, X=X_train, y=Y_train, cv=5, n_jobs=3)\n",
        "cv_score_rf2 = cross_val_score(estimator=rf, X=X_train, y=Y_train, cv=10, n_jobs=3)\n",
        "cv_score_rf3 = cross_val_score(estimator=rf, X=X_train, y=Y_train, cv=20, n_jobs=2)\n",
        "cv_score_rf4 = cross_val_score(estimator=rf, X=X_train, y=Y_train, cv=50, n_jobs=3)"
      ]
    },
    {
      "cell_type": "code",
      "execution_count": null,
      "metadata": {
        "id": "ycEt3BT4091t"
      },
      "outputs": [],
      "source": [
        "cv_result = { 'rf5': cv_score_rf1, 'rf10': cv_score_rf2, 'rf20': cv_score_rf3, 'rf40': cv_score_rf4}\n",
        "cv_data = {model: [score.mean(), score.std()] for model, score in cv_result.items}\n",
        "cv_df=pd.DataFrame(cv_data, index=['Mean_accuracy', 'Variance'])\n",
        "cv_df"
      ]
    },
    {
      "cell_type": "code",
      "execution_count": null,
      "metadata": {
        "id": "cK4gcd8O1A_s"
      },
      "outputs": [],
      "source": [
        "train_df_raw = pd.read_csv('/content/drive/My Drive/BDA_Project/BDA_Project/face_hr.csv')\n",
        "train_df_raw.head()"
      ]
    },
    {
      "cell_type": "code",
      "execution_count": null,
      "metadata": {
        "id": "bbBUurxo1ZM2"
      },
      "outputs": [],
      "source": [
        "train_df_raw=train_df_raw.dropna()"
      ]
    },
    {
      "cell_type": "code",
      "execution_count": null,
      "metadata": {
        "id": "a7IhR1161d-Y"
      },
      "outputs": [],
      "source": [
        "train_df = train_df_raw.copy()\n",
        "X = train_df.drop(['Condition'], 1)\n",
        "Y = train_df[ 'Condition' ]\n",
        "# be s ca Le our data, i t i s essent i a L fora smooth worh Eng o f the mode Le # Sca L ingmeans that each co Lunns as a 8 mean and a 1 van ance\n",
        "sc  = StandardScaler()\n",
        "X=pd.DataFrame(sc.fit_transform(X.values), index=X.index, columns=X.columns)\n",
        "# SpL itdataset for  /rodeL tes I ing\n",
        "X_train, X_test, Y_train, Y_test = train_test_split(X, Y, test_size=0.2, random_state=0)\n",
        "X_train.head()"
      ]
    },
    {
      "cell_type": "code",
      "execution_count": null,
      "metadata": {
        "id": "MZyck7681fsK"
      },
      "outputs": [],
      "source": [
        "rf = RandomForestClassifier(n_estimators=200, random_state=42)\n",
        "rf.fit(X_train, Y_train)\n",
        "rf_prediction = rf.predict(X_test)\n",
        "score\t= metrics.accuracy_score(Y_test, rf_prediction)\n",
        "display_confusion_matrix(Y_test, rf_prediction, score=score)\n",
        "rf_score=rf_prediction"
      ]
    },
    {
      "cell_type": "code",
      "execution_count": null,
      "metadata": {
        "id": "HNK0lUXi1hjK"
      },
      "outputs": [],
      "source": [
        "dt = DecisionTreeClassifier(min_samples_split=15, min_samples_leaf=20, random_state=0)\n",
        "dt.fit(X_train, Y_train)\n",
        "dt_prediction = dt.predict(X_test)\n",
        "\n",
        "score=metrics.accuracy_score(Y_test, dt_prediction)\n",
        "display_confusion_matrix(Y_test, dt_prediction, score=score)"
      ]
    },
    {
      "cell_type": "code",
      "execution_count": null,
      "metadata": {
        "id": "VoINuhUA1kXW"
      },
      "outputs": [],
      "source": [
        "svm = SVC(gamma='auto', random_state=42)\n",
        "svm.fit(X_train, Y_train)\n",
        "svm_prediction = svm.predict(X_test)\n",
        "\n",
        "score=metrics.accuracy_score(Y_test, svm_prediction)\n",
        "display_confusion_matrix(Y_test, svm_prediction, score=score)"
      ]
    },
    {
      "cell_type": "code",
      "execution_count": null,
      "metadata": {
        "id": "vpZt5e0r1nJK"
      },
      "outputs": [],
      "source": [
        "#train a Gaus s ian Nai ve Bayes c Las s ifi er on the tr'aining set\n",
        "from sklearn.naive_bayes import GaussianNB\n",
        "# ins tant i ate the code L\n",
        "gnb = GaussianNB()\n",
        "gnb.fit(X_train, Y_train)\n",
        "NB_y_pred = gnb.predict(X_test)\n",
        "from sklearn.metrics import accuracy_score\n",
        "y_pred_train = gnb.predict(X_train)\n",
        "y_pred_train\n",
        "# print the scores on tra in Eng and test set\n",
        "print('Training set score: {:.4f}'.format(gnb.score(X_train, Y_train)))\n",
        "print('Test set score: {:.4f}'.format(gnb.score(X_test, Y_test)))\n",
        "from sklearn.metrics import confusion_matrix\n",
        "\n",
        "cm = confusion_matrix(Y_test, NB_y_pred)\n",
        "display_confusion_matrix(Y_test, NB_y_pred, score=score)"
      ]
    },
    {
      "cell_type": "code",
      "execution_count": null,
      "metadata": {
        "id": "muNhY42l1pzm"
      },
      "outputs": [],
      "source": [
        "from sklearn.neighbors import KNeighborsClassifier\n",
        "classifier = KNeighborsClassifier(n_neighbors=3)\n",
        "classifier.fit(X_train, Y_train)\n",
        "KNN_y_pred = classifier.predict(X_test)\n",
        "from sklearn.metrics import classification_report, confusion_matrix\n",
        "print(confusion_matrix(Y_test, KNN_y_pred))\n",
        "print(classification_report(Y_test, KNN_y_pred))"
      ]
    },
    {
      "cell_type": "code",
      "execution_count": null,
      "metadata": {
        "id": "BKSjF5ON1y96"
      },
      "outputs": [],
      "source": [
        "print (\"********************* HR And Face *********************\")\n",
        "print('SVM ----›',metrics.accuracy_score(Y_test, svm_prediction))\n",
        "print('RF ---->',metrics.accuracy_score(Y_test, rf_prediction))\n",
        "print('DT ----›',metrics.accuracy_score(Y_test, dt_prediction))\n",
        "print('NB ----›',metrics.accuracy_score(Y_test, NB_y_pred))\n",
        "print('KNN ----›',metrics.accuracy_score(Y_test, KNN_y_pred))\n",
        "\n",
        "\n",
        "\n"
      ]
    },
    {
      "cell_type": "code",
      "execution_count": null,
      "metadata": {
        "id": "2A3qskO815kr"
      },
      "outputs": [],
      "source": [
        "from sklearn.metrics import precision_score, recall_score, confusion_matrix\n",
        "cm\t= np.array(confusion_matrix(Y_test, rf_prediction, labels=[0,1]))\n",
        "confusion_mat= pd.DataFrame(cm, index = ['NORMAL', 'STRESSED'],\n",
        "columns =['NORMAL','STRESSED'])\n",
        "confusion_mat"
      ]
    },
    {
      "cell_type": "code",
      "execution_count": null,
      "metadata": {
        "id": "giUn1DXx196C"
      },
      "outputs": [],
      "source": [
        "sns.heatmap(cm,annot=True,fmt='g',cmap='Set3')"
      ]
    },
    {
      "cell_type": "code",
      "execution_count": null,
      "metadata": {
        "id": "0jdMEsyh1_-L"
      },
      "outputs": [],
      "source": [
        "from sklearn.metrics import accuracy_score\n",
        "print(accuracy_score(Y_test, rf_prediction))"
      ]
    },
    {
      "cell_type": "code",
      "execution_count": null,
      "metadata": {
        "id": "nz5bPUgI2CE5"
      },
      "outputs": [],
      "source": [
        "print(precision_score(Y_test, rf_prediction))"
      ]
    },
    {
      "cell_type": "code",
      "execution_count": null,
      "metadata": {
        "id": "p3lU1rJg2EcC"
      },
      "outputs": [],
      "source": [
        "print(recall_score(Y_test, rf_prediction))"
      ]
    },
    {
      "cell_type": "code",
      "execution_count": null,
      "metadata": {
        "id": "49U8ex3N2Hqn"
      },
      "outputs": [],
      "source": [
        "from sklearn.metrics import classification_report\n",
        "print(classification_report(Y_test, rf_prediction))"
      ]
    },
    {
      "cell_type": "code",
      "execution_count": null,
      "metadata": {
        "id": "M5-1sw_z2K2q"
      },
      "outputs": [],
      "source": [
        "from sklearn.metrics import roc_auc_score,auc,f1_score\n",
        "from sklearn.metrics import RocCurveDisplay\n",
        "ax = plt.gca()\n",
        "rfc_disp = RocCurveDisplay(rf, X_test, Y_test, ax=ax)\n",
        "plt.show()"
      ]
    },
    {
      "cell_type": "code",
      "execution_count": null,
      "metadata": {
        "id": "jZaj5uwN2NA0"
      },
      "outputs": [],
      "source": [
        "cv_score_rf1 = cross_val_score(estimator=rf, X=X_train, y=Y_train, cv=5, n_jobs=3)\n",
        "cv_score_rf2 = cross_val_score(estimator=rf, X=X_train, y=Y_train, cv=10, n_jobs=3)\n",
        "cv_score_rf3 = cross_val_score(estimator=rf, X=X_train, y=Y_train, cv=20, n_jobs=2)\n",
        "cv_score_rf4 = cross_val_score(estimator=rf, X=X_train, y=Y_train, cv=50, n_jobs=3)"
      ]
    },
    {
      "cell_type": "code",
      "execution_count": null,
      "metadata": {
        "id": "WpSfKb-G2SZ9"
      },
      "outputs": [],
      "source": [
        "cv_result = { 'rf5': cv_score_rf1, 'rf10': cv_score_rf2, 'rf20': cv_score_rf3, 'rf40': cv_score_rf4}\n",
        "cv_data = {model: [score.mean(), score.std()] for model, score in cv_result.items}\n",
        "cv_df=pd.DataFrame(cv_data, index=['Mean_accuracy', 'Variance'])\n",
        "cv_df"
      ]
    },
    {
      "cell_type": "code",
      "execution_count": null,
      "metadata": {
        "id": "beo1hE8R2Tqw"
      },
      "outputs": [],
      "source": []
    },
    {
      "cell_type": "markdown",
      "metadata": {
        "id": "Vkmd_4Yo5E2Y"
      },
      "source": [
        "HR GSR and Facial image data"
      ]
    },
    {
      "cell_type": "code",
      "execution_count": null,
      "metadata": {
        "id": "k1wFtebI5VKB"
      },
      "outputs": [],
      "source": [
        "train_df_raw = pd.read_csv('/content/drive/My Drive/BDA_Project/BDA_Project/face_phy.csv')\n",
        "train_df_raw.head()"
      ]
    },
    {
      "cell_type": "code",
      "execution_count": null,
      "metadata": {
        "id": "dQdvFTPM5qVH"
      },
      "outputs": [],
      "source": [
        "train_df_raw=train_df_raw.dropna()"
      ]
    },
    {
      "cell_type": "code",
      "execution_count": null,
      "metadata": {
        "id": "6QlXAnaN5tQr"
      },
      "outputs": [],
      "source": [
        "train_df = train_df_raw.copy()\n",
        "X = train_df.drop(['Condition'], 1)\n",
        "Y = train_df[ 'Condition' ]\n",
        "# be s ca Le our data, i t i s essent i a L fora smooth worh Eng o f the mode Le # Sca L ingmeans that each co Lunns as a 8 mean and a 1 van ance\n",
        "sc  = StandardScaler()\n",
        "X=pd.DataFrame(sc.fit_transform(X.values), index=X.index, columns=X.columns)\n",
        "# SpL itdataset for  /rodeL tes I ing\n",
        "X_train, X_test, Y_train, Y_test = train_test_split(X, Y, test_size=0.2, random_state=0)\n",
        "X_train.head()"
      ]
    },
    {
      "cell_type": "code",
      "execution_count": null,
      "metadata": {
        "id": "mbxjsRTS5uu4"
      },
      "outputs": [],
      "source": [
        "rf = RandomForestClassifier(n_estimators=200, random_state=42)\n",
        "rf.fit(X_train, Y_train)\n",
        "rf_prediction = rf.predict(X_test)\n",
        "score\t= metrics.accuracy_score(Y_test, rf_prediction)\n",
        "display_confusion_matrix(Y_test, rf_prediction, score=score)\n",
        "rf_score=rf_prediction"
      ]
    },
    {
      "cell_type": "code",
      "execution_count": null,
      "metadata": {
        "id": "GC_s_TWl5wVn"
      },
      "outputs": [],
      "source": [
        "dt = DecisionTreeClassifier(min_samples_split=15, min_samples_leaf=20, random_state=0)\n",
        "dt.fit(X_train, Y_train)\n",
        "dt_prediction = dt.predict(X_test)\n",
        "\n",
        "score=metrics.accuracy_score(Y_test, dt_prediction)\n",
        "display_confusion_matrix(Y_test, dt_prediction, score=score)"
      ]
    },
    {
      "cell_type": "code",
      "execution_count": null,
      "metadata": {
        "id": "uKB-z1b95yUq"
      },
      "outputs": [],
      "source": [
        "dt = DecisionTreeClassifier(min_samples_split=15, min_samples_leaf=20, random_state=0)\n",
        "dt.fit(X_train, Y_train)\n",
        "dt_prediction = dt.predict(X_test)\n",
        "\n",
        "score=metrics.accuracy_score(Y_test, dt_prediction)\n",
        "display_confusion_matrix(Y_test, dt_prediction, score=score)"
      ]
    },
    {
      "cell_type": "code",
      "execution_count": null,
      "metadata": {
        "id": "uoy7TGU252wr"
      },
      "outputs": [],
      "source": [
        "svm = SVC(gamma='auto', random_state=42)\n",
        "svm.fit(X_train, Y_train)\n",
        "svm_prediction = svm.predict(X_test)\n",
        "\n",
        "score=metrics.accuracy_score(Y_test, svm_prediction)\n",
        "display_confusion_matrix(Y_test, svm_prediction, score=score)"
      ]
    },
    {
      "cell_type": "code",
      "execution_count": null,
      "metadata": {
        "id": "lWHik8Jr54vz"
      },
      "outputs": [],
      "source": [
        "#train a Gaus s ian Nai ve Bayes c Las s ifi er on the tr'aining set\n",
        "from sklearn.naive_bayes import GaussianNB\n",
        "# ins tant i ate the code L\n",
        "gnb = GaussianNB()\n",
        "gnb.fit(X_train, Y_train)\n",
        "NB_y_pred = gnb.predict(X_test)\n",
        "from sklearn.metrics import accuracy_score\n",
        "y_pred_train = gnb.predict(X_train)\n",
        "y_pred_train\n",
        "# print the scores on tra in Eng and test set\n",
        "print('Training set score: {:.4f}'.format(gnb.score(X_train, Y_train)))\n",
        "print('Test set score: {:.4f}'.format(gnb.score(X_test, Y_test)))\n",
        "from sklearn.metrics import confusion_matrix\n",
        "\n",
        "cm = confusion_matrix(Y_test, NB_y_pred)\n",
        "display_confusion_matrix(Y_test, NB_y_pred, score=score)"
      ]
    },
    {
      "cell_type": "code",
      "execution_count": null,
      "metadata": {
        "id": "CVgswxEc56zE"
      },
      "outputs": [],
      "source": [
        "from sklearn.neighbors import KNeighborsClassifier\n",
        "classifier = KNeighborsClassifier(n_neighbors=3)\n",
        "classifier.fit(X_train, Y_train)\n",
        "KNN_y_pred = classifier.predict(X_test)\n",
        "from sklearn.metrics import classification_report, confusion_matrix\n",
        "print(confusion_matrix(Y_test, KNN_y_pred))\n",
        "print(classification_report(Y_test, KNN_y_pred))"
      ]
    },
    {
      "cell_type": "code",
      "execution_count": null,
      "metadata": {
        "id": "WCR-McI6597Z"
      },
      "outputs": [],
      "source": [
        "print (\"********************* HR and facial data*********************\")\n",
        "print('SVM ----›',metrics.accuracy_score(Y_test, svm_prediction))\n",
        "print('RF ---->',metrics.accuracy_score(Y_test, rf_prediction))\n",
        "print('DT ----›',metrics.accuracy_score(Y_test, dt_prediction))\n",
        "print('NB ----›',metrics.accuracy_score(Y_test, NB_y_pred))\n",
        "print('KNN ----›',metrics.accuracy_score(Y_test, KNN_y_pred))\n",
        "\n",
        "\n",
        "\n"
      ]
    },
    {
      "cell_type": "code",
      "execution_count": null,
      "metadata": {
        "id": "7kVyVXgJ6BoG"
      },
      "outputs": [],
      "source": [
        "from sklearn.metrics import precision_score, recall_score, confusion_matrix\n",
        "cm\t= np.array(confusion_matrix(Y_test, rf_prediction, labels=[0,1]))\n",
        "confusion_mat= pd.DataFrame(cm, index = ['NORMAL', 'STRESSED'],\n",
        "columns =['NORMAL','STRESSED'])\n",
        "confusion_mat"
      ]
    },
    {
      "cell_type": "code",
      "execution_count": null,
      "metadata": {
        "id": "dT1YN7hj6DvY"
      },
      "outputs": [],
      "source": [
        "sns.heatmap(cm,annot=True,fmt='g',cmap='Set3')"
      ]
    },
    {
      "cell_type": "code",
      "execution_count": null,
      "metadata": {
        "id": "_8AkTFcX6F1n"
      },
      "outputs": [],
      "source": [
        "from sklearn.metrics import accuracy_score\n",
        "print(accuracy_score(Y_test, rf_prediction))"
      ]
    },
    {
      "cell_type": "code",
      "execution_count": null,
      "metadata": {
        "id": "l_KCyOZs6IWq"
      },
      "outputs": [],
      "source": [
        "print(precision_score(Y_test, rf_prediction))"
      ]
    },
    {
      "cell_type": "code",
      "execution_count": null,
      "metadata": {
        "id": "2suKe7n76KLW"
      },
      "outputs": [],
      "source": [
        "print(recall_score(Y_test, rf_prediction))"
      ]
    },
    {
      "cell_type": "code",
      "execution_count": null,
      "metadata": {
        "id": "H1vDbWy86MaE"
      },
      "outputs": [],
      "source": [
        "from sklearn.metrics import classification_report\n",
        "print(classification_report(Y_test, rf_prediction))"
      ]
    },
    {
      "cell_type": "code",
      "execution_count": null,
      "metadata": {
        "id": "B8AnQm8e6PtK"
      },
      "outputs": [],
      "source": [
        "from sklearn.metrics import roc_auc_score,auc,f1_score\n",
        "from sklearn.metrics import RocCurveDisplay\n",
        "ax = plt.gca()\n",
        "rfc_disp = RocCurveDisplay(rf, X_test, Y_test, ax=ax)\n",
        "plt.show()"
      ]
    },
    {
      "cell_type": "code",
      "execution_count": null,
      "metadata": {
        "id": "P_biDvf16SNJ"
      },
      "outputs": [],
      "source": [
        "cv_score_rf1 = cross_val_score(estimator=rf, X=X_train, y=Y_train, cv=5, n_jobs=3)\n",
        "cv_score_rf2 = cross_val_score(estimator=rf, X=X_train, y=Y_train, cv=10, n_jobs=3)\n",
        "cv_score_rf3 = cross_val_score(estimator=rf, X=X_train, y=Y_train, cv=20, n_jobs=2)\n",
        "cv_score_rf4 = cross_val_score(estimator=rf, X=X_train, y=Y_train, cv=50, n_jobs=3)"
      ]
    },
    {
      "cell_type": "code",
      "execution_count": null,
      "metadata": {
        "id": "qDC34GoM6V1F"
      },
      "outputs": [],
      "source": [
        "cv_result = { 'rf5': cv_score_rf1, 'rf10': cv_score_rf2, 'rf20': cv_score_rf3, 'rf40': cv_score_rf4}\n",
        "cv_data = {model: [score.mean(), score.std()] for model, score in cv_result.items}\n",
        "cv_df=pd.DataFrame(cv_data, index=['Mean_accuracy', 'Variance'])\n",
        "cv_df"
      ]
    },
    {
      "cell_type": "code",
      "execution_count": null,
      "metadata": {
        "id": "Nm7RW9q26Y8v"
      },
      "outputs": [],
      "source": [
        "dictionary = {\"model\": ['KNN', 'SVM', 'DT', 'RF'], \"score\": [metrics.accuracy_score(Y_test, KNN_y_pred), metrics.accuracy_score(Y_test, svm_prediction),metrics.accuracy_score(Y_test, dt_prediction), metrics.accuracy_score(Y_test, rf_prediction)]}\n",
        "df1 = pd.DataFrame(dictionary)\n",
        "df1"
      ]
    },
    {
      "cell_type": "code",
      "execution_count": null,
      "metadata": {
        "id": "yR5iTPfg8_4X"
      },
      "outputs": [],
      "source": [
        "df1.head()"
      ]
    },
    {
      "cell_type": "code",
      "execution_count": null,
      "metadata": {
        "id": "Ao0N8YAd-aW3"
      },
      "outputs": [],
      "source": [
        "pip install plotly"
      ]
    },
    {
      "cell_type": "code",
      "execution_count": null,
      "metadata": {
        "id": "Q0kzvxq6-klG"
      },
      "outputs": [],
      "source": [
        "import plotly.graph_objs as go\n",
        "import plotly\n",
        "plotly.offline.init_notebook_mode()\n",
        "\n",
        "new_index5 = df1.score.sort_values(ascending=False).index.values\n",
        "sorted_data5=df1.reindex(new_index5)\n",
        "\n",
        "# creating trace\n",
        "\n",
        "trace1 = go.Bar(\n",
        "    x = sorted_data5.model,\n",
        "    y = sorted_data5.score,\n",
        "    name = \"score\",\n",
        "    marker = dict(color = 'rgba(100,10,10,0.5)',\n",
        "                  line = dict(color = 'rgb(10,10,0)')),\n",
        "    text = sorted_data5.model)\n",
        "dat = [trace1]\n",
        "layout = go.Layout(barmode=\"group\", title = 'scores of classification')\n",
        "fig = go.Figure(data=dat, layout=layout)\n",
        "plotly.offline.iplot(fig)"
      ]
    },
    {
      "cell_type": "code",
      "execution_count": null,
      "metadata": {
        "id": "gPrpz560AXXp"
      },
      "outputs": [],
      "source": [
        "X=['RF']\n",
        "Yprecision=[88.81]\n",
        "Zrecall=[91.70]\n",
        "\n",
        "X_axis=np.arange(len(X))\n",
        "\n",
        "plt.bar(X_axis-0.2, Yprecision, 0.4, lael='precision', color='#7f6f5f')\n",
        "plt.bar(X_axis-0.4, Zrecall, 0.4, lael='recall', color='#2d7f5e')\n",
        "plt.grid(color='#95a5a9', linestyle='--', linewidth=2, alpha=0.2)\n",
        "\n",
        "plt.xticks(X_axis, X)\n",
        "plt.xlabel(\"CLASSIFICATION MODEL EVALUATION\")\n",
        "plt.ylabel(\"ACCURACY IN PERCENTAGE(% )\")\n",
        "plt.title(\"CLASSIFICATION ANALYSIS\")\n",
        "plt.legend()\n",
        "plt.show()"
      ]
    },
    {
      "cell_type": "code",
      "execution_count": null,
      "metadata": {
        "id": "mhbVsLUfiyB1"
      },
      "outputs": [],
      "source": [
        "plotdata = pd.DataFrame({\n",
        "    \"Accuracy\": [88.48],\n",
        "    \"precision\": [88.81],\n",
        "    \"recall\": [91.70],\n",
        "    \"f-measure\":[90.23]\n",
        "  },\n",
        "  index=[\"RF\"]\n",
        ")\n",
        "\n",
        "ax = pl0tdata.plot(kind=\"bar\", width=0.6)\n",
        "plt.grid(color='#95a5a9', linestyle='--', linewidth=2, alpha=0.2)\n",
        "\n",
        "for p in ax.pathces:\n",
        "  ax.annotate(str(p.get_hieght()), (p.get_x()*1.005, p.get_height()*1.005))\n",
        "plt.xlabel(\"CLASSIFICATION MODEL EVALUATION\")\n",
        "plt.ylabel(\"ACCURACY IN PERCENTAGE(% )\")\n",
        "plt.title(\"CLASSIFICATION ANALYSIS\")\n"
      ]
    },
    {
      "cell_type": "code",
      "execution_count": null,
      "metadata": {
        "id": "0pPutHtwmnnG"
      },
      "outputs": [],
      "source": [
        "X = ['RANDOM FOREST']\n",
        "correct = [423]\n",
        "miss = [55]\n",
        "\n",
        "X_axis = np.arange(len(X))\n",
        "\n",
        "plt.bar(X_axis-0.2, correct, 0.3, label='CORRECTLY CLASSIFY', color='#7f6f5f')\n",
        "plt.bar(X_axis-0.6, miss, 0.3, lael='MISSCLASSIFY', color='#2d7f5e')\n",
        "plt.grid(color='#95a5a9', linestyle='--', linewidth=2, alpha=0.2)\n",
        "\n",
        "plt.xticks(X_axis, X)\n",
        "plt.xlabel(\"CLASSIFICATION MODEL EVALUATION\")\n",
        "plt.ylabel(\"ACCURACY IN PERCENTAGE(% )\")\n",
        "plt.title(\"CLASSIFICATION ANALYSIS\")\n",
        "plt.legend()\n",
        "plt.show()"
      ]
    },
    {
      "cell_type": "code",
      "execution_count": null,
      "metadata": {
        "id": "Lac116QxnWo7"
      },
      "outputs": [],
      "source": [
        "plotdata = pd.DataFrame({\n",
        "    \"SVM\": [60,58.15,73.26],\n",
        "    \"DT\": [67.37,66.22,65.34],\n",
        "    \"RF\": [77.86,68.20,77.66],\n",
        "    \"KNN\":[74.36,67.22,73.27]\n",
        "  },\n",
        "  index=[\"HRV\",\"GSR\",\"FACIAL\"]\n",
        ")\n",
        "\n",
        "ax = plotdata.plot(kind=\"bar\", width=0.6)\n",
        "plt.grid(color='#95a5a9', linestyle='--', linewidth=2, alpha=0.2)\n",
        "\n",
        "for p in ax.pathces:\n",
        "  ax.annotate(str(p.get_hieght()), (p.get_x()*1.005, p.get_height()*1.005))\n",
        "plt.xlabel(\"CLASSIFICATION MODEL EVALUATION\")\n",
        "plt.ylabel(\"ACCURACY IN PERCENTAGE(% )\")\n",
        "plt.title(\"CLASSIFICATION ANALYSIS\")\n"
      ]
    },
    {
      "cell_type": "code",
      "execution_count": null,
      "metadata": {
        "id": "o3MimjO0oK-k"
      },
      "outputs": [],
      "source": [
        "plotdata = pd.DataFrame({\n",
        "    \"RF\": [87.22,87.43,87.95,87.96]\n",
        "  },\n",
        "  index=['k=5','k=10','k=20','k=50']\n",
        ")\n",
        "\n",
        "ax = plotdata.plot(kind=\"line\", width=0.6)\n",
        "plt.grid(color='#95a5a9', linestyle='--', linewidth=2, alpha=0.2)\n",
        "\n",
        "for p in ax.pathces:\n",
        "  ax.annotate(str(p.get_hieght()), (p.get_x()*1.005, p.get_height()*1.005))\n",
        "plt.xlabel(\"CROSS VALIDATION MODEL EVALUATION\")\n",
        "plt.ylabel(\"ACCURACY IN PERCENTAGE(% )\")\n",
        "plt.title(\"CROSS VALIDATION WITH K VALUE\")\n"
      ]
    },
    {
      "cell_type": "code",
      "execution_count": null,
      "metadata": {
        "id": "bI6mRJRupLiq"
      },
      "outputs": [],
      "source": [
        "X=['HR', 'GSR','FACIAL', 'HR+GSR','GSR+FACIAL', 'HR+GSR+FACIAL']\n",
        "SVM=[60,58.15,73.26,59.53,76.18,78.97,83.26]\n",
        "DT=[67.37,66.22,65.14,73.67,72.15,68.45,71.54]\n",
        "RF=[77.86,68.20,77.66,82.21,84.59,85.77,88.49]\n",
        "KNN=[74.36,67.22,73.27,76.42,77.23,81.86,82]\n",
        "\n",
        "X_axis=np.arange(len(X))\n",
        "\n",
        "plt.bar(X_axis-0.2, SVM, 0.4, lael='SVM', color='green',edgecolor='black')\n",
        "plt.bar(X_axis+0.2, DT, 0.4, lael='DT', color='red',edgecolor='black')\n",
        "plt.bar(X_axis+0.2, RF, 0.4, lael='RF', color='green',edgecolor='black')\n",
        "plt.bar(X_axis+0.2, KNN, 0.4, lael='KNN', color='red',edgecolor='black')\n",
        "\n",
        "plt.xticks(X_axis, X)\n",
        "plt.xlabel(\"CLASSIFICATION MODEL EVALUATION\")\n",
        "plt.ylabel(\"ACCURACY IN PERCENTAGE(% )\")\n",
        "plt.title(\"CLASSIFICATION ANALYSIS\")\n",
        "plt.legend()\n",
        "plt.show()"
      ]
    },
    {
      "cell_type": "code",
      "execution_count": null,
      "metadata": {
        "id": "Yei0URASsZcP"
      },
      "outputs": [],
      "source": [
        "X = ['HR+GSR','GSR+FACIAL', 'HR+GSR+FACIAL']\n",
        "\n",
        "RF = [82.21,84.59,85.77,88.49]\n",
        "\n",
        "X_axis=np.arange(len(X))\n",
        "\n",
        "plt.var(X_axis-0.2,RF, 0.5, color='#7f6f5f',edgecolr='black')\n",
        "\n",
        "plt.xticks(X_axis, X)\n",
        "plt.xlabel(\"CLASSIFICATION MODEL EVALUATION\")\n",
        "plt.ylabel(\"ACCURACY IN PERCENTAGE(% )\")\n",
        "plt.title(\"CLASSIFICATION ANALYSIS\")\n",
        "plt.legend()\n",
        "plt.show()"
      ]
    },
    {
      "cell_type": "code",
      "execution_count": null,
      "metadata": {
        "id": "gBQC3Cf1tDbn"
      },
      "outputs": [],
      "source": [
        "from skelarn import metrics\n",
        "\n",
        "print('Mean Absolute Error', metrics.mean_absolute_error(Y_test, rf_prediction))\n",
        "print('Mean Squared Error', metrics.mean_squared_error(Y_test, rf_prediction))\n",
        "print('Root Mean Squared Error', nq.sqrt(metrics.mean_absolute_error(Y_test, rf_prediction)))"
      ]
    },
    {
      "cell_type": "code",
      "execution_count": null,
      "metadata": {
        "id": "YESc5KWgtpZ7"
      },
      "outputs": [],
      "source": [
        "print('----------------Confusion Matrix------------------')\n",
        "print(confusion_matrix(Y_test, rf_prediction))\n",
        "print('\\n')\n",
        "print('----------------Classification Report---------------')\n",
        "print(classification_report(Y_test, rf_prediction))"
      ]
    }
  ],
  "metadata": {
    "colab": {
      "provenance": []
    },
    "kernelspec": {
      "display_name": "Python 3",
      "name": "python3"
    },
    "language_info": {
      "name": "python"
    }
  },
  "nbformat": 4,
  "nbformat_minor": 0
}